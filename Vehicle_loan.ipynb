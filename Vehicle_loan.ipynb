{
  "nbformat": 4,
  "nbformat_minor": 0,
  "metadata": {
    "colab": {
      "name": "Vehicle_loan.ipynb",
      "version": "0.3.2",
      "provenance": [],
      "collapsed_sections": [],
      "include_colab_link": true
    },
    "kernelspec": {
      "name": "python3",
      "display_name": "Python 3"
    }
  },
  "cells": [
    {
      "cell_type": "markdown",
      "metadata": {
        "id": "view-in-github",
        "colab_type": "text"
      },
      "source": [
        "<a href=\"https://colab.research.google.com/github/Ayanlola2002/Datalit/blob/master/Vehicle_loan.ipynb\" target=\"_parent\"><img src=\"https://colab.research.google.com/assets/colab-badge.svg\" alt=\"Open In Colab\"/></a>"
      ]
    },
    {
      "metadata": {
        "id": "pOn5ijz16bQ6",
        "colab_type": "code",
        "colab": {}
      },
      "cell_type": "code",
      "source": [
        "#load important libraries\n",
        "import pandas as pd \n",
        "import numpy as np                    \n",
        "import seaborn as sns                  \n",
        "import matplotlib.pyplot as plt      \n",
        "import warnings                       "
      ],
      "execution_count": 0,
      "outputs": []
    },
    {
      "metadata": {
        "id": "AK3ipvDr8nxY",
        "colab_type": "code",
        "colab": {}
      },
      "cell_type": "code",
      "source": [
        "#unzipping the train folder\n",
        "from shutil import unpack_archive\n",
        "unpack_archive('train_aox2Jxw.zip')"
      ],
      "execution_count": 0,
      "outputs": []
    },
    {
      "metadata": {
        "id": "PxK8z0CJ-Ybr",
        "colab_type": "code",
        "colab": {}
      },
      "cell_type": "code",
      "source": [
        "# reading the data\n",
        "train_Data = pd.read_csv('train.csv')\n",
        "test_Data = pd.read_csv('test_bqCt9Pv.csv')"
      ],
      "execution_count": 0,
      "outputs": []
    },
    {
      "metadata": {
        "id": "brzY_0vIEGOb",
        "colab_type": "code",
        "colab": {
          "base_uri": "https://localhost:8080/",
          "height": 51
        },
        "outputId": "a5a1487f-1b3b-415f-a34e-77b912cad097"
      },
      "cell_type": "code",
      "source": [
        "# getting the shapes of the datasets\n",
        "print(\"Shape of Train :\", train_Data.shape)\n",
        "print(\"Shape of Test :\", test_Data.shape)"
      ],
      "execution_count": 122,
      "outputs": [
        {
          "output_type": "stream",
          "text": [
            "Shape of Train : (233154, 41)\n",
            "Shape of Test : (112392, 40)\n"
          ],
          "name": "stdout"
        }
      ]
    },
    {
      "metadata": {
        "id": "AsVwOc_EES3I",
        "colab_type": "code",
        "colab": {
          "base_uri": "https://localhost:8080/",
          "height": 253
        },
        "outputId": "1e0c4b86-51e3-424a-e3da-6a95909cbf69"
      },
      "cell_type": "code",
      "source": [
        "# lets look at the head of the train\n",
        "\n",
        "train_Data.head()"
      ],
      "execution_count": 123,
      "outputs": [
        {
          "output_type": "execute_result",
          "data": {
            "text/html": [
              "<div>\n",
              "<style scoped>\n",
              "    .dataframe tbody tr th:only-of-type {\n",
              "        vertical-align: middle;\n",
              "    }\n",
              "\n",
              "    .dataframe tbody tr th {\n",
              "        vertical-align: top;\n",
              "    }\n",
              "\n",
              "    .dataframe thead th {\n",
              "        text-align: right;\n",
              "    }\n",
              "</style>\n",
              "<table border=\"1\" class=\"dataframe\">\n",
              "  <thead>\n",
              "    <tr style=\"text-align: right;\">\n",
              "      <th></th>\n",
              "      <th>UniqueID</th>\n",
              "      <th>disbursed_amount</th>\n",
              "      <th>asset_cost</th>\n",
              "      <th>ltv</th>\n",
              "      <th>branch_id</th>\n",
              "      <th>supplier_id</th>\n",
              "      <th>manufacturer_id</th>\n",
              "      <th>Current_pincode_ID</th>\n",
              "      <th>Date.of.Birth</th>\n",
              "      <th>Employment.Type</th>\n",
              "      <th>...</th>\n",
              "      <th>SEC.SANCTIONED.AMOUNT</th>\n",
              "      <th>SEC.DISBURSED.AMOUNT</th>\n",
              "      <th>PRIMARY.INSTAL.AMT</th>\n",
              "      <th>SEC.INSTAL.AMT</th>\n",
              "      <th>NEW.ACCTS.IN.LAST.SIX.MONTHS</th>\n",
              "      <th>DELINQUENT.ACCTS.IN.LAST.SIX.MONTHS</th>\n",
              "      <th>AVERAGE.ACCT.AGE</th>\n",
              "      <th>CREDIT.HISTORY.LENGTH</th>\n",
              "      <th>NO.OF_INQUIRIES</th>\n",
              "      <th>loan_default</th>\n",
              "    </tr>\n",
              "  </thead>\n",
              "  <tbody>\n",
              "    <tr>\n",
              "      <th>0</th>\n",
              "      <td>420825</td>\n",
              "      <td>50578</td>\n",
              "      <td>58400</td>\n",
              "      <td>89.55</td>\n",
              "      <td>67</td>\n",
              "      <td>22807</td>\n",
              "      <td>45</td>\n",
              "      <td>1441</td>\n",
              "      <td>01-01-84</td>\n",
              "      <td>Salaried</td>\n",
              "      <td>...</td>\n",
              "      <td>0</td>\n",
              "      <td>0</td>\n",
              "      <td>0</td>\n",
              "      <td>0</td>\n",
              "      <td>0</td>\n",
              "      <td>0</td>\n",
              "      <td>0yrs 0mon</td>\n",
              "      <td>0yrs 0mon</td>\n",
              "      <td>0</td>\n",
              "      <td>0</td>\n",
              "    </tr>\n",
              "    <tr>\n",
              "      <th>1</th>\n",
              "      <td>537409</td>\n",
              "      <td>47145</td>\n",
              "      <td>65550</td>\n",
              "      <td>73.23</td>\n",
              "      <td>67</td>\n",
              "      <td>22807</td>\n",
              "      <td>45</td>\n",
              "      <td>1502</td>\n",
              "      <td>31-07-85</td>\n",
              "      <td>Self employed</td>\n",
              "      <td>...</td>\n",
              "      <td>0</td>\n",
              "      <td>0</td>\n",
              "      <td>1991</td>\n",
              "      <td>0</td>\n",
              "      <td>0</td>\n",
              "      <td>1</td>\n",
              "      <td>1yrs 11mon</td>\n",
              "      <td>1yrs 11mon</td>\n",
              "      <td>0</td>\n",
              "      <td>1</td>\n",
              "    </tr>\n",
              "    <tr>\n",
              "      <th>2</th>\n",
              "      <td>417566</td>\n",
              "      <td>53278</td>\n",
              "      <td>61360</td>\n",
              "      <td>89.63</td>\n",
              "      <td>67</td>\n",
              "      <td>22807</td>\n",
              "      <td>45</td>\n",
              "      <td>1497</td>\n",
              "      <td>24-08-85</td>\n",
              "      <td>Self employed</td>\n",
              "      <td>...</td>\n",
              "      <td>0</td>\n",
              "      <td>0</td>\n",
              "      <td>0</td>\n",
              "      <td>0</td>\n",
              "      <td>0</td>\n",
              "      <td>0</td>\n",
              "      <td>0yrs 0mon</td>\n",
              "      <td>0yrs 0mon</td>\n",
              "      <td>0</td>\n",
              "      <td>0</td>\n",
              "    </tr>\n",
              "    <tr>\n",
              "      <th>3</th>\n",
              "      <td>624493</td>\n",
              "      <td>57513</td>\n",
              "      <td>66113</td>\n",
              "      <td>88.48</td>\n",
              "      <td>67</td>\n",
              "      <td>22807</td>\n",
              "      <td>45</td>\n",
              "      <td>1501</td>\n",
              "      <td>30-12-93</td>\n",
              "      <td>Self employed</td>\n",
              "      <td>...</td>\n",
              "      <td>0</td>\n",
              "      <td>0</td>\n",
              "      <td>31</td>\n",
              "      <td>0</td>\n",
              "      <td>0</td>\n",
              "      <td>0</td>\n",
              "      <td>0yrs 8mon</td>\n",
              "      <td>1yrs 3mon</td>\n",
              "      <td>1</td>\n",
              "      <td>1</td>\n",
              "    </tr>\n",
              "    <tr>\n",
              "      <th>4</th>\n",
              "      <td>539055</td>\n",
              "      <td>52378</td>\n",
              "      <td>60300</td>\n",
              "      <td>88.39</td>\n",
              "      <td>67</td>\n",
              "      <td>22807</td>\n",
              "      <td>45</td>\n",
              "      <td>1495</td>\n",
              "      <td>09-12-77</td>\n",
              "      <td>Self employed</td>\n",
              "      <td>...</td>\n",
              "      <td>0</td>\n",
              "      <td>0</td>\n",
              "      <td>0</td>\n",
              "      <td>0</td>\n",
              "      <td>0</td>\n",
              "      <td>0</td>\n",
              "      <td>0yrs 0mon</td>\n",
              "      <td>0yrs 0mon</td>\n",
              "      <td>1</td>\n",
              "      <td>1</td>\n",
              "    </tr>\n",
              "  </tbody>\n",
              "</table>\n",
              "<p>5 rows × 41 columns</p>\n",
              "</div>"
            ],
            "text/plain": [
              "   UniqueID  disbursed_amount  asset_cost    ltv  branch_id  supplier_id  \\\n",
              "0    420825             50578       58400  89.55         67        22807   \n",
              "1    537409             47145       65550  73.23         67        22807   \n",
              "2    417566             53278       61360  89.63         67        22807   \n",
              "3    624493             57513       66113  88.48         67        22807   \n",
              "4    539055             52378       60300  88.39         67        22807   \n",
              "\n",
              "   manufacturer_id  Current_pincode_ID Date.of.Birth Employment.Type  \\\n",
              "0               45                1441      01-01-84        Salaried   \n",
              "1               45                1502      31-07-85   Self employed   \n",
              "2               45                1497      24-08-85   Self employed   \n",
              "3               45                1501      30-12-93   Self employed   \n",
              "4               45                1495      09-12-77   Self employed   \n",
              "\n",
              "       ...      SEC.SANCTIONED.AMOUNT  SEC.DISBURSED.AMOUNT  \\\n",
              "0      ...                          0                     0   \n",
              "1      ...                          0                     0   \n",
              "2      ...                          0                     0   \n",
              "3      ...                          0                     0   \n",
              "4      ...                          0                     0   \n",
              "\n",
              "   PRIMARY.INSTAL.AMT  SEC.INSTAL.AMT  NEW.ACCTS.IN.LAST.SIX.MONTHS  \\\n",
              "0                   0               0                             0   \n",
              "1                1991               0                             0   \n",
              "2                   0               0                             0   \n",
              "3                  31               0                             0   \n",
              "4                   0               0                             0   \n",
              "\n",
              "   DELINQUENT.ACCTS.IN.LAST.SIX.MONTHS  AVERAGE.ACCT.AGE  \\\n",
              "0                                    0         0yrs 0mon   \n",
              "1                                    1        1yrs 11mon   \n",
              "2                                    0         0yrs 0mon   \n",
              "3                                    0         0yrs 8mon   \n",
              "4                                    0         0yrs 0mon   \n",
              "\n",
              "   CREDIT.HISTORY.LENGTH  NO.OF_INQUIRIES  loan_default  \n",
              "0              0yrs 0mon                0             0  \n",
              "1             1yrs 11mon                0             1  \n",
              "2              0yrs 0mon                0             0  \n",
              "3              1yrs 3mon                1             1  \n",
              "4              0yrs 0mon                1             1  \n",
              "\n",
              "[5 rows x 41 columns]"
            ]
          },
          "metadata": {
            "tags": []
          },
          "execution_count": 123
        }
      ]
    },
    {
      "metadata": {
        "id": "1wK3PuM6EWmD",
        "colab_type": "code",
        "colab": {
          "base_uri": "https://localhost:8080/",
          "height": 253
        },
        "outputId": "d8ef4e71-3cb5-4959-e0a6-3164f3af1350"
      },
      "cell_type": "code",
      "source": [
        "# lets look at the head of the test data\n",
        "\n",
        "test_Data.head()"
      ],
      "execution_count": 124,
      "outputs": [
        {
          "output_type": "execute_result",
          "data": {
            "text/html": [
              "<div>\n",
              "<style scoped>\n",
              "    .dataframe tbody tr th:only-of-type {\n",
              "        vertical-align: middle;\n",
              "    }\n",
              "\n",
              "    .dataframe tbody tr th {\n",
              "        vertical-align: top;\n",
              "    }\n",
              "\n",
              "    .dataframe thead th {\n",
              "        text-align: right;\n",
              "    }\n",
              "</style>\n",
              "<table border=\"1\" class=\"dataframe\">\n",
              "  <thead>\n",
              "    <tr style=\"text-align: right;\">\n",
              "      <th></th>\n",
              "      <th>UniqueID</th>\n",
              "      <th>disbursed_amount</th>\n",
              "      <th>asset_cost</th>\n",
              "      <th>ltv</th>\n",
              "      <th>branch_id</th>\n",
              "      <th>supplier_id</th>\n",
              "      <th>manufacturer_id</th>\n",
              "      <th>Current_pincode_ID</th>\n",
              "      <th>Date.of.Birth</th>\n",
              "      <th>Employment.Type</th>\n",
              "      <th>...</th>\n",
              "      <th>SEC.CURRENT.BALANCE</th>\n",
              "      <th>SEC.SANCTIONED.AMOUNT</th>\n",
              "      <th>SEC.DISBURSED.AMOUNT</th>\n",
              "      <th>PRIMARY.INSTAL.AMT</th>\n",
              "      <th>SEC.INSTAL.AMT</th>\n",
              "      <th>NEW.ACCTS.IN.LAST.SIX.MONTHS</th>\n",
              "      <th>DELINQUENT.ACCTS.IN.LAST.SIX.MONTHS</th>\n",
              "      <th>AVERAGE.ACCT.AGE</th>\n",
              "      <th>CREDIT.HISTORY.LENGTH</th>\n",
              "      <th>NO.OF_INQUIRIES</th>\n",
              "    </tr>\n",
              "  </thead>\n",
              "  <tbody>\n",
              "    <tr>\n",
              "      <th>0</th>\n",
              "      <td>655269</td>\n",
              "      <td>53478</td>\n",
              "      <td>63558</td>\n",
              "      <td>86.54</td>\n",
              "      <td>67</td>\n",
              "      <td>22807</td>\n",
              "      <td>45</td>\n",
              "      <td>1497</td>\n",
              "      <td>01-01-74</td>\n",
              "      <td>Salaried</td>\n",
              "      <td>...</td>\n",
              "      <td>0</td>\n",
              "      <td>0</td>\n",
              "      <td>0</td>\n",
              "      <td>0</td>\n",
              "      <td>0</td>\n",
              "      <td>0</td>\n",
              "      <td>0</td>\n",
              "      <td>0yrs 0mon</td>\n",
              "      <td>0yrs 0mon</td>\n",
              "      <td>0</td>\n",
              "    </tr>\n",
              "    <tr>\n",
              "      <th>1</th>\n",
              "      <td>723482</td>\n",
              "      <td>55513</td>\n",
              "      <td>63163</td>\n",
              "      <td>89.45</td>\n",
              "      <td>67</td>\n",
              "      <td>22807</td>\n",
              "      <td>45</td>\n",
              "      <td>1497</td>\n",
              "      <td>20-05-85</td>\n",
              "      <td>Self employed</td>\n",
              "      <td>...</td>\n",
              "      <td>0</td>\n",
              "      <td>0</td>\n",
              "      <td>0</td>\n",
              "      <td>5605</td>\n",
              "      <td>0</td>\n",
              "      <td>1</td>\n",
              "      <td>0</td>\n",
              "      <td>0yrs 8mon</td>\n",
              "      <td>1yrs 0mon</td>\n",
              "      <td>1</td>\n",
              "    </tr>\n",
              "    <tr>\n",
              "      <th>2</th>\n",
              "      <td>758529</td>\n",
              "      <td>65282</td>\n",
              "      <td>84320</td>\n",
              "      <td>79.93</td>\n",
              "      <td>78</td>\n",
              "      <td>23135</td>\n",
              "      <td>86</td>\n",
              "      <td>2071</td>\n",
              "      <td>14-10-95</td>\n",
              "      <td>Salaried</td>\n",
              "      <td>...</td>\n",
              "      <td>0</td>\n",
              "      <td>0</td>\n",
              "      <td>0</td>\n",
              "      <td>0</td>\n",
              "      <td>0</td>\n",
              "      <td>0</td>\n",
              "      <td>0</td>\n",
              "      <td>0yrs 0mon</td>\n",
              "      <td>0yrs 0mon</td>\n",
              "      <td>0</td>\n",
              "    </tr>\n",
              "    <tr>\n",
              "      <th>3</th>\n",
              "      <td>763449</td>\n",
              "      <td>46905</td>\n",
              "      <td>63896</td>\n",
              "      <td>76.58</td>\n",
              "      <td>78</td>\n",
              "      <td>17014</td>\n",
              "      <td>45</td>\n",
              "      <td>2070</td>\n",
              "      <td>01-06-73</td>\n",
              "      <td>Self employed</td>\n",
              "      <td>...</td>\n",
              "      <td>0</td>\n",
              "      <td>0</td>\n",
              "      <td>0</td>\n",
              "      <td>0</td>\n",
              "      <td>0</td>\n",
              "      <td>0</td>\n",
              "      <td>0</td>\n",
              "      <td>2yrs 5mon</td>\n",
              "      <td>2yrs 5mon</td>\n",
              "      <td>0</td>\n",
              "    </tr>\n",
              "    <tr>\n",
              "      <th>4</th>\n",
              "      <td>708663</td>\n",
              "      <td>51428</td>\n",
              "      <td>63896</td>\n",
              "      <td>86.08</td>\n",
              "      <td>78</td>\n",
              "      <td>17014</td>\n",
              "      <td>45</td>\n",
              "      <td>2069</td>\n",
              "      <td>01-06-72</td>\n",
              "      <td>Salaried</td>\n",
              "      <td>...</td>\n",
              "      <td>0</td>\n",
              "      <td>0</td>\n",
              "      <td>0</td>\n",
              "      <td>0</td>\n",
              "      <td>0</td>\n",
              "      <td>0</td>\n",
              "      <td>0</td>\n",
              "      <td>0yrs 0mon</td>\n",
              "      <td>0yrs 0mon</td>\n",
              "      <td>0</td>\n",
              "    </tr>\n",
              "  </tbody>\n",
              "</table>\n",
              "<p>5 rows × 40 columns</p>\n",
              "</div>"
            ],
            "text/plain": [
              "   UniqueID  disbursed_amount  asset_cost    ltv  branch_id  supplier_id  \\\n",
              "0    655269             53478       63558  86.54         67        22807   \n",
              "1    723482             55513       63163  89.45         67        22807   \n",
              "2    758529             65282       84320  79.93         78        23135   \n",
              "3    763449             46905       63896  76.58         78        17014   \n",
              "4    708663             51428       63896  86.08         78        17014   \n",
              "\n",
              "   manufacturer_id  Current_pincode_ID Date.of.Birth Employment.Type  \\\n",
              "0               45                1497      01-01-74        Salaried   \n",
              "1               45                1497      20-05-85   Self employed   \n",
              "2               86                2071      14-10-95        Salaried   \n",
              "3               45                2070      01-06-73   Self employed   \n",
              "4               45                2069      01-06-72        Salaried   \n",
              "\n",
              "        ...        SEC.CURRENT.BALANCE  SEC.SANCTIONED.AMOUNT  \\\n",
              "0       ...                          0                      0   \n",
              "1       ...                          0                      0   \n",
              "2       ...                          0                      0   \n",
              "3       ...                          0                      0   \n",
              "4       ...                          0                      0   \n",
              "\n",
              "   SEC.DISBURSED.AMOUNT  PRIMARY.INSTAL.AMT  SEC.INSTAL.AMT  \\\n",
              "0                     0                   0               0   \n",
              "1                     0                5605               0   \n",
              "2                     0                   0               0   \n",
              "3                     0                   0               0   \n",
              "4                     0                   0               0   \n",
              "\n",
              "   NEW.ACCTS.IN.LAST.SIX.MONTHS  DELINQUENT.ACCTS.IN.LAST.SIX.MONTHS  \\\n",
              "0                             0                                    0   \n",
              "1                             1                                    0   \n",
              "2                             0                                    0   \n",
              "3                             0                                    0   \n",
              "4                             0                                    0   \n",
              "\n",
              "   AVERAGE.ACCT.AGE  CREDIT.HISTORY.LENGTH  NO.OF_INQUIRIES  \n",
              "0         0yrs 0mon              0yrs 0mon                0  \n",
              "1         0yrs 8mon              1yrs 0mon                1  \n",
              "2         0yrs 0mon              0yrs 0mon                0  \n",
              "3         2yrs 5mon              2yrs 5mon                0  \n",
              "4         0yrs 0mon              0yrs 0mon                0  \n",
              "\n",
              "[5 rows x 40 columns]"
            ]
          },
          "metadata": {
            "tags": []
          },
          "execution_count": 124
        }
      ]
    },
    {
      "metadata": {
        "id": "gdN1BkBfEZxH",
        "colab_type": "code",
        "colab": {
          "base_uri": "https://localhost:8080/",
          "height": 346
        },
        "outputId": "58f20f9a-e379-44b5-c821-4d9a13828bff"
      },
      "cell_type": "code",
      "source": [
        "# let's decsribe the train set\n",
        "\n",
        "train_Data.describe()"
      ],
      "execution_count": 125,
      "outputs": [
        {
          "output_type": "execute_result",
          "data": {
            "text/html": [
              "<div>\n",
              "<style scoped>\n",
              "    .dataframe tbody tr th:only-of-type {\n",
              "        vertical-align: middle;\n",
              "    }\n",
              "\n",
              "    .dataframe tbody tr th {\n",
              "        vertical-align: top;\n",
              "    }\n",
              "\n",
              "    .dataframe thead th {\n",
              "        text-align: right;\n",
              "    }\n",
              "</style>\n",
              "<table border=\"1\" class=\"dataframe\">\n",
              "  <thead>\n",
              "    <tr style=\"text-align: right;\">\n",
              "      <th></th>\n",
              "      <th>UniqueID</th>\n",
              "      <th>disbursed_amount</th>\n",
              "      <th>asset_cost</th>\n",
              "      <th>ltv</th>\n",
              "      <th>branch_id</th>\n",
              "      <th>supplier_id</th>\n",
              "      <th>manufacturer_id</th>\n",
              "      <th>Current_pincode_ID</th>\n",
              "      <th>State_ID</th>\n",
              "      <th>Employee_code_ID</th>\n",
              "      <th>...</th>\n",
              "      <th>SEC.OVERDUE.ACCTS</th>\n",
              "      <th>SEC.CURRENT.BALANCE</th>\n",
              "      <th>SEC.SANCTIONED.AMOUNT</th>\n",
              "      <th>SEC.DISBURSED.AMOUNT</th>\n",
              "      <th>PRIMARY.INSTAL.AMT</th>\n",
              "      <th>SEC.INSTAL.AMT</th>\n",
              "      <th>NEW.ACCTS.IN.LAST.SIX.MONTHS</th>\n",
              "      <th>DELINQUENT.ACCTS.IN.LAST.SIX.MONTHS</th>\n",
              "      <th>NO.OF_INQUIRIES</th>\n",
              "      <th>loan_default</th>\n",
              "    </tr>\n",
              "  </thead>\n",
              "  <tbody>\n",
              "    <tr>\n",
              "      <th>count</th>\n",
              "      <td>233154.000000</td>\n",
              "      <td>233154.000000</td>\n",
              "      <td>2.331540e+05</td>\n",
              "      <td>233154.000000</td>\n",
              "      <td>233154.000000</td>\n",
              "      <td>233154.000000</td>\n",
              "      <td>233154.000000</td>\n",
              "      <td>233154.000000</td>\n",
              "      <td>233154.000000</td>\n",
              "      <td>233154.000000</td>\n",
              "      <td>...</td>\n",
              "      <td>233154.000000</td>\n",
              "      <td>2.331540e+05</td>\n",
              "      <td>2.331540e+05</td>\n",
              "      <td>2.331540e+05</td>\n",
              "      <td>2.331540e+05</td>\n",
              "      <td>2.331540e+05</td>\n",
              "      <td>233154.000000</td>\n",
              "      <td>233154.000000</td>\n",
              "      <td>233154.000000</td>\n",
              "      <td>233154.000000</td>\n",
              "    </tr>\n",
              "    <tr>\n",
              "      <th>mean</th>\n",
              "      <td>535917.573376</td>\n",
              "      <td>54356.993528</td>\n",
              "      <td>7.586507e+04</td>\n",
              "      <td>74.746530</td>\n",
              "      <td>72.936094</td>\n",
              "      <td>19638.635035</td>\n",
              "      <td>69.028054</td>\n",
              "      <td>3396.880247</td>\n",
              "      <td>7.262243</td>\n",
              "      <td>1549.477148</td>\n",
              "      <td>...</td>\n",
              "      <td>0.007244</td>\n",
              "      <td>5.427793e+03</td>\n",
              "      <td>7.295923e+03</td>\n",
              "      <td>7.179998e+03</td>\n",
              "      <td>1.310548e+04</td>\n",
              "      <td>3.232684e+02</td>\n",
              "      <td>0.381833</td>\n",
              "      <td>0.097481</td>\n",
              "      <td>0.206615</td>\n",
              "      <td>0.217071</td>\n",
              "    </tr>\n",
              "    <tr>\n",
              "      <th>std</th>\n",
              "      <td>68315.693711</td>\n",
              "      <td>12971.314171</td>\n",
              "      <td>1.894478e+04</td>\n",
              "      <td>11.456636</td>\n",
              "      <td>69.834995</td>\n",
              "      <td>3491.949566</td>\n",
              "      <td>22.141304</td>\n",
              "      <td>2238.147502</td>\n",
              "      <td>4.482230</td>\n",
              "      <td>975.261278</td>\n",
              "      <td>...</td>\n",
              "      <td>0.111079</td>\n",
              "      <td>1.702370e+05</td>\n",
              "      <td>1.831560e+05</td>\n",
              "      <td>1.825925e+05</td>\n",
              "      <td>1.513679e+05</td>\n",
              "      <td>1.555369e+04</td>\n",
              "      <td>0.955107</td>\n",
              "      <td>0.384439</td>\n",
              "      <td>0.706498</td>\n",
              "      <td>0.412252</td>\n",
              "    </tr>\n",
              "    <tr>\n",
              "      <th>min</th>\n",
              "      <td>417428.000000</td>\n",
              "      <td>13320.000000</td>\n",
              "      <td>3.700000e+04</td>\n",
              "      <td>10.030000</td>\n",
              "      <td>1.000000</td>\n",
              "      <td>10524.000000</td>\n",
              "      <td>45.000000</td>\n",
              "      <td>1.000000</td>\n",
              "      <td>1.000000</td>\n",
              "      <td>1.000000</td>\n",
              "      <td>...</td>\n",
              "      <td>0.000000</td>\n",
              "      <td>-5.746470e+05</td>\n",
              "      <td>0.000000e+00</td>\n",
              "      <td>0.000000e+00</td>\n",
              "      <td>0.000000e+00</td>\n",
              "      <td>0.000000e+00</td>\n",
              "      <td>0.000000</td>\n",
              "      <td>0.000000</td>\n",
              "      <td>0.000000</td>\n",
              "      <td>0.000000</td>\n",
              "    </tr>\n",
              "    <tr>\n",
              "      <th>25%</th>\n",
              "      <td>476786.250000</td>\n",
              "      <td>47145.000000</td>\n",
              "      <td>6.571700e+04</td>\n",
              "      <td>68.880000</td>\n",
              "      <td>14.000000</td>\n",
              "      <td>16535.000000</td>\n",
              "      <td>48.000000</td>\n",
              "      <td>1511.000000</td>\n",
              "      <td>4.000000</td>\n",
              "      <td>713.000000</td>\n",
              "      <td>...</td>\n",
              "      <td>0.000000</td>\n",
              "      <td>0.000000e+00</td>\n",
              "      <td>0.000000e+00</td>\n",
              "      <td>0.000000e+00</td>\n",
              "      <td>0.000000e+00</td>\n",
              "      <td>0.000000e+00</td>\n",
              "      <td>0.000000</td>\n",
              "      <td>0.000000</td>\n",
              "      <td>0.000000</td>\n",
              "      <td>0.000000</td>\n",
              "    </tr>\n",
              "    <tr>\n",
              "      <th>50%</th>\n",
              "      <td>535978.500000</td>\n",
              "      <td>53803.000000</td>\n",
              "      <td>7.094600e+04</td>\n",
              "      <td>76.800000</td>\n",
              "      <td>61.000000</td>\n",
              "      <td>20333.000000</td>\n",
              "      <td>86.000000</td>\n",
              "      <td>2970.000000</td>\n",
              "      <td>6.000000</td>\n",
              "      <td>1451.000000</td>\n",
              "      <td>...</td>\n",
              "      <td>0.000000</td>\n",
              "      <td>0.000000e+00</td>\n",
              "      <td>0.000000e+00</td>\n",
              "      <td>0.000000e+00</td>\n",
              "      <td>0.000000e+00</td>\n",
              "      <td>0.000000e+00</td>\n",
              "      <td>0.000000</td>\n",
              "      <td>0.000000</td>\n",
              "      <td>0.000000</td>\n",
              "      <td>0.000000</td>\n",
              "    </tr>\n",
              "    <tr>\n",
              "      <th>75%</th>\n",
              "      <td>595039.750000</td>\n",
              "      <td>60413.000000</td>\n",
              "      <td>7.920175e+04</td>\n",
              "      <td>83.670000</td>\n",
              "      <td>130.000000</td>\n",
              "      <td>23000.000000</td>\n",
              "      <td>86.000000</td>\n",
              "      <td>5677.000000</td>\n",
              "      <td>10.000000</td>\n",
              "      <td>2362.000000</td>\n",
              "      <td>...</td>\n",
              "      <td>0.000000</td>\n",
              "      <td>0.000000e+00</td>\n",
              "      <td>0.000000e+00</td>\n",
              "      <td>0.000000e+00</td>\n",
              "      <td>1.999000e+03</td>\n",
              "      <td>0.000000e+00</td>\n",
              "      <td>0.000000</td>\n",
              "      <td>0.000000</td>\n",
              "      <td>0.000000</td>\n",
              "      <td>0.000000</td>\n",
              "    </tr>\n",
              "    <tr>\n",
              "      <th>max</th>\n",
              "      <td>671084.000000</td>\n",
              "      <td>990572.000000</td>\n",
              "      <td>1.628992e+06</td>\n",
              "      <td>95.000000</td>\n",
              "      <td>261.000000</td>\n",
              "      <td>24803.000000</td>\n",
              "      <td>156.000000</td>\n",
              "      <td>7345.000000</td>\n",
              "      <td>22.000000</td>\n",
              "      <td>3795.000000</td>\n",
              "      <td>...</td>\n",
              "      <td>8.000000</td>\n",
              "      <td>3.603285e+07</td>\n",
              "      <td>3.000000e+07</td>\n",
              "      <td>3.000000e+07</td>\n",
              "      <td>2.564281e+07</td>\n",
              "      <td>4.170901e+06</td>\n",
              "      <td>35.000000</td>\n",
              "      <td>20.000000</td>\n",
              "      <td>36.000000</td>\n",
              "      <td>1.000000</td>\n",
              "    </tr>\n",
              "  </tbody>\n",
              "</table>\n",
              "<p>8 rows × 35 columns</p>\n",
              "</div>"
            ],
            "text/plain": [
              "            UniqueID  disbursed_amount    asset_cost            ltv  \\\n",
              "count  233154.000000     233154.000000  2.331540e+05  233154.000000   \n",
              "mean   535917.573376      54356.993528  7.586507e+04      74.746530   \n",
              "std     68315.693711      12971.314171  1.894478e+04      11.456636   \n",
              "min    417428.000000      13320.000000  3.700000e+04      10.030000   \n",
              "25%    476786.250000      47145.000000  6.571700e+04      68.880000   \n",
              "50%    535978.500000      53803.000000  7.094600e+04      76.800000   \n",
              "75%    595039.750000      60413.000000  7.920175e+04      83.670000   \n",
              "max    671084.000000     990572.000000  1.628992e+06      95.000000   \n",
              "\n",
              "           branch_id    supplier_id  manufacturer_id  Current_pincode_ID  \\\n",
              "count  233154.000000  233154.000000    233154.000000       233154.000000   \n",
              "mean       72.936094   19638.635035        69.028054         3396.880247   \n",
              "std        69.834995    3491.949566        22.141304         2238.147502   \n",
              "min         1.000000   10524.000000        45.000000            1.000000   \n",
              "25%        14.000000   16535.000000        48.000000         1511.000000   \n",
              "50%        61.000000   20333.000000        86.000000         2970.000000   \n",
              "75%       130.000000   23000.000000        86.000000         5677.000000   \n",
              "max       261.000000   24803.000000       156.000000         7345.000000   \n",
              "\n",
              "            State_ID  Employee_code_ID      ...        SEC.OVERDUE.ACCTS  \\\n",
              "count  233154.000000     233154.000000      ...            233154.000000   \n",
              "mean        7.262243       1549.477148      ...                 0.007244   \n",
              "std         4.482230        975.261278      ...                 0.111079   \n",
              "min         1.000000          1.000000      ...                 0.000000   \n",
              "25%         4.000000        713.000000      ...                 0.000000   \n",
              "50%         6.000000       1451.000000      ...                 0.000000   \n",
              "75%        10.000000       2362.000000      ...                 0.000000   \n",
              "max        22.000000       3795.000000      ...                 8.000000   \n",
              "\n",
              "       SEC.CURRENT.BALANCE  SEC.SANCTIONED.AMOUNT  SEC.DISBURSED.AMOUNT  \\\n",
              "count         2.331540e+05           2.331540e+05          2.331540e+05   \n",
              "mean          5.427793e+03           7.295923e+03          7.179998e+03   \n",
              "std           1.702370e+05           1.831560e+05          1.825925e+05   \n",
              "min          -5.746470e+05           0.000000e+00          0.000000e+00   \n",
              "25%           0.000000e+00           0.000000e+00          0.000000e+00   \n",
              "50%           0.000000e+00           0.000000e+00          0.000000e+00   \n",
              "75%           0.000000e+00           0.000000e+00          0.000000e+00   \n",
              "max           3.603285e+07           3.000000e+07          3.000000e+07   \n",
              "\n",
              "       PRIMARY.INSTAL.AMT  SEC.INSTAL.AMT  NEW.ACCTS.IN.LAST.SIX.MONTHS  \\\n",
              "count        2.331540e+05    2.331540e+05                 233154.000000   \n",
              "mean         1.310548e+04    3.232684e+02                      0.381833   \n",
              "std          1.513679e+05    1.555369e+04                      0.955107   \n",
              "min          0.000000e+00    0.000000e+00                      0.000000   \n",
              "25%          0.000000e+00    0.000000e+00                      0.000000   \n",
              "50%          0.000000e+00    0.000000e+00                      0.000000   \n",
              "75%          1.999000e+03    0.000000e+00                      0.000000   \n",
              "max          2.564281e+07    4.170901e+06                     35.000000   \n",
              "\n",
              "       DELINQUENT.ACCTS.IN.LAST.SIX.MONTHS  NO.OF_INQUIRIES   loan_default  \n",
              "count                        233154.000000    233154.000000  233154.000000  \n",
              "mean                              0.097481         0.206615       0.217071  \n",
              "std                               0.384439         0.706498       0.412252  \n",
              "min                               0.000000         0.000000       0.000000  \n",
              "25%                               0.000000         0.000000       0.000000  \n",
              "50%                               0.000000         0.000000       0.000000  \n",
              "75%                               0.000000         0.000000       0.000000  \n",
              "max                              20.000000        36.000000       1.000000  \n",
              "\n",
              "[8 rows x 35 columns]"
            ]
          },
          "metadata": {
            "tags": []
          },
          "execution_count": 125
        }
      ]
    },
    {
      "metadata": {
        "id": "S3XAZs89Efl5",
        "colab_type": "code",
        "colab": {
          "base_uri": "https://localhost:8080/",
          "height": 346
        },
        "outputId": "eedcd27e-e287-40d8-884e-7dc3e04e6ded"
      },
      "cell_type": "code",
      "source": [
        "# let's describe the test set\n",
        "\n",
        "test_Data.describe()"
      ],
      "execution_count": 126,
      "outputs": [
        {
          "output_type": "execute_result",
          "data": {
            "text/html": [
              "<div>\n",
              "<style scoped>\n",
              "    .dataframe tbody tr th:only-of-type {\n",
              "        vertical-align: middle;\n",
              "    }\n",
              "\n",
              "    .dataframe tbody tr th {\n",
              "        vertical-align: top;\n",
              "    }\n",
              "\n",
              "    .dataframe thead th {\n",
              "        text-align: right;\n",
              "    }\n",
              "</style>\n",
              "<table border=\"1\" class=\"dataframe\">\n",
              "  <thead>\n",
              "    <tr style=\"text-align: right;\">\n",
              "      <th></th>\n",
              "      <th>UniqueID</th>\n",
              "      <th>disbursed_amount</th>\n",
              "      <th>asset_cost</th>\n",
              "      <th>ltv</th>\n",
              "      <th>branch_id</th>\n",
              "      <th>supplier_id</th>\n",
              "      <th>manufacturer_id</th>\n",
              "      <th>Current_pincode_ID</th>\n",
              "      <th>State_ID</th>\n",
              "      <th>Employee_code_ID</th>\n",
              "      <th>...</th>\n",
              "      <th>SEC.ACTIVE.ACCTS</th>\n",
              "      <th>SEC.OVERDUE.ACCTS</th>\n",
              "      <th>SEC.CURRENT.BALANCE</th>\n",
              "      <th>SEC.SANCTIONED.AMOUNT</th>\n",
              "      <th>SEC.DISBURSED.AMOUNT</th>\n",
              "      <th>PRIMARY.INSTAL.AMT</th>\n",
              "      <th>SEC.INSTAL.AMT</th>\n",
              "      <th>NEW.ACCTS.IN.LAST.SIX.MONTHS</th>\n",
              "      <th>DELINQUENT.ACCTS.IN.LAST.SIX.MONTHS</th>\n",
              "      <th>NO.OF_INQUIRIES</th>\n",
              "    </tr>\n",
              "  </thead>\n",
              "  <tbody>\n",
              "    <tr>\n",
              "      <th>count</th>\n",
              "      <td>112392.000000</td>\n",
              "      <td>112392.000000</td>\n",
              "      <td>1.123920e+05</td>\n",
              "      <td>112392.000000</td>\n",
              "      <td>112392.000000</td>\n",
              "      <td>112392.000000</td>\n",
              "      <td>112392.000000</td>\n",
              "      <td>112392.000000</td>\n",
              "      <td>112392.000000</td>\n",
              "      <td>112392.000000</td>\n",
              "      <td>...</td>\n",
              "      <td>112392.000000</td>\n",
              "      <td>112392.000000</td>\n",
              "      <td>1.123920e+05</td>\n",
              "      <td>1.123920e+05</td>\n",
              "      <td>1.123920e+05</td>\n",
              "      <td>1.123920e+05</td>\n",
              "      <td>1.123920e+05</td>\n",
              "      <td>112392.000000</td>\n",
              "      <td>112392.000000</td>\n",
              "      <td>112392.000000</td>\n",
              "    </tr>\n",
              "    <tr>\n",
              "      <th>mean</th>\n",
              "      <td>711741.891861</td>\n",
              "      <td>56076.803269</td>\n",
              "      <td>7.718639e+04</td>\n",
              "      <td>75.310325</td>\n",
              "      <td>78.902591</td>\n",
              "      <td>19843.303545</td>\n",
              "      <td>68.366031</td>\n",
              "      <td>3014.001352</td>\n",
              "      <td>7.215754</td>\n",
              "      <td>1771.651541</td>\n",
              "      <td>...</td>\n",
              "      <td>0.012350</td>\n",
              "      <td>0.003176</td>\n",
              "      <td>2.776081e+03</td>\n",
              "      <td>3.721477e+03</td>\n",
              "      <td>3.671156e+03</td>\n",
              "      <td>1.123698e+04</td>\n",
              "      <td>1.679060e+02</td>\n",
              "      <td>0.314907</td>\n",
              "      <td>0.091884</td>\n",
              "      <td>0.226119</td>\n",
              "    </tr>\n",
              "    <tr>\n",
              "      <th>std</th>\n",
              "      <td>33492.215991</td>\n",
              "      <td>13123.697627</td>\n",
              "      <td>1.827149e+04</td>\n",
              "      <td>11.006380</td>\n",
              "      <td>71.469633</td>\n",
              "      <td>3555.303301</td>\n",
              "      <td>22.137265</td>\n",
              "      <td>2223.215364</td>\n",
              "      <td>4.679847</td>\n",
              "      <td>1104.533635</td>\n",
              "      <td>...</td>\n",
              "      <td>0.198374</td>\n",
              "      <td>0.073784</td>\n",
              "      <td>1.406059e+05</td>\n",
              "      <td>2.015516e+05</td>\n",
              "      <td>2.013686e+05</td>\n",
              "      <td>2.741250e+05</td>\n",
              "      <td>1.763841e+04</td>\n",
              "      <td>0.843406</td>\n",
              "      <td>0.381809</td>\n",
              "      <td>0.739231</td>\n",
              "    </tr>\n",
              "    <tr>\n",
              "      <th>min</th>\n",
              "      <td>654115.000000</td>\n",
              "      <td>11613.000000</td>\n",
              "      <td>4.011700e+04</td>\n",
              "      <td>10.030000</td>\n",
              "      <td>1.000000</td>\n",
              "      <td>10524.000000</td>\n",
              "      <td>45.000000</td>\n",
              "      <td>1.000000</td>\n",
              "      <td>1.000000</td>\n",
              "      <td>1.000000</td>\n",
              "      <td>...</td>\n",
              "      <td>0.000000</td>\n",
              "      <td>0.000000</td>\n",
              "      <td>-3.882000e+03</td>\n",
              "      <td>0.000000e+00</td>\n",
              "      <td>0.000000e+00</td>\n",
              "      <td>0.000000e+00</td>\n",
              "      <td>0.000000e+00</td>\n",
              "      <td>0.000000</td>\n",
              "      <td>0.000000</td>\n",
              "      <td>0.000000</td>\n",
              "    </tr>\n",
              "    <tr>\n",
              "      <th>25%</th>\n",
              "      <td>682658.750000</td>\n",
              "      <td>48849.000000</td>\n",
              "      <td>6.751000e+04</td>\n",
              "      <td>69.970000</td>\n",
              "      <td>15.000000</td>\n",
              "      <td>16633.000000</td>\n",
              "      <td>45.000000</td>\n",
              "      <td>1312.000000</td>\n",
              "      <td>4.000000</td>\n",
              "      <td>801.000000</td>\n",
              "      <td>...</td>\n",
              "      <td>0.000000</td>\n",
              "      <td>0.000000</td>\n",
              "      <td>0.000000e+00</td>\n",
              "      <td>0.000000e+00</td>\n",
              "      <td>0.000000e+00</td>\n",
              "      <td>0.000000e+00</td>\n",
              "      <td>0.000000e+00</td>\n",
              "      <td>0.000000</td>\n",
              "      <td>0.000000</td>\n",
              "      <td>0.000000</td>\n",
              "    </tr>\n",
              "    <tr>\n",
              "      <th>50%</th>\n",
              "      <td>711522.500000</td>\n",
              "      <td>55359.000000</td>\n",
              "      <td>7.258400e+04</td>\n",
              "      <td>77.780000</td>\n",
              "      <td>67.000000</td>\n",
              "      <td>20675.000000</td>\n",
              "      <td>86.000000</td>\n",
              "      <td>2412.000000</td>\n",
              "      <td>6.000000</td>\n",
              "      <td>1664.000000</td>\n",
              "      <td>...</td>\n",
              "      <td>0.000000</td>\n",
              "      <td>0.000000</td>\n",
              "      <td>0.000000e+00</td>\n",
              "      <td>0.000000e+00</td>\n",
              "      <td>0.000000e+00</td>\n",
              "      <td>0.000000e+00</td>\n",
              "      <td>0.000000e+00</td>\n",
              "      <td>0.000000</td>\n",
              "      <td>0.000000</td>\n",
              "      <td>0.000000</td>\n",
              "    </tr>\n",
              "    <tr>\n",
              "      <th>75%</th>\n",
              "      <td>740851.250000</td>\n",
              "      <td>62147.000000</td>\n",
              "      <td>8.004000e+04</td>\n",
              "      <td>83.740000</td>\n",
              "      <td>136.000000</td>\n",
              "      <td>23170.000000</td>\n",
              "      <td>86.000000</td>\n",
              "      <td>5092.000000</td>\n",
              "      <td>10.000000</td>\n",
              "      <td>2694.000000</td>\n",
              "      <td>...</td>\n",
              "      <td>0.000000</td>\n",
              "      <td>0.000000</td>\n",
              "      <td>0.000000e+00</td>\n",
              "      <td>0.000000e+00</td>\n",
              "      <td>0.000000e+00</td>\n",
              "      <td>1.855000e+03</td>\n",
              "      <td>0.000000e+00</td>\n",
              "      <td>0.000000</td>\n",
              "      <td>0.000000</td>\n",
              "      <td>0.000000</td>\n",
              "    </tr>\n",
              "    <tr>\n",
              "      <th>max</th>\n",
              "      <td>769909.000000</td>\n",
              "      <td>940690.000000</td>\n",
              "      <td>1.271553e+06</td>\n",
              "      <td>95.000000</td>\n",
              "      <td>261.000000</td>\n",
              "      <td>24901.000000</td>\n",
              "      <td>155.000000</td>\n",
              "      <td>7345.000000</td>\n",
              "      <td>22.000000</td>\n",
              "      <td>3923.000000</td>\n",
              "      <td>...</td>\n",
              "      <td>20.000000</td>\n",
              "      <td>8.000000</td>\n",
              "      <td>3.579410e+07</td>\n",
              "      <td>5.794500e+07</td>\n",
              "      <td>5.794500e+07</td>\n",
              "      <td>8.526233e+07</td>\n",
              "      <td>5.390000e+06</td>\n",
              "      <td>22.000000</td>\n",
              "      <td>18.000000</td>\n",
              "      <td>23.000000</td>\n",
              "    </tr>\n",
              "  </tbody>\n",
              "</table>\n",
              "<p>8 rows × 34 columns</p>\n",
              "</div>"
            ],
            "text/plain": [
              "            UniqueID  disbursed_amount    asset_cost            ltv  \\\n",
              "count  112392.000000     112392.000000  1.123920e+05  112392.000000   \n",
              "mean   711741.891861      56076.803269  7.718639e+04      75.310325   \n",
              "std     33492.215991      13123.697627  1.827149e+04      11.006380   \n",
              "min    654115.000000      11613.000000  4.011700e+04      10.030000   \n",
              "25%    682658.750000      48849.000000  6.751000e+04      69.970000   \n",
              "50%    711522.500000      55359.000000  7.258400e+04      77.780000   \n",
              "75%    740851.250000      62147.000000  8.004000e+04      83.740000   \n",
              "max    769909.000000     940690.000000  1.271553e+06      95.000000   \n",
              "\n",
              "           branch_id    supplier_id  manufacturer_id  Current_pincode_ID  \\\n",
              "count  112392.000000  112392.000000    112392.000000       112392.000000   \n",
              "mean       78.902591   19843.303545        68.366031         3014.001352   \n",
              "std        71.469633    3555.303301        22.137265         2223.215364   \n",
              "min         1.000000   10524.000000        45.000000            1.000000   \n",
              "25%        15.000000   16633.000000        45.000000         1312.000000   \n",
              "50%        67.000000   20675.000000        86.000000         2412.000000   \n",
              "75%       136.000000   23170.000000        86.000000         5092.000000   \n",
              "max       261.000000   24901.000000       155.000000         7345.000000   \n",
              "\n",
              "            State_ID  Employee_code_ID       ...         SEC.ACTIVE.ACCTS  \\\n",
              "count  112392.000000     112392.000000       ...            112392.000000   \n",
              "mean        7.215754       1771.651541       ...                 0.012350   \n",
              "std         4.679847       1104.533635       ...                 0.198374   \n",
              "min         1.000000          1.000000       ...                 0.000000   \n",
              "25%         4.000000        801.000000       ...                 0.000000   \n",
              "50%         6.000000       1664.000000       ...                 0.000000   \n",
              "75%        10.000000       2694.000000       ...                 0.000000   \n",
              "max        22.000000       3923.000000       ...                20.000000   \n",
              "\n",
              "       SEC.OVERDUE.ACCTS  SEC.CURRENT.BALANCE  SEC.SANCTIONED.AMOUNT  \\\n",
              "count      112392.000000         1.123920e+05           1.123920e+05   \n",
              "mean            0.003176         2.776081e+03           3.721477e+03   \n",
              "std             0.073784         1.406059e+05           2.015516e+05   \n",
              "min             0.000000        -3.882000e+03           0.000000e+00   \n",
              "25%             0.000000         0.000000e+00           0.000000e+00   \n",
              "50%             0.000000         0.000000e+00           0.000000e+00   \n",
              "75%             0.000000         0.000000e+00           0.000000e+00   \n",
              "max             8.000000         3.579410e+07           5.794500e+07   \n",
              "\n",
              "       SEC.DISBURSED.AMOUNT  PRIMARY.INSTAL.AMT  SEC.INSTAL.AMT  \\\n",
              "count          1.123920e+05        1.123920e+05    1.123920e+05   \n",
              "mean           3.671156e+03        1.123698e+04    1.679060e+02   \n",
              "std            2.013686e+05        2.741250e+05    1.763841e+04   \n",
              "min            0.000000e+00        0.000000e+00    0.000000e+00   \n",
              "25%            0.000000e+00        0.000000e+00    0.000000e+00   \n",
              "50%            0.000000e+00        0.000000e+00    0.000000e+00   \n",
              "75%            0.000000e+00        1.855000e+03    0.000000e+00   \n",
              "max            5.794500e+07        8.526233e+07    5.390000e+06   \n",
              "\n",
              "       NEW.ACCTS.IN.LAST.SIX.MONTHS  DELINQUENT.ACCTS.IN.LAST.SIX.MONTHS  \\\n",
              "count                 112392.000000                        112392.000000   \n",
              "mean                       0.314907                             0.091884   \n",
              "std                        0.843406                             0.381809   \n",
              "min                        0.000000                             0.000000   \n",
              "25%                        0.000000                             0.000000   \n",
              "50%                        0.000000                             0.000000   \n",
              "75%                        0.000000                             0.000000   \n",
              "max                       22.000000                            18.000000   \n",
              "\n",
              "       NO.OF_INQUIRIES  \n",
              "count    112392.000000  \n",
              "mean          0.226119  \n",
              "std           0.739231  \n",
              "min           0.000000  \n",
              "25%           0.000000  \n",
              "50%           0.000000  \n",
              "75%           0.000000  \n",
              "max          23.000000  \n",
              "\n",
              "[8 rows x 34 columns]"
            ]
          },
          "metadata": {
            "tags": []
          },
          "execution_count": 126
        }
      ]
    },
    {
      "metadata": {
        "id": "1BZzPhl6ElOv",
        "colab_type": "code",
        "colab": {
          "base_uri": "https://localhost:8080/",
          "height": 799
        },
        "outputId": "44728fc4-e701-443d-b5b6-5acf216049e3"
      },
      "cell_type": "code",
      "source": [
        "# get the info of train\n",
        "\n",
        "train_Data.info()"
      ],
      "execution_count": 127,
      "outputs": [
        {
          "output_type": "stream",
          "text": [
            "<class 'pandas.core.frame.DataFrame'>\n",
            "RangeIndex: 233154 entries, 0 to 233153\n",
            "Data columns (total 41 columns):\n",
            "UniqueID                               233154 non-null int64\n",
            "disbursed_amount                       233154 non-null int64\n",
            "asset_cost                             233154 non-null int64\n",
            "ltv                                    233154 non-null float64\n",
            "branch_id                              233154 non-null int64\n",
            "supplier_id                            233154 non-null int64\n",
            "manufacturer_id                        233154 non-null int64\n",
            "Current_pincode_ID                     233154 non-null int64\n",
            "Date.of.Birth                          233154 non-null object\n",
            "Employment.Type                        225493 non-null object\n",
            "DisbursalDate                          233154 non-null object\n",
            "State_ID                               233154 non-null int64\n",
            "Employee_code_ID                       233154 non-null int64\n",
            "MobileNo_Avl_Flag                      233154 non-null int64\n",
            "Aadhar_flag                            233154 non-null int64\n",
            "PAN_flag                               233154 non-null int64\n",
            "VoterID_flag                           233154 non-null int64\n",
            "Driving_flag                           233154 non-null int64\n",
            "Passport_flag                          233154 non-null int64\n",
            "PERFORM_CNS.SCORE                      233154 non-null int64\n",
            "PERFORM_CNS.SCORE.DESCRIPTION          233154 non-null object\n",
            "PRI.NO.OF.ACCTS                        233154 non-null int64\n",
            "PRI.ACTIVE.ACCTS                       233154 non-null int64\n",
            "PRI.OVERDUE.ACCTS                      233154 non-null int64\n",
            "PRI.CURRENT.BALANCE                    233154 non-null int64\n",
            "PRI.SANCTIONED.AMOUNT                  233154 non-null int64\n",
            "PRI.DISBURSED.AMOUNT                   233154 non-null int64\n",
            "SEC.NO.OF.ACCTS                        233154 non-null int64\n",
            "SEC.ACTIVE.ACCTS                       233154 non-null int64\n",
            "SEC.OVERDUE.ACCTS                      233154 non-null int64\n",
            "SEC.CURRENT.BALANCE                    233154 non-null int64\n",
            "SEC.SANCTIONED.AMOUNT                  233154 non-null int64\n",
            "SEC.DISBURSED.AMOUNT                   233154 non-null int64\n",
            "PRIMARY.INSTAL.AMT                     233154 non-null int64\n",
            "SEC.INSTAL.AMT                         233154 non-null int64\n",
            "NEW.ACCTS.IN.LAST.SIX.MONTHS           233154 non-null int64\n",
            "DELINQUENT.ACCTS.IN.LAST.SIX.MONTHS    233154 non-null int64\n",
            "AVERAGE.ACCT.AGE                       233154 non-null object\n",
            "CREDIT.HISTORY.LENGTH                  233154 non-null object\n",
            "NO.OF_INQUIRIES                        233154 non-null int64\n",
            "loan_default                           233154 non-null int64\n",
            "dtypes: float64(1), int64(34), object(6)\n",
            "memory usage: 72.9+ MB\n"
          ],
          "name": "stdout"
        }
      ]
    },
    {
      "metadata": {
        "id": "JVH8YjDtEtMv",
        "colab_type": "code",
        "colab": {
          "base_uri": "https://localhost:8080/",
          "height": 782
        },
        "outputId": "1721c228-9cc0-49d7-cec1-cc7b36f6c662"
      },
      "cell_type": "code",
      "source": [
        "# get the info of test set\n",
        "\n",
        "test_Data.info()"
      ],
      "execution_count": 128,
      "outputs": [
        {
          "output_type": "stream",
          "text": [
            "<class 'pandas.core.frame.DataFrame'>\n",
            "RangeIndex: 112392 entries, 0 to 112391\n",
            "Data columns (total 40 columns):\n",
            "UniqueID                               112392 non-null int64\n",
            "disbursed_amount                       112392 non-null int64\n",
            "asset_cost                             112392 non-null int64\n",
            "ltv                                    112392 non-null float64\n",
            "branch_id                              112392 non-null int64\n",
            "supplier_id                            112392 non-null int64\n",
            "manufacturer_id                        112392 non-null int64\n",
            "Current_pincode_ID                     112392 non-null int64\n",
            "Date.of.Birth                          112392 non-null object\n",
            "Employment.Type                        108949 non-null object\n",
            "DisbursalDate                          112392 non-null object\n",
            "State_ID                               112392 non-null int64\n",
            "Employee_code_ID                       112392 non-null int64\n",
            "MobileNo_Avl_Flag                      112392 non-null int64\n",
            "Aadhar_flag                            112392 non-null int64\n",
            "PAN_flag                               112392 non-null int64\n",
            "VoterID_flag                           112392 non-null int64\n",
            "Driving_flag                           112392 non-null int64\n",
            "Passport_flag                          112392 non-null int64\n",
            "PERFORM_CNS.SCORE                      112392 non-null int64\n",
            "PERFORM_CNS.SCORE.DESCRIPTION          112392 non-null object\n",
            "PRI.NO.OF.ACCTS                        112392 non-null int64\n",
            "PRI.ACTIVE.ACCTS                       112392 non-null int64\n",
            "PRI.OVERDUE.ACCTS                      112392 non-null int64\n",
            "PRI.CURRENT.BALANCE                    112392 non-null int64\n",
            "PRI.SANCTIONED.AMOUNT                  112392 non-null int64\n",
            "PRI.DISBURSED.AMOUNT                   112392 non-null int64\n",
            "SEC.NO.OF.ACCTS                        112392 non-null int64\n",
            "SEC.ACTIVE.ACCTS                       112392 non-null int64\n",
            "SEC.OVERDUE.ACCTS                      112392 non-null int64\n",
            "SEC.CURRENT.BALANCE                    112392 non-null int64\n",
            "SEC.SANCTIONED.AMOUNT                  112392 non-null int64\n",
            "SEC.DISBURSED.AMOUNT                   112392 non-null int64\n",
            "PRIMARY.INSTAL.AMT                     112392 non-null int64\n",
            "SEC.INSTAL.AMT                         112392 non-null int64\n",
            "NEW.ACCTS.IN.LAST.SIX.MONTHS           112392 non-null int64\n",
            "DELINQUENT.ACCTS.IN.LAST.SIX.MONTHS    112392 non-null int64\n",
            "AVERAGE.ACCT.AGE                       112392 non-null object\n",
            "CREDIT.HISTORY.LENGTH                  112392 non-null object\n",
            "NO.OF_INQUIRIES                        112392 non-null int64\n",
            "dtypes: float64(1), int64(33), object(6)\n",
            "memory usage: 34.3+ MB\n"
          ],
          "name": "stdout"
        }
      ]
    },
    {
      "metadata": {
        "id": "Tyh6FD7KEybF",
        "colab_type": "code",
        "colab": {
          "base_uri": "https://localhost:8080/",
          "height": 731
        },
        "outputId": "f6c62251-0035-4fe5-ced2-ad499a1aadcf"
      },
      "cell_type": "code",
      "source": [
        "# getting the data types of train\n",
        "\n",
        "train_Data.dtypes"
      ],
      "execution_count": 129,
      "outputs": [
        {
          "output_type": "execute_result",
          "data": {
            "text/plain": [
              "UniqueID                                 int64\n",
              "disbursed_amount                         int64\n",
              "asset_cost                               int64\n",
              "ltv                                    float64\n",
              "branch_id                                int64\n",
              "supplier_id                              int64\n",
              "manufacturer_id                          int64\n",
              "Current_pincode_ID                       int64\n",
              "Date.of.Birth                           object\n",
              "Employment.Type                         object\n",
              "DisbursalDate                           object\n",
              "State_ID                                 int64\n",
              "Employee_code_ID                         int64\n",
              "MobileNo_Avl_Flag                        int64\n",
              "Aadhar_flag                              int64\n",
              "PAN_flag                                 int64\n",
              "VoterID_flag                             int64\n",
              "Driving_flag                             int64\n",
              "Passport_flag                            int64\n",
              "PERFORM_CNS.SCORE                        int64\n",
              "PERFORM_CNS.SCORE.DESCRIPTION           object\n",
              "PRI.NO.OF.ACCTS                          int64\n",
              "PRI.ACTIVE.ACCTS                         int64\n",
              "PRI.OVERDUE.ACCTS                        int64\n",
              "PRI.CURRENT.BALANCE                      int64\n",
              "PRI.SANCTIONED.AMOUNT                    int64\n",
              "PRI.DISBURSED.AMOUNT                     int64\n",
              "SEC.NO.OF.ACCTS                          int64\n",
              "SEC.ACTIVE.ACCTS                         int64\n",
              "SEC.OVERDUE.ACCTS                        int64\n",
              "SEC.CURRENT.BALANCE                      int64\n",
              "SEC.SANCTIONED.AMOUNT                    int64\n",
              "SEC.DISBURSED.AMOUNT                     int64\n",
              "PRIMARY.INSTAL.AMT                       int64\n",
              "SEC.INSTAL.AMT                           int64\n",
              "NEW.ACCTS.IN.LAST.SIX.MONTHS             int64\n",
              "DELINQUENT.ACCTS.IN.LAST.SIX.MONTHS      int64\n",
              "AVERAGE.ACCT.AGE                        object\n",
              "CREDIT.HISTORY.LENGTH                   object\n",
              "NO.OF_INQUIRIES                          int64\n",
              "loan_default                             int64\n",
              "dtype: object"
            ]
          },
          "metadata": {
            "tags": []
          },
          "execution_count": 129
        }
      ]
    },
    {
      "metadata": {
        "id": "goqFg1eQE2g6",
        "colab_type": "code",
        "colab": {
          "base_uri": "https://localhost:8080/",
          "height": 714
        },
        "outputId": "35fc16d5-b52a-404f-90cf-49d3107fabaa"
      },
      "cell_type": "code",
      "source": [
        "# getting the data types of test\n",
        "\n",
        "test_Data.dtypes"
      ],
      "execution_count": 130,
      "outputs": [
        {
          "output_type": "execute_result",
          "data": {
            "text/plain": [
              "UniqueID                                 int64\n",
              "disbursed_amount                         int64\n",
              "asset_cost                               int64\n",
              "ltv                                    float64\n",
              "branch_id                                int64\n",
              "supplier_id                              int64\n",
              "manufacturer_id                          int64\n",
              "Current_pincode_ID                       int64\n",
              "Date.of.Birth                           object\n",
              "Employment.Type                         object\n",
              "DisbursalDate                           object\n",
              "State_ID                                 int64\n",
              "Employee_code_ID                         int64\n",
              "MobileNo_Avl_Flag                        int64\n",
              "Aadhar_flag                              int64\n",
              "PAN_flag                                 int64\n",
              "VoterID_flag                             int64\n",
              "Driving_flag                             int64\n",
              "Passport_flag                            int64\n",
              "PERFORM_CNS.SCORE                        int64\n",
              "PERFORM_CNS.SCORE.DESCRIPTION           object\n",
              "PRI.NO.OF.ACCTS                          int64\n",
              "PRI.ACTIVE.ACCTS                         int64\n",
              "PRI.OVERDUE.ACCTS                        int64\n",
              "PRI.CURRENT.BALANCE                      int64\n",
              "PRI.SANCTIONED.AMOUNT                    int64\n",
              "PRI.DISBURSED.AMOUNT                     int64\n",
              "SEC.NO.OF.ACCTS                          int64\n",
              "SEC.ACTIVE.ACCTS                         int64\n",
              "SEC.OVERDUE.ACCTS                        int64\n",
              "SEC.CURRENT.BALANCE                      int64\n",
              "SEC.SANCTIONED.AMOUNT                    int64\n",
              "SEC.DISBURSED.AMOUNT                     int64\n",
              "PRIMARY.INSTAL.AMT                       int64\n",
              "SEC.INSTAL.AMT                           int64\n",
              "NEW.ACCTS.IN.LAST.SIX.MONTHS             int64\n",
              "DELINQUENT.ACCTS.IN.LAST.SIX.MONTHS      int64\n",
              "AVERAGE.ACCT.AGE                        object\n",
              "CREDIT.HISTORY.LENGTH                   object\n",
              "NO.OF_INQUIRIES                          int64\n",
              "dtype: object"
            ]
          },
          "metadata": {
            "tags": []
          },
          "execution_count": 130
        }
      ]
    },
    {
      "metadata": {
        "id": "1pNXGwzBE4y0",
        "colab_type": "code",
        "colab": {
          "base_uri": "https://localhost:8080/",
          "height": 731
        },
        "outputId": "e3ff9775-cc80-4511-9bbd-3bdb72bd6aa0"
      },
      "cell_type": "code",
      "source": [
        "# checking if there exists any NULL values in the train set\n",
        "\n",
        "train_Data.isnull().sum()"
      ],
      "execution_count": 131,
      "outputs": [
        {
          "output_type": "execute_result",
          "data": {
            "text/plain": [
              "UniqueID                                  0\n",
              "disbursed_amount                          0\n",
              "asset_cost                                0\n",
              "ltv                                       0\n",
              "branch_id                                 0\n",
              "supplier_id                               0\n",
              "manufacturer_id                           0\n",
              "Current_pincode_ID                        0\n",
              "Date.of.Birth                             0\n",
              "Employment.Type                        7661\n",
              "DisbursalDate                             0\n",
              "State_ID                                  0\n",
              "Employee_code_ID                          0\n",
              "MobileNo_Avl_Flag                         0\n",
              "Aadhar_flag                               0\n",
              "PAN_flag                                  0\n",
              "VoterID_flag                              0\n",
              "Driving_flag                              0\n",
              "Passport_flag                             0\n",
              "PERFORM_CNS.SCORE                         0\n",
              "PERFORM_CNS.SCORE.DESCRIPTION             0\n",
              "PRI.NO.OF.ACCTS                           0\n",
              "PRI.ACTIVE.ACCTS                          0\n",
              "PRI.OVERDUE.ACCTS                         0\n",
              "PRI.CURRENT.BALANCE                       0\n",
              "PRI.SANCTIONED.AMOUNT                     0\n",
              "PRI.DISBURSED.AMOUNT                      0\n",
              "SEC.NO.OF.ACCTS                           0\n",
              "SEC.ACTIVE.ACCTS                          0\n",
              "SEC.OVERDUE.ACCTS                         0\n",
              "SEC.CURRENT.BALANCE                       0\n",
              "SEC.SANCTIONED.AMOUNT                     0\n",
              "SEC.DISBURSED.AMOUNT                      0\n",
              "PRIMARY.INSTAL.AMT                        0\n",
              "SEC.INSTAL.AMT                            0\n",
              "NEW.ACCTS.IN.LAST.SIX.MONTHS              0\n",
              "DELINQUENT.ACCTS.IN.LAST.SIX.MONTHS       0\n",
              "AVERAGE.ACCT.AGE                          0\n",
              "CREDIT.HISTORY.LENGTH                     0\n",
              "NO.OF_INQUIRIES                           0\n",
              "loan_default                              0\n",
              "dtype: int64"
            ]
          },
          "metadata": {
            "tags": []
          },
          "execution_count": 131
        }
      ]
    },
    {
      "metadata": {
        "id": "25PbVOxEE9VJ",
        "colab_type": "code",
        "colab": {
          "base_uri": "https://localhost:8080/",
          "height": 714
        },
        "outputId": "c236f3e5-a34d-4538-ea19-bd26f417e3a8"
      },
      "cell_type": "code",
      "source": [
        "# checking if there exists any NULL values in the test set\n",
        "\n",
        "test_Data.isnull().sum()"
      ],
      "execution_count": 132,
      "outputs": [
        {
          "output_type": "execute_result",
          "data": {
            "text/plain": [
              "UniqueID                                  0\n",
              "disbursed_amount                          0\n",
              "asset_cost                                0\n",
              "ltv                                       0\n",
              "branch_id                                 0\n",
              "supplier_id                               0\n",
              "manufacturer_id                           0\n",
              "Current_pincode_ID                        0\n",
              "Date.of.Birth                             0\n",
              "Employment.Type                        3443\n",
              "DisbursalDate                             0\n",
              "State_ID                                  0\n",
              "Employee_code_ID                          0\n",
              "MobileNo_Avl_Flag                         0\n",
              "Aadhar_flag                               0\n",
              "PAN_flag                                  0\n",
              "VoterID_flag                              0\n",
              "Driving_flag                              0\n",
              "Passport_flag                             0\n",
              "PERFORM_CNS.SCORE                         0\n",
              "PERFORM_CNS.SCORE.DESCRIPTION             0\n",
              "PRI.NO.OF.ACCTS                           0\n",
              "PRI.ACTIVE.ACCTS                          0\n",
              "PRI.OVERDUE.ACCTS                         0\n",
              "PRI.CURRENT.BALANCE                       0\n",
              "PRI.SANCTIONED.AMOUNT                     0\n",
              "PRI.DISBURSED.AMOUNT                      0\n",
              "SEC.NO.OF.ACCTS                           0\n",
              "SEC.ACTIVE.ACCTS                          0\n",
              "SEC.OVERDUE.ACCTS                         0\n",
              "SEC.CURRENT.BALANCE                       0\n",
              "SEC.SANCTIONED.AMOUNT                     0\n",
              "SEC.DISBURSED.AMOUNT                      0\n",
              "PRIMARY.INSTAL.AMT                        0\n",
              "SEC.INSTAL.AMT                            0\n",
              "NEW.ACCTS.IN.LAST.SIX.MONTHS              0\n",
              "DELINQUENT.ACCTS.IN.LAST.SIX.MONTHS       0\n",
              "AVERAGE.ACCT.AGE                          0\n",
              "CREDIT.HISTORY.LENGTH                     0\n",
              "NO.OF_INQUIRIES                           0\n",
              "dtype: int64"
            ]
          },
          "metadata": {
            "tags": []
          },
          "execution_count": 132
        }
      ]
    },
    {
      "metadata": {
        "id": "ZEv3RzHuFCLG",
        "colab_type": "code",
        "colab": {
          "base_uri": "https://localhost:8080/",
          "height": 68
        },
        "outputId": "aeeb64fb-86c5-4382-bc91-06476a251bdd"
      },
      "cell_type": "code",
      "source": [
        "# checking the values present in the Employement.Type attribute in the train and test sets\n",
        "\n",
        "train_Data['Employment.Type'].value_counts()"
      ],
      "execution_count": 133,
      "outputs": [
        {
          "output_type": "execute_result",
          "data": {
            "text/plain": [
              "Self employed    127635\n",
              "Salaried          97858\n",
              "Name: Employment.Type, dtype: int64"
            ]
          },
          "metadata": {
            "tags": []
          },
          "execution_count": 133
        }
      ]
    },
    {
      "metadata": {
        "id": "xXcYc5jpFMp8",
        "colab_type": "code",
        "colab": {
          "base_uri": "https://localhost:8080/",
          "height": 51
        },
        "outputId": "b827e7c8-36bd-4eb8-c332-365f00ad113d"
      },
      "cell_type": "code",
      "source": [
        "# filling the missing values in the Employment.Type attribute of train and test sets\n",
        "\n",
        "# Employement Type has two types of Employment i.e., self employed and salaried\n",
        "# but the empty values must be the people who don't  work at all that's why it is empty\n",
        "# let's fill unemployed in the place of Null values\n",
        "\n",
        "train_Data['Employment.Type'].fillna('Unemployed', inplace = True)\n",
        "test_Data['Employment.Type'].fillna('Unemployed', inplace = True)\n",
        "\n",
        "# let's check if there is any null values still left or not\n",
        "print(\"Null values left in the train set:\", train_Data.isnull().sum().sum())\n",
        "print(\"Null values left in the test set:\", test_Data.isnull().sum().sum())"
      ],
      "execution_count": 134,
      "outputs": [
        {
          "output_type": "stream",
          "text": [
            "Null values left in the train set: 0\n",
            "Null values left in the test set: 0\n"
          ],
          "name": "stdout"
        }
      ]
    },
    {
      "metadata": {
        "id": "89Ybl0UgFkQo",
        "colab_type": "code",
        "colab": {
          "base_uri": "https://localhost:8080/",
          "height": 34
        },
        "outputId": "0c8cdebf-c811-4013-bab7-009ce7f44bdc"
      },
      "cell_type": "code",
      "source": [
        "# let's save the unique id of the test set and labels set\n",
        "\n",
        "unique_id = test_Data['UniqueID']\n",
        "y_train = train_Data.iloc[:, -1]\n",
        "\n",
        "# let's delete the last column from the dataset to  concat train and test\n",
        "train_Data = train_Data.drop(['loan_default'], axis = 1)\n",
        "\n",
        "# shape of train\n",
        "train_Data.shape"
      ],
      "execution_count": 135,
      "outputs": [
        {
          "output_type": "execute_result",
          "data": {
            "text/plain": [
              "(233154, 40)"
            ]
          },
          "metadata": {
            "tags": []
          },
          "execution_count": 135
        }
      ]
    },
    {
      "metadata": {
        "id": "edjWy6MUFtLl",
        "colab_type": "code",
        "colab": {
          "base_uri": "https://localhost:8080/",
          "height": 34
        },
        "outputId": "8864dfa1-d5f6-45e7-bd73-d74c65c8212a"
      },
      "cell_type": "code",
      "source": [
        "# lets concat the train and test sets for preprocessing and visualizations\n",
        "\n",
        "all_data = pd.concat([train_Data, test_Data], axis = 0)\n",
        "\n",
        "# let's check the shape\n",
        "all_data.shape"
      ],
      "execution_count": 136,
      "outputs": [
        {
          "output_type": "execute_result",
          "data": {
            "text/plain": [
              "(345546, 40)"
            ]
          },
          "metadata": {
            "tags": []
          },
          "execution_count": 136
        }
      ]
    },
    {
      "metadata": {
        "id": "X28U5NmyFwxK",
        "colab_type": "code",
        "colab": {
          "base_uri": "https://localhost:8080/",
          "height": 85
        },
        "outputId": "5eae16d0-5ae6-4572-9def-90553e382591"
      },
      "cell_type": "code",
      "source": [
        "# let's check the employement type in the data\n",
        "\n",
        "all_data['Employment.Type'].value_counts()"
      ],
      "execution_count": 137,
      "outputs": [
        {
          "output_type": "execute_result",
          "data": {
            "text/plain": [
              "Self employed    187429\n",
              "Salaried         147013\n",
              "Unemployed        11104\n",
              "Name: Employment.Type, dtype: int64"
            ]
          },
          "metadata": {
            "tags": []
          },
          "execution_count": 137
        }
      ]
    },
    {
      "metadata": {
        "id": "1hmX2pYKF8rz",
        "colab_type": "code",
        "colab": {
          "base_uri": "https://localhost:8080/",
          "height": 603
        },
        "outputId": "642ea70d-0fc4-4865-93dc-2b9a5cdccb8d"
      },
      "cell_type": "code",
      "source": [
        "# plotting a donut chart\n",
        "\n",
        "size = [187429, 147013, 11104]\n",
        "colors = ['pink', 'lightblue', 'lightgreen']\n",
        "labels = \"Self Employed\", \"Salried\", \"Unemployed\" \n",
        "explode = [0.05, 0.05, 0.05]\n",
        "\n",
        "circle = plt.Circle((0, 0), 0.7, color = 'white')\n",
        "\n",
        "plt.rcParams['figure.figsize'] = (10, 10)\n",
        "plt.pie(size, colors = colors, labels = labels, explode = explode, shadow = True, pctdistance = 1, autopct = '%.2f%%')\n",
        "plt.title('Types of Employments', fontsize = 30)\n",
        "plt.axis('off')\n",
        "p = plt.gcf()\n",
        "p.gca().add_artist(circle)\n",
        "plt.legend()\n",
        "plt.show()"
      ],
      "execution_count": 138,
      "outputs": [
        {
          "output_type": "display_data",
          "data": {
            "image/png": "[encoded data removed]",
            "text/plain": [
              "<Figure size 720x720 with 1 Axes>"
            ]
          },
          "metadata": {
            "tags": []
          }
        }
      ]
    },
    {
      "metadata": {
        "id": "YB9q2eLhGJql",
        "colab_type": "code",
        "colab": {
          "base_uri": "https://localhost:8080/",
          "height": 85
        },
        "outputId": "adc1284f-3376-4959-bd32-801eb50e4f49"
      },
      "cell_type": "code",
      "source": [
        "# encodings for type of employments\n",
        "\n",
        "all_data['Employment.Type'] = all_data['Employment.Type'].replace(('Self employed', 'Salaried', 'Unemployed'), (2, 1, 0))\n",
        "\n",
        "# checking the values  of employement type\n",
        "all_data['Employment.Type'].value_counts()"
      ],
      "execution_count": 139,
      "outputs": [
        {
          "output_type": "execute_result",
          "data": {
            "text/plain": [
              "2    187429\n",
              "1    147013\n",
              "0     11104\n",
              "Name: Employment.Type, dtype: int64"
            ]
          },
          "metadata": {
            "tags": []
          },
          "execution_count": 139
        }
      ]
    },
    {
      "metadata": {
        "id": "ebbYviTmGOIz",
        "colab_type": "code",
        "colab": {
          "base_uri": "https://localhost:8080/",
          "height": 238
        },
        "outputId": "f7ef53c4-13ec-41b5-b376-b3df78a8fae1"
      },
      "cell_type": "code",
      "source": [
        "# checking the columns names of the data\n",
        "\n",
        "all_data.columns"
      ],
      "execution_count": 140,
      "outputs": [
        {
          "output_type": "execute_result",
          "data": {
            "text/plain": [
              "Index(['UniqueID', 'disbursed_amount', 'asset_cost', 'ltv', 'branch_id',\n",
              "       'supplier_id', 'manufacturer_id', 'Current_pincode_ID', 'Date.of.Birth',\n",
              "       'Employment.Type', 'DisbursalDate', 'State_ID', 'Employee_code_ID',\n",
              "       'MobileNo_Avl_Flag', 'Aadhar_flag', 'PAN_flag', 'VoterID_flag',\n",
              "       'Driving_flag', 'Passport_flag', 'PERFORM_CNS.SCORE',\n",
              "       'PERFORM_CNS.SCORE.DESCRIPTION', 'PRI.NO.OF.ACCTS', 'PRI.ACTIVE.ACCTS',\n",
              "       'PRI.OVERDUE.ACCTS', 'PRI.CURRENT.BALANCE', 'PRI.SANCTIONED.AMOUNT',\n",
              "       'PRI.DISBURSED.AMOUNT', 'SEC.NO.OF.ACCTS', 'SEC.ACTIVE.ACCTS',\n",
              "       'SEC.OVERDUE.ACCTS', 'SEC.CURRENT.BALANCE', 'SEC.SANCTIONED.AMOUNT',\n",
              "       'SEC.DISBURSED.AMOUNT', 'PRIMARY.INSTAL.AMT', 'SEC.INSTAL.AMT',\n",
              "       'NEW.ACCTS.IN.LAST.SIX.MONTHS', 'DELINQUENT.ACCTS.IN.LAST.SIX.MONTHS',\n",
              "       'AVERAGE.ACCT.AGE', 'CREDIT.HISTORY.LENGTH', 'NO.OF_INQUIRIES'],\n",
              "      dtype='object')"
            ]
          },
          "metadata": {
            "tags": []
          },
          "execution_count": 140
        }
      ]
    },
    {
      "metadata": {
        "id": "ncz1joxqGRBe",
        "colab_type": "code",
        "colab": {
          "base_uri": "https://localhost:8080/",
          "height": 136
        },
        "outputId": "6bfcda80-fcdf-4a16-e980-c72a7c290f74"
      },
      "cell_type": "code",
      "source": [
        "#let's check the unique values of ids in different branchs\n",
        "\n",
        "print(\"Total no. of Unique Ids :\", all_data['UniqueID'].nunique())\n",
        "print(\"Total no. of Unique Branches :\", all_data['branch_id'].nunique())\n",
        "print(\"Total no. of Unique Suppliers :\", all_data['supplier_id'].nunique())\n",
        "print(\"Total no. of Unique Manufactures :\", all_data['manufacturer_id'].nunique())\n",
        "print(\"Total no. of Unique Current pincode Ids :\", all_data['Current_pincode_ID'].nunique())\n",
        "print(\"Total no. of Unique State IDs :\",all_data['State_ID'].nunique())\n",
        "print(\"Total no. of Unique Employee code IDs :\", all_data['Employee_code_ID'].nunique())"
      ],
      "execution_count": 141,
      "outputs": [
        {
          "output_type": "stream",
          "text": [
            "Total no. of Unique Ids : 345546\n",
            "Total no. of Unique Branches : 82\n",
            "Total no. of Unique Suppliers : 3089\n",
            "Total no. of Unique Manufactures : 12\n",
            "Total no. of Unique Current pincode Ids : 7096\n",
            "Total no. of Unique State IDs : 22\n",
            "Total no. of Unique Employee code IDs : 3398\n"
          ],
          "name": "stdout"
        }
      ]
    },
    {
      "metadata": {
        "id": "0jNacm6lGZ-7",
        "colab_type": "code",
        "colab": {
          "base_uri": "https://localhost:8080/",
          "height": 371
        },
        "outputId": "df6c6692-e2f7-4026-9d02-abff4a60e91b"
      },
      "cell_type": "code",
      "source": [
        "# check the distribution of disbursed amount\n",
        "\n",
        "plt.rcParams['figure.figsize'] = (18, 5)\n",
        "\n",
        "plt.subplot(1, 3, 1)\n",
        "sns.distplot(all_data['disbursed_amount'],  color = 'orange')\n",
        "plt.title('Disburesed Amount')\n",
        "\n",
        "plt.subplot(1, 3, 2)\n",
        "sns.distplot(all_data['asset_cost'], color = 'pink')\n",
        "plt.title('Asset Cost')\n",
        "\n",
        "plt.subplot(1, 3, 3)\n",
        "sns.distplot(all_data['ltv'], color = 'red')\n",
        "plt.title('Loan to value of the asset')\n",
        "\n",
        "plt.show()"
      ],
      "execution_count": 142,
      "outputs": [
        {
          "output_type": "display_data",
          "data": {
            "image/png": "[encoded data removed]",
            "text/plain": [
              "<Figure size 1296x360 with 3 Axes>"
            ]
          },
          "metadata": {
            "tags": []
          }
        }
      ]
    },
    {
      "metadata": {
        "id": "uJntb8sBGlJ2",
        "colab_type": "code",
        "colab": {
          "base_uri": "https://localhost:8080/",
          "height": 371
        },
        "outputId": "88d6cd79-9ee1-4b5c-980a-987ea1f231d6"
      },
      "cell_type": "code",
      "source": [
        "#performing log transformations on disbursed amount, ltv, and asset cost\n",
        "\n",
        "all_data['disbursed_amount'] = np.log1p(data['disbursed_amount'])\n",
        "all_data['ltv'] = np.log1p(all_data['ltv'])\n",
        "all_data['asset_cost'] = np.log1p(all_data['asset_cost'])\n",
        "\n",
        "\n",
        "plt.rcParams['figure.figsize'] = (18, 5)\n",
        "\n",
        "plt.subplot(1, 3, 1)\n",
        "sns.distplot(all_data['disbursed_amount'],  color = 'orange')\n",
        "plt.title('Disburesed Amount')\n",
        "\n",
        "plt.subplot(1, 3, 2)\n",
        "sns.distplot(all_data['asset_cost'], color = 'pink')\n",
        "plt.title('Asset Cost')\n",
        "\n",
        "plt.subplot(1, 3, 3)\n",
        "sns.distplot(all_data['ltv'], color = 'red')\n",
        "plt.title('Loan to value of the asset')\n",
        "\n",
        "plt.show()"
      ],
      "execution_count": 143,
      "outputs": [
        {
          "output_type": "display_data",
          "data": {
            "image/png": "[encoded data removed]",
            "text/plain": [
              "<Figure size 1296x360 with 3 Axes>"
            ]
          },
          "metadata": {
            "tags": []
          }
        }
      ]
    },
    {
      "metadata": {
        "id": "qFz97V3KGoah",
        "colab_type": "code",
        "colab": {
          "base_uri": "https://localhost:8080/",
          "height": 388
        },
        "outputId": "696f87e7-3bd3-4cc6-b0f1-9f12d136cdf5"
      },
      "cell_type": "code",
      "source": [
        "# date of birth is an useless attribute \n",
        "#  the only thing we can extract the is the year of birth\n",
        "# let's first convert the date into date-time format\n",
        "\n",
        "all_data['Date.of.Birth'] = pd.to_datetime(all_data['Date.of.Birth'], errors = 'coerce')\n",
        "\n",
        "# extracting the year of birth of the customers\n",
        "all_data['Year_of_birth'] = all_data['Date.of.Birth'].dt.year\n",
        "\n",
        "# checking the values inside date of year\n",
        "sns.distplot(all_data['Year_of_birth'], color = 'blue')\n",
        "plt.title('Distribution of Year of birth')"
      ],
      "execution_count": 144,
      "outputs": [
        {
          "output_type": "execute_result",
          "data": {
            "text/plain": [
              "Text(0.5, 1.0, 'Distribution of Year of birth')"
            ]
          },
          "metadata": {
            "tags": []
          },
          "execution_count": 144
        },
        {
          "output_type": "display_data",
          "data": {
            "image/png": "[encoded data removed]",
            "text/plain": [
              "<Figure size 1296x360 with 1 Axes>"
            ]
          },
          "metadata": {
            "tags": []
          }
        }
      ]
    },
    {
      "metadata": {
        "id": "i1ptOytGG_Tn",
        "colab_type": "code",
        "colab": {
          "base_uri": "https://localhost:8080/",
          "height": 401
        },
        "outputId": "d0b0f0b0-23bb-46fc-f8b8-1cef979d0783"
      },
      "cell_type": "code",
      "source": [
        "# plotting a countplot\n",
        "\n",
        "sns.countplot(all_data['NO.OF_INQUIRIES'], palette = 'muted')\n",
        "plt.title('No. of Inquiries',  fontsize = 30)"
      ],
      "execution_count": 145,
      "outputs": [
        {
          "output_type": "execute_result",
          "data": {
            "text/plain": [
              "Text(0.5, 1.0, 'No. of Inquiries')"
            ]
          },
          "metadata": {
            "tags": []
          },
          "execution_count": 145
        },
        {
          "output_type": "display_data",
          "data": {
            "image/png": "[encoded data removed]",
            "text/plain": [
              "<Figure size 1296x360 with 1 Axes>"
            ]
          },
          "metadata": {
            "tags": []
          }
        }
      ]
    },
    {
      "metadata": {
        "id": "7v390S8fHNuA",
        "colab_type": "code",
        "colab": {
          "base_uri": "https://localhost:8080/",
          "height": 460
        },
        "outputId": "62fd6a18-8b52-4040-d0c8-da51023a941f"
      },
      "cell_type": "code",
      "source": [
        "# plotting countplot for credit history of users\n",
        "\n",
        "plt.rcParams['figure.figsize'] = (18, 5)\n",
        "sns.countplot(all_data['CREDIT.HISTORY.LENGTH'].head(50))\n",
        "plt.title('Credit History')\n",
        "plt.xticks(rotation = 45)"
      ],
      "execution_count": 146,
      "outputs": [
        {
          "output_type": "execute_result",
          "data": {
            "text/plain": [
              "(array([ 0,  1,  2,  3,  4,  5,  6,  7,  8,  9, 10, 11, 12, 13, 14, 15, 16,\n",
              "        17, 18, 19, 20, 21, 22, 23, 24, 25, 26, 27, 28]),\n",
              " <a list of 29 Text xticklabel objects>)"
            ]
          },
          "metadata": {
            "tags": []
          },
          "execution_count": 146
        },
        {
          "output_type": "display_data",
          "data": {
            "image/png": "[encoded data removed]",
            "text/plain": [
              "<Figure size 1296x360 with 1 Axes>"
            ]
          },
          "metadata": {
            "tags": []
          }
        }
      ]
    },
    {
      "metadata": {
        "id": "01ZEylYEHeBd",
        "colab_type": "code",
        "colab": {
          "base_uri": "https://localhost:8080/",
          "height": 443
        },
        "outputId": "68fa99c0-5cec-48b3-9741-8e661a43b8f2"
      },
      "cell_type": "code",
      "source": [
        "# plotting countplot for credit history of users\n",
        "\n",
        "plt.rcParams['figure.figsize'] = (18, 5)\n",
        "sns.countplot(all_data['CREDIT.HISTORY.LENGTH'].tail(50))\n",
        "plt.title('Credit History')\n",
        "plt.xticks(rotation = 45)"
      ],
      "execution_count": 147,
      "outputs": [
        {
          "output_type": "execute_result",
          "data": {
            "text/plain": [
              "(array([ 0,  1,  2,  3,  4,  5,  6,  7,  8,  9, 10, 11, 12, 13, 14, 15, 16,\n",
              "        17, 18, 19, 20, 21]), <a list of 22 Text xticklabel objects>)"
            ]
          },
          "metadata": {
            "tags": []
          },
          "execution_count": 147
        },
        {
          "output_type": "display_data",
          "data": {
            "image/png": "[encoded data removed]",
            "text/plain": [
              "<Figure size 1296x360 with 1 Axes>"
            ]
          },
          "metadata": {
            "tags": []
          }
        }
      ]
    },
    {
      "metadata": {
        "id": "85LTRtcDHiml",
        "colab_type": "code",
        "colab": {}
      },
      "cell_type": "code",
      "source": [
        "# changing the credit history format from ayrsbmonths to years \n",
        "# as no. of years are more important\n",
        "\n",
        "all_data['CREDIT.HISTORY.LENGTH'] = all_data['CREDIT.HISTORY.LENGTH'].apply(lambda x: x.split(' ')[0])\n",
        "all_data['CREDIT.HISTORY.LENGTH'] = all_data['CREDIT.HISTORY.LENGTH'].apply(lambda x: x.split('yrs')[0])\n",
        "#data['CREDIT.HISTORY.LENGTH'].value_counts()"
      ],
      "execution_count": 0,
      "outputs": []
    },
    {
      "metadata": {
        "id": "JG81V1qxHsD0",
        "colab_type": "code",
        "colab": {
          "base_uri": "https://localhost:8080/",
          "height": 379
        },
        "outputId": "4a94c9fd-f4a7-4b9f-b845-74d8563cfeed"
      },
      "cell_type": "code",
      "source": [
        "# distribution of credit history years\n",
        "\n",
        "plt.rcParams['figure.figsize'] = (18, 5)\n",
        "sns.countplot(all_data['CREDIT.HISTORY.LENGTH'], palette = 'dark')\n",
        "plt.title('Credit History in Years', fontsize = 25)\n",
        "plt.show()"
      ],
      "execution_count": 149,
      "outputs": [
        {
          "output_type": "display_data",
          "data": {
            "image/png": "[encoded data removed]",
            "text/plain": [
              "<Figure size 1296x360 with 1 Axes>"
            ]
          },
          "metadata": {
            "tags": []
          }
        }
      ]
    },
    {
      "metadata": {
        "id": "beRiDFrVH3HW",
        "colab_type": "code",
        "colab": {
          "base_uri": "https://localhost:8080/",
          "height": 443
        },
        "outputId": "c9412849-47b9-48ff-e9e8-0395d5fdfc1e"
      },
      "cell_type": "code",
      "source": [
        "# average.acct.age i.e., average loan tenure\n",
        "\n",
        "sns.countplot(all_data['AVERAGE.ACCT.AGE'].head(50), palette = 'colorblind')\n",
        "plt.title('Average Loan Tenure')\n",
        "plt.xticks(rotation = 45)"
      ],
      "execution_count": 150,
      "outputs": [
        {
          "output_type": "execute_result",
          "data": {
            "text/plain": [
              "(array([ 0,  1,  2,  3,  4,  5,  6,  7,  8,  9, 10, 11, 12, 13, 14, 15, 16,\n",
              "        17, 18, 19, 20, 21, 22, 23]), <a list of 24 Text xticklabel objects>)"
            ]
          },
          "metadata": {
            "tags": []
          },
          "execution_count": 150
        },
        {
          "output_type": "display_data",
          "data": {
            "image/png": "[encoded data removed]",
            "text/plain": [
              "<Figure size 1296x360 with 1 Axes>"
            ]
          },
          "metadata": {
            "tags": []
          }
        }
      ]
    },
    {
      "metadata": {
        "id": "BPwpzUuZICX7",
        "colab_type": "code",
        "colab": {
          "base_uri": "https://localhost:8080/",
          "height": 443
        },
        "outputId": "531c65dc-d250-4a1c-93b9-0184ddbd05c3"
      },
      "cell_type": "code",
      "source": [
        "# average.acct.age i.e., average loan tenure\n",
        "\n",
        "sns.countplot(all_data['AVERAGE.ACCT.AGE'].tail(50), palette = 'colorblind')\n",
        "plt.title('Average Loan Tenure')\n",
        "plt.xticks(rotation = 45)"
      ],
      "execution_count": 151,
      "outputs": [
        {
          "output_type": "execute_result",
          "data": {
            "text/plain": [
              "(array([ 0,  1,  2,  3,  4,  5,  6,  7,  8,  9, 10, 11, 12, 13, 14, 15, 16,\n",
              "        17, 18, 19, 20]), <a list of 21 Text xticklabel objects>)"
            ]
          },
          "metadata": {
            "tags": []
          },
          "execution_count": 151
        },
        {
          "output_type": "display_data",
          "data": {
            "image/png": "[encoded data removed]",
            "text/plain": [
              "<Figure size 1296x360 with 1 Axes>"
            ]
          },
          "metadata": {
            "tags": []
          }
        }
      ]
    },
    {
      "metadata": {
        "id": "dlmLCyWfIFIu",
        "colab_type": "code",
        "colab": {
          "base_uri": "https://localhost:8080/",
          "height": 425
        },
        "outputId": "302a8811-f1b9-4205-8b7f-3a883c260a01"
      },
      "cell_type": "code",
      "source": [
        "# changing the average account age format from ayrsbmonths to years \n",
        "# as no. of years are more important\n",
        "\n",
        "all_data['AVERAGE.ACCT.AGE'] = all_data['AVERAGE.ACCT.AGE'].apply(lambda x: x.split(' ')[0])\n",
        "all_data['AVERAGE.ACCT.AGE'] = all_data['AVERAGE.ACCT.AGE'].apply(lambda x: x.split('yrs')[0])\n",
        "all_data['AVERAGE.ACCT.AGE'].value_counts()"
      ],
      "execution_count": 152,
      "outputs": [
        {
          "output_type": "execute_result",
          "data": {
            "text/plain": [
              "0     249836\n",
              "1      54096\n",
              "2      22028\n",
              "3       9702\n",
              "4       4530\n",
              "5       2329\n",
              "6       1242\n",
              "7        704\n",
              "8        345\n",
              "9        228\n",
              "10       180\n",
              "11       153\n",
              "12        73\n",
              "13        48\n",
              "14        24\n",
              "15        14\n",
              "16         7\n",
              "17         2\n",
              "30         1\n",
              "22         1\n",
              "24         1\n",
              "25         1\n",
              "18         1\n",
              "Name: AVERAGE.ACCT.AGE, dtype: int64"
            ]
          },
          "metadata": {
            "tags": []
          },
          "execution_count": 152
        }
      ]
    },
    {
      "metadata": {
        "id": "taepCN-IIZh6",
        "colab_type": "code",
        "colab": {
          "base_uri": "https://localhost:8080/",
          "height": 306
        },
        "outputId": "b55f18e9-f063-4e11-f597-7cbdb8654c32"
      },
      "cell_type": "code",
      "source": [
        "# loans defaulted in last six months\n",
        "\n",
        "all_data['DELINQUENT.ACCTS.IN.LAST.SIX.MONTHS'].value_counts()"
      ],
      "execution_count": 153,
      "outputs": [
        {
          "output_type": "execute_result",
          "data": {
            "text/plain": [
              "0     319144\n",
              "1      21684\n",
              "2       3550\n",
              "3        790\n",
              "4        220\n",
              "5         78\n",
              "6         29\n",
              "7         21\n",
              "8         10\n",
              "9          7\n",
              "12         5\n",
              "11         3\n",
              "10         2\n",
              "20         1\n",
              "18         1\n",
              "16         1\n",
              "Name: DELINQUENT.ACCTS.IN.LAST.SIX.MONTHS, dtype: int64"
            ]
          },
          "metadata": {
            "tags": []
          },
          "execution_count": 153
        }
      ]
    },
    {
      "metadata": {
        "id": "r4F_iX2dIdbF",
        "colab_type": "code",
        "colab": {
          "base_uri": "https://localhost:8080/",
          "height": 476
        },
        "outputId": "7d39aa02-4a86-4883-80cd-7bb5ca998e76"
      },
      "cell_type": "code",
      "source": [
        "# new loans taken by the customer before disbursement\n",
        "\n",
        "all_data['NEW.ACCTS.IN.LAST.SIX.MONTHS'].value_counts()"
      ],
      "execution_count": 154,
      "outputs": [
        {
          "output_type": "execute_result",
          "data": {
            "text/plain": [
              "0     272341\n",
              "1      45965\n",
              "2      15618\n",
              "3       6161\n",
              "4       2636\n",
              "5       1287\n",
              "6        625\n",
              "7        383\n",
              "8        197\n",
              "9        109\n",
              "10        82\n",
              "11        47\n",
              "12        28\n",
              "13        18\n",
              "14        11\n",
              "17         9\n",
              "16         8\n",
              "15         4\n",
              "19         4\n",
              "20         4\n",
              "18         2\n",
              "22         2\n",
              "23         2\n",
              "28         1\n",
              "21         1\n",
              "35         1\n",
              "Name: NEW.ACCTS.IN.LAST.SIX.MONTHS, dtype: int64"
            ]
          },
          "metadata": {
            "tags": []
          },
          "execution_count": 154
        }
      ]
    },
    {
      "metadata": {
        "id": "2e9QnDexIiB-",
        "colab_type": "code",
        "colab": {
          "base_uri": "https://localhost:8080/",
          "height": 403
        },
        "outputId": "e8192df3-b9eb-4ee8-ece0-abf7c10d92b6"
      },
      "cell_type": "code",
      "source": [
        "# EMI Amount of the Secondary Plan\n",
        "\n",
        "plt.subplot(1, 2, 1)\n",
        "sns.distplot(all_data['SEC.INSTAL.AMT'])\n",
        "plt.title('EMI Amount Secondary Plan', fontsize = 20)\n",
        "plt.xticks(rotation = 45)\n",
        "\n",
        "plt.subplot(1, 2, 2)\n",
        "sns.distplot(all_data['PRIMARY.INSTAL.AMT'])\n",
        "plt.title('EMI Amount Primary Plan', fontsize = 20)\n",
        "plt.xticks(rotation = 45)\n",
        "\n",
        "plt.show()"
      ],
      "execution_count": 155,
      "outputs": [
        {
          "output_type": "display_data",
          "data": {
            "image/png": "[encoded data removed]",
            "text/plain": [
              "<Figure size 1296x360 with 2 Axes>"
            ]
          },
          "metadata": {
            "tags": []
          }
        }
      ]
    },
    {
      "metadata": {
        "id": "ci1aQp7IInXt",
        "colab_type": "code",
        "colab": {
          "base_uri": "https://localhost:8080/",
          "height": 388
        },
        "outputId": "c0a7baff-6006-4940-997a-c2b4e24d4483"
      },
      "cell_type": "code",
      "source": [
        "# let's apply log transformations on EMI Amount of the Primary Loan and Secondary loan\n",
        "\n",
        "all_data['PRIMARY.INSTAL.AMT'] = np.log1p(all_data['PRIMARY.INSTAL.AMT'])\n",
        "all_data['SEC.INSTAL.AMT'] = np.log1p(all_data['SEC.INSTAL.AMT'])\n",
        "\n",
        "plt.subplot(1, 2, 1)\n",
        "sns.distplot(all_data['SEC.INSTAL.AMT'], color = 'yellow')\n",
        "plt.title('EMI Amount Secondary Plan', fontsize = 20)\n",
        "plt.xticks(rotation = 45)\n",
        "\n",
        "plt.subplot(1, 2, 2)\n",
        "sns.distplot(all_data['PRIMARY.INSTAL.AMT'],color = 'yellow')\n",
        "plt.title('EMI Amount Primary Plan', fontsize = 20)\n",
        "plt.xticks(rotation = 45)\n",
        "\n",
        "plt.show()"
      ],
      "execution_count": 156,
      "outputs": [
        {
          "output_type": "display_data",
          "data": {
            "image/png": "[encoded data removed]",
            "text/plain": [
              "<Figure size 1296x360 with 2 Axes>"
            ]
          },
          "metadata": {
            "tags": []
          }
        }
      ]
    },
    {
      "metadata": {
        "id": "U2tXHWZ_Ira7",
        "colab_type": "code",
        "colab": {
          "base_uri": "https://localhost:8080/",
          "height": 810
        },
        "outputId": "5978a687-3d0d-4ffa-ac0c-64585ee8e8d8"
      },
      "cell_type": "code",
      "source": [
        "# distribution for different attributesof secondary accounts\n",
        "\n",
        "\n",
        "plt.rcParams['figure.figsize'] = (18, 12)    \n",
        "plt.subplot(2, 3, 1)\n",
        "sns.distplot(all_data['SEC.NO.OF.ACCTS'], color = 'green')\n",
        "plt.title('Total loan taken by customer')\n",
        "plt.xticks(rotation = 45)\n",
        "\n",
        "plt.subplot(2, 3, 2)\n",
        "sns.distplot(all_data['SEC.ACTIVE.ACCTS'], color = 'green')\n",
        "plt.title('Active loan taken by customer')\n",
        "plt.xticks(rotation = 45)\n",
        "\n",
        "plt.subplot(2, 3, 3)\n",
        "sns.distplot(all_data['SEC.OVERDUE.ACCTS'], color = 'green')\n",
        "plt.title('Default Accounts at the time of disbursement')\n",
        "plt.xticks(rotation = 45)\n",
        "\n",
        "plt.subplot(2, 3, 4)\n",
        "sns.distplot(all_data['SEC.CURRENT.BALANCE'], color = 'green')\n",
        "plt.title('Principal Outstanding amount')\n",
        "plt.xticks(rotation = 45)\n",
        "\n",
        "plt.subplot(2, 3, 5)\n",
        "sns.distplot(all_data['SEC.SANCTIONED.AMOUNT'], color = 'green')\n",
        "plt.title('Total Sanctioned Amount')\n",
        "plt.xticks(rotation = 45)\n",
        "\n",
        "plt.subplot(2, 3, 6)\n",
        "sns.distplot(all_data['SEC.DISBURSED.AMOUNT'], color = 'green')\n",
        "plt.title('Total Disbured Amount')\n",
        "plt.xticks(rotation = 45)"
      ],
      "execution_count": 157,
      "outputs": [
        {
          "output_type": "execute_result",
          "data": {
            "text/plain": [
              "(array([-10000000.,         0.,  10000000.,  20000000.,  30000000.,\n",
              "         40000000.,  50000000.,  60000000.,  70000000.]),\n",
              " <a list of 9 Text xticklabel objects>)"
            ]
          },
          "metadata": {
            "tags": []
          },
          "execution_count": 157
        },
        {
          "output_type": "display_data",
          "data": {
            "image/png": "[encoded data removed]",
            "text/plain": [
              "<Figure size 1296x864 with 6 Axes>"
            ]
          },
          "metadata": {
            "tags": []
          }
        }
      ]
    },
    {
      "metadata": {
        "id": "0w2kHVbFJCDz",
        "colab_type": "code",
        "colab": {
          "base_uri": "https://localhost:8080/",
          "height": 759
        },
        "outputId": "76d9aacd-3cc6-4b83-cd15-c9cb62c27349"
      },
      "cell_type": "code",
      "source": [
        "plt.rcParams['figure.figsize'] = (18, 12)    \n",
        "plt.subplot(2, 3, 1)\n",
        "sns.distplot(all_data['SEC.NO.OF.ACCTS'], color = 'red')\n",
        "plt.title('Total loan taken by customer')\n",
        "plt.xticks(rotation = 45)\n",
        "\n",
        "plt.subplot(2, 3, 2)\n",
        "sns.distplot(all_data['SEC.ACTIVE.ACCTS'], color = 'red')\n",
        "plt.title('Active loan taken by customer')\n",
        "plt.xticks(rotation = 45)\n",
        "\n",
        "plt.subplot(2, 3, 3)\n",
        "sns.distplot(all_data['SEC.OVERDUE.ACCTS'], color = 'red')\n",
        "plt.title('Default Accounts')\n",
        "plt.xticks(rotation = 45)\n",
        "\n",
        "plt.subplot(2, 3, 4)\n",
        "sns.distplot(all_data['SEC.CURRENT.BALANCE'], color = 'red')\n",
        "plt.title('Principal Outstanding amount')\n",
        "plt.xticks(rotation = 45)\n",
        "\n",
        "plt.subplot(2, 3, 5)\n",
        "sns.distplot(all_data['SEC.SANCTIONED.AMOUNT'], color = 'red')\n",
        "plt.title('Total Sanctioned Amount')\n",
        "plt.xticks(rotation = 45)\n",
        "\n",
        "plt.subplot(2, 3, 6)\n",
        "sns.distplot(all_data['SEC.DISBURSED.AMOUNT'], color = 'red')\n",
        "plt.title('Total Disbured Amount')\n",
        "plt.xticks(rotation = 45)\n",
        "\n",
        "plt.show()"
      ],
      "execution_count": 158,
      "outputs": [
        {
          "output_type": "display_data",
          "data": {
            "image/png": "[encoded data removed]",
            "text/plain": [
              "<Figure size 1296x864 with 6 Axes>"
            ]
          },
          "metadata": {
            "tags": []
          }
        }
      ]
    },
    {
      "metadata": {
        "id": "-K6TOfwDJWsC",
        "colab_type": "code",
        "colab": {
          "base_uri": "https://localhost:8080/",
          "height": 759
        },
        "outputId": "e68886c1-a921-4ce5-a02e-55cd8131ac42"
      },
      "cell_type": "code",
      "source": [
        "plt.rcParams['figure.figsize'] = (18, 12)    \n",
        "plt.subplot(2, 3, 1)\n",
        "sns.distplot(all_data['SEC.NO.OF.ACCTS'], color = 'red')\n",
        "plt.title('Total loan taken by customer')\n",
        "plt.xticks(rotation = 45)\n",
        "\n",
        "plt.subplot(2, 3, 2)\n",
        "sns.distplot(all_data['SEC.ACTIVE.ACCTS'], color = 'red')\n",
        "plt.title('Active loan taken by customer')\n",
        "plt.xticks(rotation = 45)\n",
        "\n",
        "plt.subplot(2, 3, 3)\n",
        "sns.distplot(all_data['SEC.OVERDUE.ACCTS'], color = 'red')\n",
        "plt.title('Default Accounts')\n",
        "plt.xticks(rotation = 45)\n",
        "\n",
        "plt.subplot(2, 3, 4)\n",
        "sns.distplot(all_data['SEC.CURRENT.BALANCE'], color = 'red')\n",
        "plt.title('Principal Outstanding amount')\n",
        "plt.xticks(rotation = 45)\n",
        "\n",
        "plt.subplot(2, 3, 5)\n",
        "sns.distplot(all_data['SEC.SANCTIONED.AMOUNT'], color = 'red')\n",
        "plt.title('Total Sanctioned Amount')\n",
        "plt.xticks(rotation = 45)\n",
        "\n",
        "plt.subplot(2, 3, 6)\n",
        "sns.distplot(all_data['SEC.DISBURSED.AMOUNT'], color = 'red')\n",
        "plt.title('Total Disbured Amount')\n",
        "plt.xticks(rotation = 45)\n",
        "\n",
        "plt.show()"
      ],
      "execution_count": 159,
      "outputs": [
        {
          "output_type": "display_data",
          "data": {
            "image/png": "[encoded data removed]",
            "text/plain": [
              "<Figure size 1296x864 with 6 Axes>"
            ]
          },
          "metadata": {
            "tags": []
          }
        }
      ]
    },
    {
      "metadata": {
        "id": "3mE-AyZ6JcHV",
        "colab_type": "code",
        "colab": {}
      },
      "cell_type": "code",
      "source": [
        "#  applying log transformations to the primary account attributes\n",
        "\n",
        "all_data['PRI.NO.OF.ACCTS'] = np.log1p(all_data['PRI.NO.OF.ACCTS'])\n",
        "all_data['PRI.ACTIVE.ACCTS'] = np.log1p(all_data['PRI.ACTIVE.ACCTS'])\n",
        "all_data['PRI.OVERDUE.ACCTS'] = np.log1p(all_data['PRI.OVERDUE.ACCTS'])\n",
        "#all_data['PRI.CURRENT.BALANCE'] = np.log1p(all_data['PRI.CURRENT.BALANCE'])\n",
        "#all_data['PRI.SANCTIONED.AMOUNT'] = np.log1p(all_data['PRI.SANCTIONED.AMOUNT'])\n",
        "all_data['PRI.DISBURSED.AMOUNT'] = np.log1p(all_data['PRI.DISBURSED.AMOUNT'])\n",
        "\n",
        "\n",
        "#  filling  missing values in sec.current.balance\n",
        "all_data['PRI.CURRENT.BALANCE'].fillna(all_data['PRI.CURRENT.BALANCE'].mean(), inplace = True)\n",
        "all_data['PRI.SANCTIONED.AMOUNT'].fillna(all_data['PRI.SANCTIONED.AMOUNT'].mean(), inplace = True)"
      ],
      "execution_count": 0,
      "outputs": []
    },
    {
      "metadata": {
        "id": "N7rrPRW-KAdJ",
        "colab_type": "code",
        "colab": {
          "base_uri": "https://localhost:8080/",
          "height": 759
        },
        "outputId": "c38a07c3-7fa1-4398-8611-660680cc562e"
      },
      "cell_type": "code",
      "source": [
        "# plotting distribution plots for these attributes\n",
        "\n",
        "plt.rcParams['figure.figsize'] = (18, 12)    \n",
        "plt.subplot(2, 3, 1)\n",
        "sns.distplot(all_data['PRI.NO.OF.ACCTS'], color = 'violet')\n",
        "plt.title('Total loan taken by customer')\n",
        "plt.xticks(rotation = 45)\n",
        "\n",
        "plt.subplot(2, 3, 2)\n",
        "sns.distplot(all_data['PRI.ACTIVE.ACCTS'], color = 'violet')\n",
        "plt.title('Active loan taken by customer')\n",
        "plt.xticks(rotation = 45)\n",
        "\n",
        "plt.subplot(2, 3, 3)\n",
        "sns.distplot(all_data['PRI.OVERDUE.ACCTS'], color = 'violet')\n",
        "plt.title('Default Accounts')\n",
        "plt.xticks(rotation = 45)\n",
        "\n",
        "plt.subplot(2, 3, 4)\n",
        "sns.distplot(all_data['PRI.CURRENT.BALANCE'], color = 'violet')\n",
        "plt.title('Principal Outstanding amount')\n",
        "plt.xticks(rotation = 45)\n",
        "\n",
        "plt.subplot(2, 3, 5)\n",
        "sns.distplot(all_data['PRI.SANCTIONED.AMOUNT'], color = 'violet')\n",
        "plt.title('Total Sanctioned Amount')\n",
        "plt.xticks(rotation = 45)\n",
        "\n",
        "plt.subplot(2, 3, 6)\n",
        "sns.distplot(all_data['PRI.DISBURSED.AMOUNT'], color = 'violet')\n",
        "plt.title('Total Disbured Amount')\n",
        "plt.xticks(rotation = 45)\n",
        "\n",
        "plt.show()"
      ],
      "execution_count": 161,
      "outputs": [
        {
          "output_type": "display_data",
          "data": {
            "image/png": "[encoded data removed]",
            "text/plain": [
              "<Figure size 1296x864 with 6 Axes>"
            ]
          },
          "metadata": {
            "tags": []
          }
        }
      ]
    },
    {
      "metadata": {
        "id": "Typ4pEeMKEHR",
        "colab_type": "code",
        "colab": {
          "base_uri": "https://localhost:8080/",
          "height": 706
        },
        "outputId": "1e64e006-fc06-47c4-db98-6ab72b49c86a"
      },
      "cell_type": "code",
      "source": [
        "# checking the bureau score description\n",
        "\n",
        "plt.rcParams['figure.figsize'] = (19, 6)\n",
        "sns.countplot(all_data['PERFORM_CNS.SCORE.DESCRIPTION'], palette = 'pastel')\n",
        "plt.title('Bureau Score Description', fontsize = 30)\n",
        "plt.xticks(rotation = 90)\n",
        "plt.show()\n"
      ],
      "execution_count": 162,
      "outputs": [
        {
          "output_type": "display_data",
          "data": {
            "image/png": "[encoded data removed]",
            "text/plain": [
              "<Figure size 1368x432 with 1 Axes>"
            ]
          },
          "metadata": {
            "tags": []
          }
        }
      ]
    },
    {
      "metadata": {
        "id": "aq-jk40fKVqv",
        "colab_type": "code",
        "colab": {
          "base_uri": "https://localhost:8080/",
          "height": 374
        },
        "outputId": "093a703e-c619-4bcb-ee98-31e10b6f8d0c"
      },
      "cell_type": "code",
      "source": [
        "# checking the perform cns score description\n",
        "\n",
        "all_data['PERFORM_CNS.SCORE.DESCRIPTION'].value_counts()"
      ],
      "execution_count": 163,
      "outputs": [
        {
          "output_type": "execute_result",
          "data": {
            "text/plain": [
              "No Bureau History Available                                174843\n",
              "C-Very Low Risk                                             23870\n",
              "A-Very Low Risk                                             21683\n",
              "D-Very Low Risk                                             16472\n",
              "B-Very Low Risk                                             13696\n",
              "M-Very High Risk                                            12808\n",
              "F-Low Risk                                                  12176\n",
              "K-High Risk                                                 12141\n",
              "H-Medium Risk                                               10142\n",
              "E-Low Risk                                                   8393\n",
              "I-Medium Risk                                                8260\n",
              "G-Low Risk                                                   5795\n",
              "J-High Risk                                                  5526\n",
              "Not Scored: Sufficient History Not Available                 5025\n",
              "Not Scored: Not Enough Info available on the customer        4940\n",
              "Not Scored: No Activity seen on the customer (Inactive)      4246\n",
              "Not Scored: No Updates available in last 36 months           2299\n",
              "L-Very High Risk                                             1782\n",
              "Not Scored: Only a Guarantor                                 1446\n",
              "Not Scored: More than 50 active Accounts found                  3\n",
              "Name: PERFORM_CNS.SCORE.DESCRIPTION, dtype: int64"
            ]
          },
          "metadata": {
            "tags": []
          },
          "execution_count": 163
        }
      ]
    },
    {
      "metadata": {
        "id": "egwlrSkWKmSw",
        "colab_type": "code",
        "colab": {
          "base_uri": "https://localhost:8080/",
          "height": 136
        },
        "outputId": "4bcb0923-fb69-4c32-a227-f089b331f96a"
      },
      "cell_type": "code",
      "source": [
        "# encodings for bureau score(perform cns score distribution)\n",
        "\n",
        "all_data['PERFORM_CNS.SCORE.DESCRIPTION'] = all_data['PERFORM_CNS.SCORE.DESCRIPTION'].replace('No Bureau History Available', 0)\n",
        "all_data['PERFORM_CNS.SCORE.DESCRIPTION'] = all_data['PERFORM_CNS.SCORE.DESCRIPTION'].replace('Not Scored: Sufficient History Not Available', 0)\n",
        "all_data['PERFORM_CNS.SCORE.DESCRIPTION'] = all_data['PERFORM_CNS.SCORE.DESCRIPTION'].replace('Not Scored: Not Enough Info available on the customer', 0)\n",
        "all_data['PERFORM_CNS.SCORE.DESCRIPTION'] = all_data['PERFORM_CNS.SCORE.DESCRIPTION'].replace('Not Scored: No Activity seen on the customer (Inactive)',0)\n",
        "all_data['PERFORM_CNS.SCORE.DESCRIPTION'] = all_data['PERFORM_CNS.SCORE.DESCRIPTION'].replace('Not Scored: No Updates available in last 36 months', 0)\n",
        "all_data['PERFORM_CNS.SCORE.DESCRIPTION'] = all_data['PERFORM_CNS.SCORE.DESCRIPTION'].replace('Not Scored: Only a Guarantor', 0)\n",
        "all_data['PERFORM_CNS.SCORE.DESCRIPTION'] = all_data['PERFORM_CNS.SCORE.DESCRIPTION'].replace('Not Scored: More than 50 active Accounts found',0)\n",
        "all_data['PERFORM_CNS.SCORE.DESCRIPTION'] = all_data['PERFORM_CNS.SCORE.DESCRIPTION'].replace('M-Very High Risk', 1)\n",
        "all_data['PERFORM_CNS.SCORE.DESCRIPTION'] = all_data['PERFORM_CNS.SCORE.DESCRIPTION'].replace('L-Very High Risk', 1)\n",
        "all_data['PERFORM_CNS.SCORE.DESCRIPTION'] = all_data['PERFORM_CNS.SCORE.DESCRIPTION'].replace('K-High Risk', 2)\n",
        "all_data['PERFORM_CNS.SCORE.DESCRIPTION'] = all_data['PERFORM_CNS.SCORE.DESCRIPTION'].replace('J-High Risk', 2)\n",
        "all_data['PERFORM_CNS.SCORE.DESCRIPTION'] = all_data['PERFORM_CNS.SCORE.DESCRIPTION'].replace('I-Medium Risk', 3)\n",
        "all_data['PERFORM_CNS.SCORE.DESCRIPTION'] = all_data['PERFORM_CNS.SCORE.DESCRIPTION'].replace('H-Medium Risk', 3)\n",
        "all_data['PERFORM_CNS.SCORE.DESCRIPTION'] = all_data['PERFORM_CNS.SCORE.DESCRIPTION'].replace('G-Low Risk', 4)\n",
        "all_data['PERFORM_CNS.SCORE.DESCRIPTION'] = all_data['PERFORM_CNS.SCORE.DESCRIPTION'].replace('F-Low Risk', 4)\n",
        "all_data['PERFORM_CNS.SCORE.DESCRIPTION'] = all_data['PERFORM_CNS.SCORE.DESCRIPTION'].replace('E-Low Risk', 4)\n",
        "all_data['PERFORM_CNS.SCORE.DESCRIPTION'] = all_data['PERFORM_CNS.SCORE.DESCRIPTION'].replace('D-Very Low Risk', 5)\n",
        "all_data['PERFORM_CNS.SCORE.DESCRIPTION'] = all_data['PERFORM_CNS.SCORE.DESCRIPTION'].replace('C-Very Low Risk', 5)\n",
        "all_data['PERFORM_CNS.SCORE.DESCRIPTION'] = all_data['PERFORM_CNS.SCORE.DESCRIPTION'].replace('B-Very Low Risk', 5)\n",
        "all_data['PERFORM_CNS.SCORE.DESCRIPTION'] = all_data['PERFORM_CNS.SCORE.DESCRIPTION'].replace('A-Very Low Risk', 5)\n",
        "\n",
        "# checing the values in bureau score\n",
        "all_data['PERFORM_CNS.SCORE.DESCRIPTION'].value_counts()"
      ],
      "execution_count": 164,
      "outputs": [
        {
          "output_type": "execute_result",
          "data": {
            "text/plain": [
              "0    192802\n",
              "5     75721\n",
              "4     26364\n",
              "3     18402\n",
              "2     17667\n",
              "1     14590\n",
              "Name: PERFORM_CNS.SCORE.DESCRIPTION, dtype: int64"
            ]
          },
          "metadata": {
            "tags": []
          },
          "execution_count": 164
        }
      ]
    },
    {
      "metadata": {
        "id": "dNbsKQ0bKoMN",
        "colab_type": "code",
        "colab": {
          "base_uri": "https://localhost:8080/",
          "height": 371
        },
        "outputId": "8662e7e7-4f4c-4cdb-f969-41b7aa0a8561"
      },
      "cell_type": "code",
      "source": [
        "# checking the bureau score\n",
        "\n",
        "plt.rcParams['figure.figsize'] = (15, 5)\n",
        "plt.subplot(1, 2, 1)\n",
        "sns.distplot(all_data['PERFORM_CNS.SCORE'], color = 'purple')\n",
        "plt.title('Before Log transformations')\n",
        "\n",
        "plt.subplot(1, 2, 2)\n",
        "all_data['PERFORM_CNS.SCORE'] = np.log1p(all_data['PERFORM_CNS.SCORE'])\n",
        "sns.distplot(all_data['PERFORM_CNS.SCORE'], color = 'maroon')\n",
        "plt.title('After Log transformations')\n",
        "\n",
        "plt.show()"
      ],
      "execution_count": 165,
      "outputs": [
        {
          "output_type": "display_data",
          "data": {
            "image/png": "[encoded data removed]",
            "text/plain": [
              "<Figure size 1080x360 with 2 Axes>"
            ]
          },
          "metadata": {
            "tags": []
          }
        }
      ]
    },
    {
      "metadata": {
        "id": "2qcohLCcK9ro",
        "colab_type": "code",
        "colab": {
          "base_uri": "https://localhost:8080/",
          "height": 68
        },
        "outputId": "6a8ae679-46ac-4e7f-b8cb-2cc6e0d39ca8"
      },
      "cell_type": "code",
      "source": [
        "# customer has passport or not\n",
        "\n",
        "all_data['Passport_flag'].value_counts()"
      ],
      "execution_count": 166,
      "outputs": [
        {
          "output_type": "execute_result",
          "data": {
            "text/plain": [
              "0    344835\n",
              "1       711\n",
              "Name: Passport_flag, dtype: int64"
            ]
          },
          "metadata": {
            "tags": []
          },
          "execution_count": 166
        }
      ]
    },
    {
      "metadata": {
        "id": "V8h2pEBiLBmy",
        "colab_type": "code",
        "colab": {
          "base_uri": "https://localhost:8080/",
          "height": 68
        },
        "outputId": "e94aaa33-f96d-4ced-9b2d-391ea2ebaca0"
      },
      "cell_type": "code",
      "source": [
        "# customer has driving license or not\n",
        "\n",
        "all_data['Driving_flag'].value_counts()"
      ],
      "execution_count": 167,
      "outputs": [
        {
          "output_type": "execute_result",
          "data": {
            "text/plain": [
              "0    338249\n",
              "1      7297\n",
              "Name: Driving_flag, dtype: int64"
            ]
          },
          "metadata": {
            "tags": []
          },
          "execution_count": 167
        }
      ]
    },
    {
      "metadata": {
        "id": "C_XKAqVNLFny",
        "colab_type": "code",
        "colab": {
          "base_uri": "https://localhost:8080/",
          "height": 68
        },
        "outputId": "1ec52e05-7a21-4b38-d4d5-5cc63dbba615"
      },
      "cell_type": "code",
      "source": [
        "# customer has voter-id card or not\n",
        "\n",
        "all_data['VoterID_flag'].value_counts()"
      ],
      "execution_count": 168,
      "outputs": [
        {
          "output_type": "execute_result",
          "data": {
            "text/plain": [
              "0    298155\n",
              "1     47391\n",
              "Name: VoterID_flag, dtype: int64"
            ]
          },
          "metadata": {
            "tags": []
          },
          "execution_count": 168
        }
      ]
    },
    {
      "metadata": {
        "id": "CGqXs24cLNMr",
        "colab_type": "code",
        "colab": {
          "base_uri": "https://localhost:8080/",
          "height": 68
        },
        "outputId": "cb820652-f695-4b8d-a6d6-836839651160"
      },
      "cell_type": "code",
      "source": [
        "# customer has pan card or not\n",
        "\n",
        "all_data['PAN_flag'].value_counts()"
      ],
      "execution_count": 169,
      "outputs": [
        {
          "output_type": "execute_result",
          "data": {
            "text/plain": [
              "0    306392\n",
              "1     39154\n",
              "Name: PAN_flag, dtype: int64"
            ]
          },
          "metadata": {
            "tags": []
          },
          "execution_count": 169
        }
      ]
    },
    {
      "metadata": {
        "id": "RzsnU167LRDU",
        "colab_type": "code",
        "colab": {
          "base_uri": "https://localhost:8080/",
          "height": 68
        },
        "outputId": "f852c577-cb33-4791-ef4b-2a8047ee966b"
      },
      "cell_type": "code",
      "source": [
        "# customer has aadhar card or not\n",
        "\n",
        "all_data['Aadhar_flag'].value_counts()"
      ],
      "execution_count": 170,
      "outputs": [
        {
          "output_type": "execute_result",
          "data": {
            "text/plain": [
              "1    293663\n",
              "0     51883\n",
              "Name: Aadhar_flag, dtype: int64"
            ]
          },
          "metadata": {
            "tags": []
          },
          "execution_count": 170
        }
      ]
    },
    {
      "metadata": {
        "id": "pMmzahfPLUe-",
        "colab_type": "code",
        "colab": {
          "base_uri": "https://localhost:8080/",
          "height": 51
        },
        "outputId": "e3c27583-c120-45fb-d39a-edab87e96d64"
      },
      "cell_type": "code",
      "source": [
        "# customer has shared the mobile no. or not\n",
        "\n",
        "all_data['MobileNo_Avl_Flag'].value_counts()"
      ],
      "execution_count": 171,
      "outputs": [
        {
          "output_type": "execute_result",
          "data": {
            "text/plain": [
              "1    345546\n",
              "Name: MobileNo_Avl_Flag, dtype: int64"
            ]
          },
          "metadata": {
            "tags": []
          },
          "execution_count": 171
        }
      ]
    },
    {
      "metadata": {
        "id": "BEp_Q3LCLien",
        "colab_type": "code",
        "colab": {
          "base_uri": "https://localhost:8080/",
          "height": 238
        },
        "outputId": "d6c553b1-1323-453b-e6ec-2bf451b1543d"
      },
      "cell_type": "code",
      "source": [
        "# lets extract features from disbursal dates\n",
        "# as all  the disbursement dates are of year 2018 so we can extract the months\n",
        "\n",
        "all_data['DisbursalDate'] = pd.to_datetime(all_data['DisbursalDate'], errors = 'coerce')\n",
        "\n",
        "# extracting the month of the disbursement\n",
        "all_data['DisbursalMonth'] =all_data['DisbursalDate'].dt.month\n",
        "\n",
        "all_data['DisbursalMonth'].value_counts()"
      ],
      "execution_count": 172,
      "outputs": [
        {
          "output_type": "execute_result",
          "data": {
            "text/plain": [
              "11    99420\n",
              "10    89440\n",
              "8     58586\n",
              "9     57939\n",
              "12    10659\n",
              "3      7601\n",
              "6      7024\n",
              "4      4627\n",
              "7      4339\n",
              "5      4178\n",
              "1      1708\n",
              "2        25\n",
              "Name: DisbursalMonth, dtype: int64"
            ]
          },
          "metadata": {
            "tags": []
          },
          "execution_count": 172
        }
      ]
    },
    {
      "metadata": {
        "id": "wJxj1xFCMBbZ",
        "colab_type": "code",
        "colab": {
          "base_uri": "https://localhost:8080/",
          "height": 383
        },
        "outputId": "c959f902-5c4e-4a66-e012-02166906624c"
      },
      "cell_type": "code",
      "source": [
        "# plotting the Disbursal date\n",
        "\n",
        "plt.rcParams['figure.figsize'] = (18, 5)\n",
        "sns.countplot(all_data['DisbursalMonth'], palette = 'colorblind')\n",
        "plt.title('Months', fontsize = 30)\n",
        "plt.show()"
      ],
      "execution_count": 173,
      "outputs": [
        {
          "output_type": "display_data",
          "data": {
            "image/png": "[encoded data removed]",
            "text/plain": [
              "<Figure size 1296x360 with 1 Axes>"
            ]
          },
          "metadata": {
            "tags": []
          }
        }
      ]
    },
    {
      "metadata": {
        "id": "5km02kmVMKZ1",
        "colab_type": "code",
        "colab": {}
      },
      "cell_type": "code",
      "source": [
        "# some attributes are categorical but they are in integer so let's convert them into category\n",
        "\n",
        "all_data['branch_id'] = all_data['branch_id'].astype('category')\n",
        "all_data['manufacturer_id'] =all_data['manufacturer_id'].astype('category')\n",
        "all_data['State_ID'] = all_data['State_ID'].astype('category')\n",
        "\n",
        "from sklearn.preprocessing import LabelEncoder\n",
        "\n",
        "le = LabelEncoder()\n",
        "all_data['branch_id'] = le.fit_transform(all_data['branch_id'])\n",
        "all_data['manufacturer_id'] = le.fit_transform(all_data['manufacturer_id'])\n",
        "all_data['State_ID'] = le.fit_transform(all_data['State_ID'])\n",
        "\n",
        "# checking the values in these attributes\n",
        "#all_data['branch_id'].value_counts()\n",
        "#all_data['manufacturer_id'].value_counts()\n",
        "#all_data['State_ID'].value_counts()"
      ],
      "execution_count": 0,
      "outputs": []
    },
    {
      "metadata": {
        "id": "oL2qawV5N1GM",
        "colab_type": "code",
        "colab": {
          "base_uri": "https://localhost:8080/",
          "height": 238
        },
        "outputId": "1b594a49-f39f-4c29-88e5-c6ee8b302e48"
      },
      "cell_type": "code",
      "source": [
        "# removing unnecassary columns\n",
        "\n",
        "all_data = all_data.drop(['UniqueID', 'supplier_id', 'Current_pincode_ID', 'Date.of.Birth', 'DisbursalDate', 'Employee_code_ID'], axis = 1)\n",
        "\n",
        "# checking the new columns of data\n",
        "all_data.columns"
      ],
      "execution_count": 175,
      "outputs": [
        {
          "output_type": "execute_result",
          "data": {
            "text/plain": [
              "Index(['disbursed_amount', 'asset_cost', 'ltv', 'branch_id', 'manufacturer_id',\n",
              "       'Employment.Type', 'State_ID', 'MobileNo_Avl_Flag', 'Aadhar_flag',\n",
              "       'PAN_flag', 'VoterID_flag', 'Driving_flag', 'Passport_flag',\n",
              "       'PERFORM_CNS.SCORE', 'PERFORM_CNS.SCORE.DESCRIPTION', 'PRI.NO.OF.ACCTS',\n",
              "       'PRI.ACTIVE.ACCTS', 'PRI.OVERDUE.ACCTS', 'PRI.CURRENT.BALANCE',\n",
              "       'PRI.SANCTIONED.AMOUNT', 'PRI.DISBURSED.AMOUNT', 'SEC.NO.OF.ACCTS',\n",
              "       'SEC.ACTIVE.ACCTS', 'SEC.OVERDUE.ACCTS', 'SEC.CURRENT.BALANCE',\n",
              "       'SEC.SANCTIONED.AMOUNT', 'SEC.DISBURSED.AMOUNT', 'PRIMARY.INSTAL.AMT',\n",
              "       'SEC.INSTAL.AMT', 'NEW.ACCTS.IN.LAST.SIX.MONTHS',\n",
              "       'DELINQUENT.ACCTS.IN.LAST.SIX.MONTHS', 'AVERAGE.ACCT.AGE',\n",
              "       'CREDIT.HISTORY.LENGTH', 'NO.OF_INQUIRIES', 'Year_of_birth',\n",
              "       'DisbursalMonth'],\n",
              "      dtype='object')"
            ]
          },
          "metadata": {
            "tags": []
          },
          "execution_count": 175
        }
      ]
    },
    {
      "metadata": {
        "id": "ciLJZo-6N4xd",
        "colab_type": "code",
        "colab": {
          "base_uri": "https://localhost:8080/",
          "height": 253
        },
        "outputId": "3540742b-4662-411c-83e2-dd9b1c502b4c"
      },
      "cell_type": "code",
      "source": [
        "# looking at the sample of the pre-processed data\n",
        "\n",
        "all_data.sample(5)"
      ],
      "execution_count": 176,
      "outputs": [
        {
          "output_type": "execute_result",
          "data": {
            "text/html": [
              "<div>\n",
              "<style scoped>\n",
              "    .dataframe tbody tr th:only-of-type {\n",
              "        vertical-align: middle;\n",
              "    }\n",
              "\n",
              "    .dataframe tbody tr th {\n",
              "        vertical-align: top;\n",
              "    }\n",
              "\n",
              "    .dataframe thead th {\n",
              "        text-align: right;\n",
              "    }\n",
              "</style>\n",
              "<table border=\"1\" class=\"dataframe\">\n",
              "  <thead>\n",
              "    <tr style=\"text-align: right;\">\n",
              "      <th></th>\n",
              "      <th>disbursed_amount</th>\n",
              "      <th>asset_cost</th>\n",
              "      <th>ltv</th>\n",
              "      <th>branch_id</th>\n",
              "      <th>manufacturer_id</th>\n",
              "      <th>Employment.Type</th>\n",
              "      <th>State_ID</th>\n",
              "      <th>MobileNo_Avl_Flag</th>\n",
              "      <th>Aadhar_flag</th>\n",
              "      <th>PAN_flag</th>\n",
              "      <th>...</th>\n",
              "      <th>SEC.DISBURSED.AMOUNT</th>\n",
              "      <th>PRIMARY.INSTAL.AMT</th>\n",
              "      <th>SEC.INSTAL.AMT</th>\n",
              "      <th>NEW.ACCTS.IN.LAST.SIX.MONTHS</th>\n",
              "      <th>DELINQUENT.ACCTS.IN.LAST.SIX.MONTHS</th>\n",
              "      <th>AVERAGE.ACCT.AGE</th>\n",
              "      <th>CREDIT.HISTORY.LENGTH</th>\n",
              "      <th>NO.OF_INQUIRIES</th>\n",
              "      <th>Year_of_birth</th>\n",
              "      <th>DisbursalMonth</th>\n",
              "    </tr>\n",
              "  </thead>\n",
              "  <tbody>\n",
              "    <tr>\n",
              "      <th>52381</th>\n",
              "      <td>10.503422</td>\n",
              "      <td>10.873281</td>\n",
              "      <td>4.264790</td>\n",
              "      <td>65</td>\n",
              "      <td>5</td>\n",
              "      <td>1</td>\n",
              "      <td>0</td>\n",
              "      <td>1</td>\n",
              "      <td>1</td>\n",
              "      <td>0</td>\n",
              "      <td>...</td>\n",
              "      <td>0</td>\n",
              "      <td>8.800717</td>\n",
              "      <td>0.0</td>\n",
              "      <td>2</td>\n",
              "      <td>0</td>\n",
              "      <td>0</td>\n",
              "      <td>1</td>\n",
              "      <td>0</td>\n",
              "      <td>1981</td>\n",
              "      <td>11</td>\n",
              "    </tr>\n",
              "    <tr>\n",
              "      <th>117627</th>\n",
              "      <td>10.989555</td>\n",
              "      <td>11.243803</td>\n",
              "      <td>4.390862</td>\n",
              "      <td>28</td>\n",
              "      <td>5</td>\n",
              "      <td>2</td>\n",
              "      <td>12</td>\n",
              "      <td>1</td>\n",
              "      <td>0</td>\n",
              "      <td>1</td>\n",
              "      <td>...</td>\n",
              "      <td>0</td>\n",
              "      <td>0.000000</td>\n",
              "      <td>0.0</td>\n",
              "      <td>0</td>\n",
              "      <td>0</td>\n",
              "      <td>0</td>\n",
              "      <td>0</td>\n",
              "      <td>0</td>\n",
              "      <td>2068</td>\n",
              "      <td>9</td>\n",
              "    </tr>\n",
              "    <tr>\n",
              "      <th>52415</th>\n",
              "      <td>10.906213</td>\n",
              "      <td>11.206523</td>\n",
              "      <td>4.335983</td>\n",
              "      <td>23</td>\n",
              "      <td>0</td>\n",
              "      <td>2</td>\n",
              "      <td>4</td>\n",
              "      <td>1</td>\n",
              "      <td>1</td>\n",
              "      <td>0</td>\n",
              "      <td>...</td>\n",
              "      <td>0</td>\n",
              "      <td>10.634869</td>\n",
              "      <td>0.0</td>\n",
              "      <td>1</td>\n",
              "      <td>0</td>\n",
              "      <td>2</td>\n",
              "      <td>3</td>\n",
              "      <td>0</td>\n",
              "      <td>1984</td>\n",
              "      <td>9</td>\n",
              "    </tr>\n",
              "    <tr>\n",
              "      <th>53180</th>\n",
              "      <td>10.860517</td>\n",
              "      <td>11.123949</td>\n",
              "      <td>4.371976</td>\n",
              "      <td>15</td>\n",
              "      <td>0</td>\n",
              "      <td>1</td>\n",
              "      <td>3</td>\n",
              "      <td>1</td>\n",
              "      <td>1</td>\n",
              "      <td>0</td>\n",
              "      <td>...</td>\n",
              "      <td>0</td>\n",
              "      <td>7.346655</td>\n",
              "      <td>0.0</td>\n",
              "      <td>0</td>\n",
              "      <td>0</td>\n",
              "      <td>0</td>\n",
              "      <td>0</td>\n",
              "      <td>0</td>\n",
              "      <td>1991</td>\n",
              "      <td>12</td>\n",
              "    </tr>\n",
              "    <tr>\n",
              "      <th>118012</th>\n",
              "      <td>10.835730</td>\n",
              "      <td>11.326608</td>\n",
              "      <td>4.153399</td>\n",
              "      <td>71</td>\n",
              "      <td>3</td>\n",
              "      <td>2</td>\n",
              "      <td>3</td>\n",
              "      <td>1</td>\n",
              "      <td>1</td>\n",
              "      <td>0</td>\n",
              "      <td>...</td>\n",
              "      <td>0</td>\n",
              "      <td>0.000000</td>\n",
              "      <td>0.0</td>\n",
              "      <td>0</td>\n",
              "      <td>0</td>\n",
              "      <td>0</td>\n",
              "      <td>0</td>\n",
              "      <td>0</td>\n",
              "      <td>2068</td>\n",
              "      <td>10</td>\n",
              "    </tr>\n",
              "  </tbody>\n",
              "</table>\n",
              "<p>5 rows × 36 columns</p>\n",
              "</div>"
            ],
            "text/plain": [
              "        disbursed_amount  asset_cost       ltv  branch_id  manufacturer_id  \\\n",
              "52381          10.503422   10.873281  4.264790         65                5   \n",
              "117627         10.989555   11.243803  4.390862         28                5   \n",
              "52415          10.906213   11.206523  4.335983         23                0   \n",
              "53180          10.860517   11.123949  4.371976         15                0   \n",
              "118012         10.835730   11.326608  4.153399         71                3   \n",
              "\n",
              "        Employment.Type  State_ID  MobileNo_Avl_Flag  Aadhar_flag  PAN_flag  \\\n",
              "52381                 1         0                  1            1         0   \n",
              "117627                2        12                  1            0         1   \n",
              "52415                 2         4                  1            1         0   \n",
              "53180                 1         3                  1            1         0   \n",
              "118012                2         3                  1            1         0   \n",
              "\n",
              "             ...        SEC.DISBURSED.AMOUNT  PRIMARY.INSTAL.AMT  \\\n",
              "52381        ...                           0            8.800717   \n",
              "117627       ...                           0            0.000000   \n",
              "52415        ...                           0           10.634869   \n",
              "53180        ...                           0            7.346655   \n",
              "118012       ...                           0            0.000000   \n",
              "\n",
              "        SEC.INSTAL.AMT  NEW.ACCTS.IN.LAST.SIX.MONTHS  \\\n",
              "52381              0.0                             2   \n",
              "117627             0.0                             0   \n",
              "52415              0.0                             1   \n",
              "53180              0.0                             0   \n",
              "118012             0.0                             0   \n",
              "\n",
              "        DELINQUENT.ACCTS.IN.LAST.SIX.MONTHS  AVERAGE.ACCT.AGE  \\\n",
              "52381                                     0                 0   \n",
              "117627                                    0                 0   \n",
              "52415                                     0                 2   \n",
              "53180                                     0                 0   \n",
              "118012                                    0                 0   \n",
              "\n",
              "        CREDIT.HISTORY.LENGTH  NO.OF_INQUIRIES  Year_of_birth  DisbursalMonth  \n",
              "52381                       1                0           1981              11  \n",
              "117627                      0                0           2068               9  \n",
              "52415                       3                0           1984               9  \n",
              "53180                       0                0           1991              12  \n",
              "118012                      0                0           2068              10  \n",
              "\n",
              "[5 rows x 36 columns]"
            ]
          },
          "metadata": {
            "tags": []
          },
          "execution_count": 176
        }
      ]
    },
    {
      "metadata": {
        "id": "mNAfsfzWN-wE",
        "colab_type": "code",
        "colab": {
          "base_uri": "https://localhost:8080/",
          "height": 68
        },
        "outputId": "d4d5b9e5-de6c-424d-e952-2fbd54791c57"
      },
      "cell_type": "code",
      "source": [
        "# checking the target variable\n",
        "\n",
        "y_train.value_counts()"
      ],
      "execution_count": 177,
      "outputs": [
        {
          "output_type": "execute_result",
          "data": {
            "text/plain": [
              "0    182543\n",
              "1     50611\n",
              "Name: loan_default, dtype: int64"
            ]
          },
          "metadata": {
            "tags": []
          },
          "execution_count": 177
        }
      ]
    },
    {
      "metadata": {
        "id": "O-rk9mNsOVm3",
        "colab_type": "code",
        "colab": {
          "base_uri": "https://localhost:8080/",
          "height": 51
        },
        "outputId": "f3354dd2-0548-48f3-fb0b-9cedb4954b86"
      },
      "cell_type": "code",
      "source": [
        "# separating train and test datasets from data\n",
        "\n",
        "x_train = all_data.iloc[:233154,:]\n",
        "x_test = all_data.iloc[233154:,:]\n",
        "\n",
        "# checking the shape of train and test\n",
        "print(\"Shape of train :\", x_train.shape)\n",
        "print(\"Shape of test :\", x_test.shape)"
      ],
      "execution_count": 178,
      "outputs": [
        {
          "output_type": "stream",
          "text": [
            "Shape of train : (233154, 36)\n",
            "Shape of test : (112392, 36)\n"
          ],
          "name": "stdout"
        }
      ]
    },
    {
      "metadata": {
        "id": "kAtPYt0IPjqR",
        "colab_type": "code",
        "colab": {}
      },
      "cell_type": "code",
      "source": [
        "# there is a big difference in the no. of values for 1 and 0\n",
        "# so we can apply SMOTE or over-sampling\n",
        "# that means replicating the samples of 1 to lessen the parity between 0 and 1 values\n",
        "\n",
        "# lets install imblearn\n",
        "#!pip install -U imbalanced-learn"
      ],
      "execution_count": 0,
      "outputs": []
    },
    {
      "metadata": {
        "id": "s7KOGkVgPUOC",
        "colab_type": "code",
        "colab": {
          "base_uri": "https://localhost:8080/",
          "height": 51
        },
        "outputId": "43423cf2-c9dd-44a5-dab6-95c74f936ccf"
      },
      "cell_type": "code",
      "source": [
        "# applying SMOTE\n",
        "\n",
        "from imblearn.over_sampling import SMOTE\n",
        "\n",
        "x_resample, y_resample = SMOTE().fit_sample(x_train, y_train.values.ravel()) \n",
        "\n",
        "# checking the shape of x_resample and y_resample\n",
        "print(\"Shape of x:\", x_resample.shape)\n",
        "print(\"Shape of y:\", y_resample.shape)"
      ],
      "execution_count": 180,
      "outputs": [
        {
          "output_type": "stream",
          "text": [
            "Shape of x: (365086, 36)\n",
            "Shape of y: (365086,)\n"
          ],
          "name": "stdout"
        }
      ]
    },
    {
      "metadata": {
        "id": "111UskBpQPdK",
        "colab_type": "code",
        "colab": {
          "base_uri": "https://localhost:8080/",
          "height": 85
        },
        "outputId": "738febcf-10b5-4657-e44d-ce47b707e323"
      },
      "cell_type": "code",
      "source": [
        "# train and valid sets from train\n",
        "from sklearn.model_selection import train_test_split\n",
        "\n",
        "x_train, x_valid, y_train, y_valid = train_test_split(x_resample, y_resample, test_size = 0.2, random_state = 0)\n",
        "\n",
        "# checking the shapes\n",
        "print(x_train.shape)\n",
        "print(y_train.shape)\n",
        "print(x_valid.shape)\n",
        "print(y_valid.shape)"
      ],
      "execution_count": 181,
      "outputs": [
        {
          "output_type": "stream",
          "text": [
            "(292068, 36)\n",
            "(292068,)\n",
            "(73018, 36)\n",
            "(73018,)\n"
          ],
          "name": "stdout"
        }
      ]
    },
    {
      "metadata": {
        "id": "t0sxbqphQUjT",
        "colab_type": "code",
        "colab": {
          "base_uri": "https://localhost:8080/",
          "height": 71
        },
        "outputId": "c2ac5f89-4749-44f2-9cc7-ff4e92f36ed0"
      },
      "cell_type": "code",
      "source": [
        "\n",
        "\n",
        "# standardization techniques\n",
        "\n",
        "from sklearn.preprocessing import StandardScaler\n",
        "\n",
        "sc = StandardScaler()\n",
        "x_train = sc.fit_transform(x_train)\n",
        "x_valid = sc.transform(x_valid)\n",
        "x_test = sc.transform(x_test)"
      ],
      "execution_count": 182,
      "outputs": [
        {
          "output_type": "stream",
          "text": [
            "/usr/local/lib/python3.6/dist-packages/ipykernel_launcher.py:7: DataConversionWarning: Data with input dtype int64, float64, object were all converted to float64 by StandardScaler.\n",
            "  import sys\n"
          ],
          "name": "stderr"
        }
      ]
    },
    {
      "metadata": {
        "id": "jNzOZbiMQ1lV",
        "colab_type": "code",
        "colab": {
          "base_uri": "https://localhost:8080/",
          "height": 581
        },
        "outputId": "a05eb1a5-19d6-4765-fdc9-1e6423bb0f63"
      },
      "cell_type": "code",
      "source": [
        "# Appllying RANDOM FOREST CLASSIFIER\n",
        "\n",
        "from sklearn.ensemble import RandomForestClassifier\n",
        "from sklearn.metrics import confusion_matrix\n",
        "from sklearn.metrics import classification_report\n",
        "\n",
        "model_rf = RandomForestClassifier()\n",
        "model_rf.fit(x_train, y_train)\n",
        "\n",
        "y_pred = model_rf.predict(x_valid)\n",
        "\n",
        "print(\"Training Accuracy: \", model_rf.score(x_train, y_train))\n",
        "print('Testing Accuarcy: ', model_rf.score(x_valid, y_valid))\n",
        "\n",
        "# making a classification report\n",
        "cr = classification_report(y_valid,  y_pred)\n",
        "print(cr)\n",
        "\n",
        "# making a confusion matrix\n",
        "cm = confusion_matrix(y_valid, y_pred)\n",
        "sns.heatmap(cm, annot = True)"
      ],
      "execution_count": 183,
      "outputs": [
        {
          "output_type": "stream",
          "text": [
            "/usr/local/lib/python3.6/dist-packages/sklearn/ensemble/forest.py:246: FutureWarning: The default value of n_estimators will change from 10 in version 0.20 to 100 in 0.22.\n",
            "  \"10 in version 0.20 to 100 in 0.22.\", FutureWarning)\n"
          ],
          "name": "stderr"
        },
        {
          "output_type": "stream",
          "text": [
            "Training Accuracy:  0.9882493118041004\n",
            "Testing Accuarcy:  0.8122380782820674\n",
            "              precision    recall  f1-score   support\n",
            "\n",
            "           0       0.77      0.90      0.83     36647\n",
            "           1       0.88      0.72      0.79     36371\n",
            "\n",
            "   micro avg       0.81      0.81      0.81     73018\n",
            "   macro avg       0.82      0.81      0.81     73018\n",
            "weighted avg       0.82      0.81      0.81     73018\n",
            "\n"
          ],
          "name": "stdout"
        },
        {
          "output_type": "execute_result",
          "data": {
            "text/plain": [
              "<matplotlib.axes._subplots.AxesSubplot at 0x7fbe01bbe5f8>"
            ]
          },
          "metadata": {
            "tags": []
          },
          "execution_count": 183
        },
        {
          "output_type": "display_data",
          "data": {
            "image/png": "[encoded data removed]",
            "text/plain": [
              "<Figure size 1296x360 with 2 Axes>"
            ]
          },
          "metadata": {
            "tags": []
          }
        }
      ]
    },
    {
      "metadata": {
        "id": "pV_OhWo-RVjO",
        "colab_type": "code",
        "colab": {
          "base_uri": "https://localhost:8080/",
          "height": 34
        },
        "outputId": "cc93cb31-7180-4b13-e800-d2f04bd60f10"
      },
      "cell_type": "code",
      "source": [
        "# Calculating the average precision score for randomforest \n",
        "from sklearn.metrics import average_precision_score\n",
        "\n",
        "apc = average_precision_score(y_valid, y_pred)\n",
        "print('Average Precision Score :', apc)"
      ],
      "execution_count": 184,
      "outputs": [
        {
          "output_type": "stream",
          "text": [
            "Average Precision Score : 0.7732626087582827\n"
          ],
          "name": "stdout"
        }
      ]
    },
    {
      "metadata": {
        "id": "2nYPLAb0Ry9o",
        "colab_type": "code",
        "colab": {
          "base_uri": "https://localhost:8080/",
          "height": 392
        },
        "outputId": "b586cf6e-dd72-4a96-e4df-74c5a22f164b"
      },
      "cell_type": "code",
      "source": [
        "# plotting an AUC ROC Curve(Area under curve and receiver operating curve)\n",
        "\n",
        "from sklearn.metrics import precision_recall_curve\n",
        "from sklearn.utils.fixes import signature\n",
        "\n",
        "precision, recall, _ = precision_recall_curve(y_valid, y_pred)\n",
        "\n",
        "step_kwargs = ({'step':'post'} if 'step' in signature(plt.fill_between).parameters else{})\n",
        "\n",
        "plt.step(recall, precision, color = 'red', alpha = 0.6, where = 'post')\n",
        "plt.fill_between(recall, precision, color = 'red', alpha = 0.6, **step_kwargs)\n",
        "\n",
        "plt.title('Precision Recall Curve')\n",
        "plt.xlabel('Recall', fontsize = 15)\n",
        "plt.ylabel('Precision', fontsize =15)\n",
        "plt.ylim([0.0, 1.05])\n",
        "plt.xlim([0.0, 1.0])"
      ],
      "execution_count": 185,
      "outputs": [
        {
          "output_type": "execute_result",
          "data": {
            "text/plain": [
              "(0.0, 1.0)"
            ]
          },
          "metadata": {
            "tags": []
          },
          "execution_count": 185
        },
        {
          "output_type": "display_data",
          "data": {
            "image/png": "[encoded data removed]",
            "text/plain": [
              "<Figure size 1296x360 with 1 Axes>"
            ]
          },
          "metadata": {
            "tags": []
          }
        }
      ]
    },
    {
      "metadata": {
        "id": "C5SYHrM8R4tp",
        "colab_type": "code",
        "colab": {
          "base_uri": "https://localhost:8080/",
          "height": 547
        },
        "outputId": "26fde361-6e58-4c0c-8251-3aedbc076574"
      },
      "cell_type": "code",
      "source": [
        "#Applying ADA BOOST CLASSIFIER\n",
        "\n",
        "from sklearn.ensemble import AdaBoostClassifier\n",
        "from sklearn.metrics import confusion_matrix\n",
        "from sklearn.metrics import classification_report\n",
        "\n",
        "model_ada = AdaBoostClassifier()\n",
        "model_ada.fit(x_train, y_train)\n",
        "\n",
        "y_pred = model_ada.predict(x_valid)\n",
        "\n",
        "print(\"Training Accuracy: \", model_ada.score(x_train, y_train))\n",
        "print('Testing Accuarcy: ', model_ada.score(x_valid, y_valid))\n",
        "\n",
        "# making a classification report\n",
        "cr = classification_report(y_valid,  y_pred)\n",
        "print(cr)\n",
        "\n",
        "# making a confusion matrix\n",
        "cm = confusion_matrix(y_valid, y_pred)\n",
        "sns.heatmap(cm, annot = True)"
      ],
      "execution_count": 186,
      "outputs": [
        {
          "output_type": "stream",
          "text": [
            "Training Accuracy:  0.7400981963104483\n",
            "Testing Accuarcy:  0.7372702621271467\n",
            "              precision    recall  f1-score   support\n",
            "\n",
            "           0       0.72      0.79      0.75     36647\n",
            "           1       0.76      0.69      0.72     36371\n",
            "\n",
            "   micro avg       0.74      0.74      0.74     73018\n",
            "   macro avg       0.74      0.74      0.74     73018\n",
            "weighted avg       0.74      0.74      0.74     73018\n",
            "\n"
          ],
          "name": "stdout"
        },
        {
          "output_type": "execute_result",
          "data": {
            "text/plain": [
              "<matplotlib.axes._subplots.AxesSubplot at 0x7fbe024b3cc0>"
            ]
          },
          "metadata": {
            "tags": []
          },
          "execution_count": 186
        },
        {
          "output_type": "display_data",
          "data": {
            "image/png": "[encoded data removed]",
            "text/plain": [
              "<Figure size 1296x360 with 2 Axes>"
            ]
          },
          "metadata": {
            "tags": []
          }
        }
      ]
    },
    {
      "metadata": {
        "id": "_FBpdZ0pSccj",
        "colab_type": "code",
        "colab": {
          "base_uri": "https://localhost:8080/",
          "height": 34
        },
        "outputId": "2958fae3-fa51-43c8-96db-e4943596ab18"
      },
      "cell_type": "code",
      "source": [
        "# Calculating the avg precision score\n",
        "from sklearn.metrics import average_precision_score\n",
        "\n",
        "apc = average_precision_score(y_valid, y_pred)\n",
        "print('Average Precision Score :', apc)"
      ],
      "execution_count": 187,
      "outputs": [
        {
          "output_type": "stream",
          "text": [
            "Average Precision Score : 0.6795546868769671\n"
          ],
          "name": "stdout"
        }
      ]
    },
    {
      "metadata": {
        "id": "s1TsnBzHSmvg",
        "colab_type": "code",
        "colab": {
          "base_uri": "https://localhost:8080/",
          "height": 392
        },
        "outputId": "1627fabc-90b2-4bfc-f9e2-5868afa9a08d"
      },
      "cell_type": "code",
      "source": [
        "# plotting an AUC ROC Curve(Area under curve and receiver operating curve)\n",
        "\n",
        "from sklearn.metrics import precision_recall_curve\n",
        "from sklearn.utils.fixes import signature\n",
        "\n",
        "precision, recall, _ = precision_recall_curve(y_valid, y_pred)\n",
        "\n",
        "step_kwargs = ({'step':'post'} if 'step' in signature(plt.fill_between).parameters else{})\n",
        "\n",
        "plt.step(recall, precision, color = 'pink', alpha = 0.6, where = 'post')\n",
        "plt.fill_between(recall, precision, color = 'pink', alpha = 0.6, **step_kwargs)\n",
        "\n",
        "plt.title('Precision Recall Curve')\n",
        "plt.xlabel('Recall', fontsize = 15)\n",
        "plt.ylabel('Precision', fontsize =15)\n",
        "plt.ylim([0.0, 1.05])\n",
        "plt.xlim([0.0, 1.0])"
      ],
      "execution_count": 188,
      "outputs": [
        {
          "output_type": "execute_result",
          "data": {
            "text/plain": [
              "(0.0, 1.0)"
            ]
          },
          "metadata": {
            "tags": []
          },
          "execution_count": 188
        },
        {
          "output_type": "display_data",
          "data": {
            "image/png": "[encoded data removed]",
            "text/plain": [
              "<Figure size 1296x360 with 1 Axes>"
            ]
          },
          "metadata": {
            "tags": []
          }
        }
      ]
    },
    {
      "metadata": {
        "id": "ZWux3D99Suuo",
        "colab_type": "code",
        "colab": {
          "base_uri": "https://localhost:8080/",
          "height": 547
        },
        "outputId": "e3208255-4ac1-41da-9189-ef7d78f57969"
      },
      "cell_type": "code",
      "source": [
        "#Applying  Xg-Boost Classifier\n",
        "\n",
        "from xgboost.sklearn import XGBClassifier\n",
        "from sklearn.metrics import confusion_matrix\n",
        "from sklearn.metrics import classification_report\n",
        "\n",
        "model_xgb = XGBClassifier(objective=\"binary:logistic\", \n",
        "    learning_rate=0.05, \n",
        "    seed=9616, \n",
        "    max_depth=20, \n",
        "    gamma=10, \n",
        "    n_estimators=500)\n",
        "model_xgb.fit(x_train, y_train)\n",
        "\n",
        "y_pred = model_xgb.predict(x_valid)\n",
        "\n",
        "print(\"Training Accuracy: \", model_xgb.score(x_train, y_train))\n",
        "print('Testing Accuarcy: ', model_xgb.score(x_valid, y_valid))\n",
        "\n",
        "# making a classification report\n",
        "cr = classification_report(y_valid,  y_pred)\n",
        "print(cr)\n",
        "\n",
        "# making a confusion matrix\n",
        "cm = confusion_matrix(y_valid, y_pred)\n",
        "sns.heatmap(cm, annot = True)"
      ],
      "execution_count": 189,
      "outputs": [
        {
          "output_type": "stream",
          "text": [
            "Training Accuracy:  0.8536060095594177\n",
            "Testing Accuarcy:  0.8375606014955217\n",
            "              precision    recall  f1-score   support\n",
            "\n",
            "           0       0.77      0.96      0.86     36647\n",
            "           1       0.94      0.72      0.81     36371\n",
            "\n",
            "   micro avg       0.84      0.84      0.84     73018\n",
            "   macro avg       0.86      0.84      0.84     73018\n",
            "weighted avg       0.86      0.84      0.84     73018\n",
            "\n"
          ],
          "name": "stdout"
        },
        {
          "output_type": "execute_result",
          "data": {
            "text/plain": [
              "<matplotlib.axes._subplots.AxesSubplot at 0x7fbdfa433400>"
            ]
          },
          "metadata": {
            "tags": []
          },
          "execution_count": 189
        },
        {
          "output_type": "display_data",
          "data": {
            "image/png": "[encoded data removed]",
            "text/plain": [
              "<Figure size 1296x360 with 2 Axes>"
            ]
          },
          "metadata": {
            "tags": []
          }
        }
      ]
    },
    {
      "metadata": {
        "id": "vFnZtxNTTJuj",
        "colab_type": "code",
        "colab": {
          "base_uri": "https://localhost:8080/",
          "height": 34
        },
        "outputId": "11a63039-a52e-43b8-e7aa-d3573793de68"
      },
      "cell_type": "code",
      "source": [
        "# Calculating the avg precision score\n",
        "from sklearn.metrics import average_precision_score\n",
        "\n",
        "apc = average_precision_score(y_valid, y_pred)\n",
        "print('Average Precision Score :', apc)"
      ],
      "execution_count": 190,
      "outputs": [
        {
          "output_type": "stream",
          "text": [
            "Average Precision Score : 0.8170412931671309\n"
          ],
          "name": "stdout"
        }
      ]
    },
    {
      "metadata": {
        "id": "R9Oq90wnTRPn",
        "colab_type": "code",
        "colab": {
          "base_uri": "https://localhost:8080/",
          "height": 392
        },
        "outputId": "f7d99def-0f7c-42f2-e231-cfbf258372b8"
      },
      "cell_type": "code",
      "source": [
        "# plotting an AUC ROC Curve(Area under curve and receiver operating curve)\n",
        "\n",
        "from sklearn.metrics import precision_recall_curve\n",
        "from sklearn.utils.fixes import signature\n",
        "\n",
        "precision, recall, _ = precision_recall_curve(y_valid, y_pred)\n",
        "\n",
        "step_kwargs = ({'step':'post'} if 'step' in signature(plt.fill_between).parameters else{})\n",
        "\n",
        "plt.step(recall, precision, color = 'pink', alpha = 0.6, where = 'post')\n",
        "plt.fill_between(recall, precision, color = 'pink', alpha = 0.6, **step_kwargs)\n",
        "\n",
        "plt.title('Precision Recall Curve')\n",
        "plt.xlabel('Recall', fontsize = 15)\n",
        "plt.ylabel('Precision', fontsize =15)\n",
        "plt.ylim([0.0, 1.05])\n",
        "plt.xlim([0.0, 1.0])"
      ],
      "execution_count": 191,
      "outputs": [
        {
          "output_type": "execute_result",
          "data": {
            "text/plain": [
              "(0.0, 1.0)"
            ]
          },
          "metadata": {
            "tags": []
          },
          "execution_count": 191
        },
        {
          "output_type": "display_data",
          "data": {
            "image/png": "[encoded data removed]",
            "text/plain": [
              "<Figure size 1296x360 with 1 Axes>"
            ]
          },
          "metadata": {
            "tags": []
          }
        }
      ]
    },
    {
      "metadata": {
        "id": "tcW-uFmRTU6C",
        "colab_type": "code",
        "colab": {
          "base_uri": "https://localhost:8080/",
          "height": 547
        },
        "outputId": "d5ce6093-d93b-46ab-f481-363b03f3fcfe"
      },
      "cell_type": "code",
      "source": [
        "#Applying light boost classifier\n",
        "\n",
        "from lightgbm import LGBMClassifier\n",
        "from sklearn.metrics import confusion_matrix\n",
        "from sklearn.metrics import classification_report\n",
        "\n",
        "model_lgb = LGBMClassifier()\n",
        "model_lgb.fit(x_train, y_train)\n",
        "\n",
        "y_pred = model_lgb.predict(x_valid)\n",
        "\n",
        "print(\"Training Accuracy: \", model_lgb.score(x_train, y_train))\n",
        "print('Testing Accuarcy: ', model_lgb.score(x_valid, y_valid))\n",
        "\n",
        "# making a classification report\n",
        "cr = classification_report(y_valid,  y_pred)\n",
        "print(cr)\n",
        "\n",
        "# making a confusion matrix\n",
        "cm = confusion_matrix(y_valid, y_pred)\n",
        "sns.heatmap(cm, annot = True)"
      ],
      "execution_count": 192,
      "outputs": [
        {
          "output_type": "stream",
          "text": [
            "Training Accuracy:  0.8310633140227618\n",
            "Testing Accuarcy:  0.8294256210797337\n",
            "              precision    recall  f1-score   support\n",
            "\n",
            "           0       0.76      0.96      0.85     36647\n",
            "           1       0.94      0.70      0.80     36371\n",
            "\n",
            "   micro avg       0.83      0.83      0.83     73018\n",
            "   macro avg       0.85      0.83      0.83     73018\n",
            "weighted avg       0.85      0.83      0.83     73018\n",
            "\n"
          ],
          "name": "stdout"
        },
        {
          "output_type": "execute_result",
          "data": {
            "text/plain": [
              "<matplotlib.axes._subplots.AxesSubplot at 0x7fbdfa40e668>"
            ]
          },
          "metadata": {
            "tags": []
          },
          "execution_count": 192
        },
        {
          "output_type": "display_data",
          "data": {
            "image/png": "[encoded data removed]",
            "text/plain": [
              "<Figure size 1296x360 with 2 Axes>"
            ]
          },
          "metadata": {
            "tags": []
          }
        }
      ]
    },
    {
      "metadata": {
        "id": "hZXE6v57Tgtc",
        "colab_type": "code",
        "colab": {
          "base_uri": "https://localhost:8080/",
          "height": 34
        },
        "outputId": "aeecb483-acf5-468d-8d94-f0425eb337b7"
      },
      "cell_type": "code",
      "source": [
        "#calculating the avg precision score\n",
        "from sklearn.metrics import average_precision_score\n",
        "\n",
        "apc = average_precision_score(y_valid, y_pred)\n",
        "print('Average Precision Score :', apc)"
      ],
      "execution_count": 193,
      "outputs": [
        {
          "output_type": "stream",
          "text": [
            "Average Precision Score : 0.8091238301431009\n"
          ],
          "name": "stdout"
        }
      ]
    },
    {
      "metadata": {
        "id": "1A0bYg_NTnss",
        "colab_type": "code",
        "colab": {
          "base_uri": "https://localhost:8080/",
          "height": 392
        },
        "outputId": "f6e00ec8-9524-417e-fcc1-740959e1ab36"
      },
      "cell_type": "code",
      "source": [
        "# plotting an AUC ROC Curve(Area under curve and receiver operating curve)\n",
        "\n",
        "from sklearn.metrics import precision_recall_curve\n",
        "from sklearn.utils.fixes import signature\n",
        "\n",
        "precision, recall, _ = precision_recall_curve(y_valid, y_pred)\n",
        "\n",
        "step_kwargs = ({'step':'post'} if 'step' in signature(plt.fill_between).parameters else{})\n",
        "\n",
        "plt.step(recall, precision, color = 'green', alpha = 0.6, where = 'post')\n",
        "plt.fill_between(recall, precision, color = 'green', alpha = 0.6, **step_kwargs)\n",
        "\n",
        "plt.title('Precision Recall Curve')\n",
        "plt.xlabel('Recall', fontsize = 15)\n",
        "plt.ylabel('Precision', fontsize =15)\n",
        "plt.ylim([0.0, 1.05])\n",
        "plt.xlim([0.0, 1.0])"
      ],
      "execution_count": 194,
      "outputs": [
        {
          "output_type": "execute_result",
          "data": {
            "text/plain": [
              "(0.0, 1.0)"
            ]
          },
          "metadata": {
            "tags": []
          },
          "execution_count": 194
        },
        {
          "output_type": "display_data",
          "data": {
            "image/png": "[encoded data removed]",
            "text/plain": [
              "<Figure size 1296x360 with 1 Axes>"
            ]
          },
          "metadata": {
            "tags": []
          }
        }
      ]
    },
    {
      "metadata": {
        "id": "pEUaUz9OTtTb",
        "colab_type": "code",
        "colab": {
          "base_uri": "https://localhost:8080/",
          "height": 884
        },
        "outputId": "05dbce9d-3895-4ef9-e9cf-34a564029942"
      },
      "cell_type": "code",
      "source": [
        "# let's plot the feature importance plot for the lg boost model\n",
        "\n",
        "feature = pd.DataFrame()\n",
        "x_train = pd.DataFrame(x_train)\n",
        "\n",
        "feature['name'] = x_train.columns\n",
        "feature['importance'] = model_lgb.feature_importances_\n",
        "\n",
        "feature.sort_values(by = ['importance'], ascending = True, inplace = True)\n",
        "feature.set_index('name', inplace = True)\n",
        "\n",
        "feature.plot(kind = 'barh', color = 'purple', figsize = (5, 15), fontsize = 10)"
      ],
      "execution_count": 195,
      "outputs": [
        {
          "output_type": "execute_result",
          "data": {
            "text/plain": [
              "<matplotlib.axes._subplots.AxesSubplot at 0x7fbdfa6c66a0>"
            ]
          },
          "metadata": {
            "tags": []
          },
          "execution_count": 195
        },
        {
          "output_type": "display_data",
          "data": {
            "image/png": "[encoded data removed]",
            "text/plain": [
              "<Figure size 360x1080 with 1 Axes>"
            ]
          },
          "metadata": {
            "tags": []
          }
        }
      ]
    },
    {
      "metadata": {
        "id": "UeKgqoSXUM66",
        "colab_type": "code",
        "colab": {}
      },
      "cell_type": "code",
      "source": [
        "# Now we use tests set\n",
        "\n",
        "y_pred_rf = model_rf.predict(x_test)\n",
        "y_pred_ada = model_ada.predict(x_test)\n",
        "y_pred_xgb = model_xgb.predict(x_test)\n",
        "y_pred_lgb = model_lgb.predict(x_test)"
      ],
      "execution_count": 0,
      "outputs": []
    },
    {
      "metadata": {
        "id": "7ceYxSJHUmag",
        "colab_type": "code",
        "colab": {}
      },
      "cell_type": "code",
      "source": [
        "# Boosting\n",
        "# as random forest and lgboost performed better than adaboost and xgboost\n",
        "# so we prefer to give lgbbost and randomforest more importance\n",
        "\n",
        "predictions = y_pred_rf*0.3 + y_pred_ada*0.1 + y_pred_xgb*0.3 + y_pred_xgb*0.3"
      ],
      "execution_count": 0,
      "outputs": []
    },
    {
      "metadata": {
        "id": "bWQu9wydUta1",
        "colab_type": "code",
        "colab": {
          "base_uri": "https://localhost:8080/",
          "height": 204
        },
        "outputId": "2b656b9a-dc19-422f-f419-6d5a7a0c5fe4"
      },
      "cell_type": "code",
      "source": [
        "# lets look at the submission file\n",
        "\n",
        "submission_first = pd.read_csv('sample_submission_24jSKY6.csv')\n",
        "\n",
        "submission_first.head()"
      ],
      "execution_count": 198,
      "outputs": [
        {
          "output_type": "execute_result",
          "data": {
            "text/html": [
              "<div>\n",
              "<style scoped>\n",
              "    .dataframe tbody tr th:only-of-type {\n",
              "        vertical-align: middle;\n",
              "    }\n",
              "\n",
              "    .dataframe tbody tr th {\n",
              "        vertical-align: top;\n",
              "    }\n",
              "\n",
              "    .dataframe thead th {\n",
              "        text-align: right;\n",
              "    }\n",
              "</style>\n",
              "<table border=\"1\" class=\"dataframe\">\n",
              "  <thead>\n",
              "    <tr style=\"text-align: right;\">\n",
              "      <th></th>\n",
              "      <th>UniqueID</th>\n",
              "      <th>loan_default</th>\n",
              "    </tr>\n",
              "  </thead>\n",
              "  <tbody>\n",
              "    <tr>\n",
              "      <th>0</th>\n",
              "      <td>655269</td>\n",
              "      <td>0</td>\n",
              "    </tr>\n",
              "    <tr>\n",
              "      <th>1</th>\n",
              "      <td>723482</td>\n",
              "      <td>0</td>\n",
              "    </tr>\n",
              "    <tr>\n",
              "      <th>2</th>\n",
              "      <td>758529</td>\n",
              "      <td>0</td>\n",
              "    </tr>\n",
              "    <tr>\n",
              "      <th>3</th>\n",
              "      <td>763449</td>\n",
              "      <td>0</td>\n",
              "    </tr>\n",
              "    <tr>\n",
              "      <th>4</th>\n",
              "      <td>708663</td>\n",
              "      <td>0</td>\n",
              "    </tr>\n",
              "  </tbody>\n",
              "</table>\n",
              "</div>"
            ],
            "text/plain": [
              "   UniqueID  loan_default\n",
              "0    655269             0\n",
              "1    723482             0\n",
              "2    758529             0\n",
              "3    763449             0\n",
              "4    708663             0"
            ]
          },
          "metadata": {
            "tags": []
          },
          "execution_count": 198
        }
      ]
    },
    {
      "metadata": {
        "id": "-7KqmFNqVY2o",
        "colab_type": "code",
        "colab": {
          "base_uri": "https://localhost:8080/",
          "height": 204
        },
        "outputId": "a4c68750-25ad-4023-8083-0d156a205c41"
      },
      "cell_type": "code",
      "source": [
        "#  let's create a submission file\n",
        "\n",
        "#Create a  DataFrame with the customers unique ids and our prediction regarding whether they default or not\n",
        "submission_first = pd.DataFrame({'UniqueID': unique_id,'loan_default': y_pred_lgb})\n",
        "\n",
        "#Visualize the first 5 rows\n",
        "submission_first.head()"
      ],
      "execution_count": 199,
      "outputs": [
        {
          "output_type": "execute_result",
          "data": {
            "text/html": [
              "<div>\n",
              "<style scoped>\n",
              "    .dataframe tbody tr th:only-of-type {\n",
              "        vertical-align: middle;\n",
              "    }\n",
              "\n",
              "    .dataframe tbody tr th {\n",
              "        vertical-align: top;\n",
              "    }\n",
              "\n",
              "    .dataframe thead th {\n",
              "        text-align: right;\n",
              "    }\n",
              "</style>\n",
              "<table border=\"1\" class=\"dataframe\">\n",
              "  <thead>\n",
              "    <tr style=\"text-align: right;\">\n",
              "      <th></th>\n",
              "      <th>UniqueID</th>\n",
              "      <th>loan_default</th>\n",
              "    </tr>\n",
              "  </thead>\n",
              "  <tbody>\n",
              "    <tr>\n",
              "      <th>0</th>\n",
              "      <td>655269</td>\n",
              "      <td>0</td>\n",
              "    </tr>\n",
              "    <tr>\n",
              "      <th>1</th>\n",
              "      <td>723482</td>\n",
              "      <td>0</td>\n",
              "    </tr>\n",
              "    <tr>\n",
              "      <th>2</th>\n",
              "      <td>758529</td>\n",
              "      <td>0</td>\n",
              "    </tr>\n",
              "    <tr>\n",
              "      <th>3</th>\n",
              "      <td>763449</td>\n",
              "      <td>0</td>\n",
              "    </tr>\n",
              "    <tr>\n",
              "      <th>4</th>\n",
              "      <td>708663</td>\n",
              "      <td>0</td>\n",
              "    </tr>\n",
              "  </tbody>\n",
              "</table>\n",
              "</div>"
            ],
            "text/plain": [
              "   UniqueID  loan_default\n",
              "0    655269             0\n",
              "1    723482             0\n",
              "2    758529             0\n",
              "3    763449             0\n",
              "4    708663             0"
            ]
          },
          "metadata": {
            "tags": []
          },
          "execution_count": 199
        }
      ]
    },
    {
      "metadata": {
        "id": "wbGaTgvIVwtY",
        "colab_type": "code",
        "colab": {
          "base_uri": "https://localhost:8080/",
          "height": 34
        },
        "outputId": "73a64d06-8d19-432e-870c-f3daa3f336c8"
      },
      "cell_type": "code",
      "source": [
        "#Convert DataFrame to a csv file that can be uploaded\n",
        "#This is saved in the same directory as your notebook\n",
        "filename = 'submission.csv'\n",
        "\n",
        "submission_first.to_csv(filename,index=False)\n",
        "\n",
        "print('Saved file: ' + filename)"
      ],
      "execution_count": 200,
      "outputs": [
        {
          "output_type": "stream",
          "text": [
            "Saved file: submission.csv\n"
          ],
          "name": "stdout"
        }
      ]
    }
  ]
}