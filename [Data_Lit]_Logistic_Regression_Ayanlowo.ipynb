{
  "nbformat": 4,
  "nbformat_minor": 0,
  "metadata": {
    "colab": {
      "name": " [Data-Lit] Logistic Regression - Ayanlowo.ipynb",
      "version": "0.3.2",
      "provenance": [],
      "collapsed_sections": [],
      "include_colab_link": true
    },
    "kernelspec": {
      "name": "python3",
      "display_name": "Python 3"
    },
    "accelerator": "GPU"
  },
  "cells": [
    {
      "cell_type": "markdown",
      "metadata": {
        "id": "view-in-github",
        "colab_type": "text"
      },
      "source": [
        "<a href=\"https://colab.research.google.com/github/Ayanlola2002/Datalit/blob/master/%5BData_Lit%5D_Logistic_Regression_Ayanlowo.ipynb\" target=\"_parent\"><img src=\"https://colab.research.google.com/assets/colab-badge.svg\" alt=\"Open In Colab\"/></a>"
      ]
    },
    {
      "metadata": {
        "id": "ju4MJetYFYmg",
        "colab_type": "text"
      },
      "cell_type": "markdown",
      "source": [
        "\n",
        "**Problem Objectives**\n",
        "\n",
        "Our objective  here is to train a binary classifier on the us-data dataset to predict the column income_bracket which has two possible values “>50K” and “<=50K” and evaluate the accuracy of the classifier with the test dataset.\n",
        "\n",
        "We would Apply sklearn model for prediction.as well as implementing logistic regression from scratch and get a good understanding of the key components of logistic regression:\n",
        "\n",
        "\n",
        "\n",
        "> hypothesis function\n",
        "> cost function\n",
        "> decision boundary\n",
        ">gradient descent algorithm\n",
        "\n",
        "Finally,we would  compare the result gotten from built-in model versus implementation from scratch on various metrics.\n",
        "\n",
        "\n",
        "DATA COLLECTION:\n",
        "\n",
        "Follow the folowing links to know how to extract kaggle dataset using kaggle cli API and kaggle json file\n",
        "\n",
        "(https://medium.com/@opalkabert/downloading-kaggle-datasets-into-google-colab-fb9654c94235)\n",
        "\n"
      ]
    },
    {
      "metadata": {
        "id": "ks5oRuu29xJt",
        "colab_type": "code",
        "colab": {}
      },
      "cell_type": "code",
      "source": [
        "#Installing kaggle CLI to extract data from kaggle\n",
        "!pip install -q kaggle\n",
        "!mkdir -p ~/.kaggle\n",
        "!cp kaggle.json ~/.kaggle\n"
      ],
      "execution_count": 0,
      "outputs": []
    },
    {
      "metadata": {
        "id": "GZdEICZzCEAd",
        "colab_type": "code",
        "colab": {}
      },
      "cell_type": "code",
      "source": [
        "#using the chmod commandline command to change the accessibility mode of kaggle json file\n",
        "!chmod 600 /root/.kaggle/kaggle.json"
      ],
      "execution_count": 0,
      "outputs": []
    },
    {
      "metadata": {
        "id": "9YCcAmxiA6Ha",
        "colab_type": "code",
        "outputId": "17c6e719-3f3b-45ac-8c41-5c822441bba9",
        "colab": {
          "base_uri": "https://localhost:8080/",
          "height": 34
        }
      },
      "cell_type": "code",
      "source": [
        "#downloading us-data data sets from johnolafenwa kaggle page\n",
        "\n",
        "!kaggle datasets download -d johnolafenwa/us-census-data"
      ],
      "execution_count": 173,
      "outputs": [
        {
          "output_type": "stream",
          "text": [
            "us-census-data.zip: Skipping, found more recently modified local copy (use --force to force download)\n"
          ],
          "name": "stdout"
        }
      ]
    },
    {
      "metadata": {
        "id": "tdh2gnKXCcdP",
        "colab_type": "code",
        "colab": {}
      },
      "cell_type": "code",
      "source": [
        "#unzippig the us-data file\n",
        "from shutil import unpack_archive\n",
        "#unpack_archive('all.zip')\n",
        "unpack_archive('us-census-data.zip')\n",
        "\n",
        "\n"
      ],
      "execution_count": 0,
      "outputs": []
    },
    {
      "metadata": {
        "id": "fVFrZOSGDFdL",
        "colab_type": "code",
        "colab": {}
      },
      "cell_type": "code",
      "source": [
        "#importing neccessary libraries for logistic classifier\n",
        "import pandas as pd\n",
        "import numpy as np\n",
        "\n",
        "import scipy as sp\n",
        "from scipy.stats import norm\n",
        "\n",
        "from sklearn import preprocessing\n",
        "from sklearn.model_selection import train_test_split \n",
        "from sklearn.metrics import r2_score, make_scorer, mean_squared_error, mean_absolute_error, accuracy_score\n",
        "from sklearn.metrics import classification_report, confusion_matrix\n",
        "\n",
        "from sklearn.preprocessing import StandardScaler\n",
        "\n",
        "import matplotlib.pyplot as plt\n",
        "%matplotlib inline\n",
        "\n",
        "import seaborn as sns\n",
        "\n",
        "from IPython.core.pylabtools import figsize\n",
        "\n",
        "import warnings\n",
        "warnings.filterwarnings('ignore')"
      ],
      "execution_count": 0,
      "outputs": []
    },
    {
      "metadata": {
        "id": "rrtkDp7sIVmu",
        "colab_type": "text"
      },
      "cell_type": "markdown",
      "source": [
        "EXPLORATORY DATA ANALYSIS\n",
        "\n",
        "The us-data dataset is made up of categorical and continuous features. It also contains missing values.\n",
        "\n",
        "The categorical columns are: workclass, education, marital_status, occupation, relationship, race, gender, native_country\n",
        "\n",
        "The continuous columns are: age, education_num, capital_gain, capital_loss, hours_per_week,flnwgt\n",
        "\n",
        "The term estimate refers to population totals derived from CPS by creating \"weighted tallies\" of any specified socio-economic characteristics of the population.\n",
        "\n",
        "People with similar demographic characteristics should have similar weights."
      ]
    },
    {
      "metadata": {
        "id": "NwXqBWJ7J6bx",
        "colab_type": "code",
        "colab": {}
      },
      "cell_type": "code",
      "source": [
        "#Add Headings to dataset \n",
        "#we create a dictionary of all cols,categorical cols,continous varriable cols as\n",
        "\n",
        "columns = [\"age\", \"workclass\", \"fnlwgt\", \"education\", \"education_num\", \n",
        "           \"marital_status\", \"occupation\", \"relationship\", \"race\", \"gender\", \n",
        "           \"capital_gain\", \"capital_loss\", \"hours_per_week\", \"native_country\", \"income_bracket\"]\n",
        "\n",
        "cat_cols = [\"workclass\", \"education\", \"marital_status\", \"occupation\",\"relationship\", \"race\", \"gender\", \"native_country\"]\n",
        "cont_cols = [\"age\", \"education_num\", \"capital_gain\", \"capital_loss\", \"hours_per_week\"]\n",
        "\n",
        "target_col_name = 'income_bracket'"
      ],
      "execution_count": 0,
      "outputs": []
    },
    {
      "metadata": {
        "id": "RYuFQYRpIUpn",
        "colab_type": "code",
        "colab": {}
      },
      "cell_type": "code",
      "source": [
        "train_data = pd.read_csv('adult-training.csv',names=columns,skipinitialspace=True)\n",
        "test_data=pd.read_csv('adult-test.csv',names=columns,skiprows=1)"
      ],
      "execution_count": 0,
      "outputs": []
    },
    {
      "metadata": {
        "id": "Fa71FXZWJBVU",
        "colab_type": "code",
        "outputId": "cd324f6e-31c3-4779-9951-208b8510df2e",
        "colab": {
          "base_uri": "https://localhost:8080/",
          "height": 292
        }
      },
      "cell_type": "code",
      "source": [
        "train_data.head()\n"
      ],
      "execution_count": 178,
      "outputs": [
        {
          "output_type": "execute_result",
          "data": {
            "text/html": [
              "<div>\n",
              "<style scoped>\n",
              "    .dataframe tbody tr th:only-of-type {\n",
              "        vertical-align: middle;\n",
              "    }\n",
              "\n",
              "    .dataframe tbody tr th {\n",
              "        vertical-align: top;\n",
              "    }\n",
              "\n",
              "    .dataframe thead th {\n",
              "        text-align: right;\n",
              "    }\n",
              "</style>\n",
              "<table border=\"1\" class=\"dataframe\">\n",
              "  <thead>\n",
              "    <tr style=\"text-align: right;\">\n",
              "      <th></th>\n",
              "      <th>age</th>\n",
              "      <th>workclass</th>\n",
              "      <th>fnlwgt</th>\n",
              "      <th>education</th>\n",
              "      <th>education_num</th>\n",
              "      <th>marital_status</th>\n",
              "      <th>occupation</th>\n",
              "      <th>relationship</th>\n",
              "      <th>race</th>\n",
              "      <th>gender</th>\n",
              "      <th>capital_gain</th>\n",
              "      <th>capital_loss</th>\n",
              "      <th>hours_per_week</th>\n",
              "      <th>native_country</th>\n",
              "      <th>income_bracket</th>\n",
              "    </tr>\n",
              "  </thead>\n",
              "  <tbody>\n",
              "    <tr>\n",
              "      <th>0</th>\n",
              "      <td>39</td>\n",
              "      <td>State-gov</td>\n",
              "      <td>77516</td>\n",
              "      <td>Bachelors</td>\n",
              "      <td>13</td>\n",
              "      <td>Never-married</td>\n",
              "      <td>Adm-clerical</td>\n",
              "      <td>Not-in-family</td>\n",
              "      <td>White</td>\n",
              "      <td>Male</td>\n",
              "      <td>2174</td>\n",
              "      <td>0</td>\n",
              "      <td>40</td>\n",
              "      <td>United-States</td>\n",
              "      <td>&lt;=50K</td>\n",
              "    </tr>\n",
              "    <tr>\n",
              "      <th>1</th>\n",
              "      <td>50</td>\n",
              "      <td>Self-emp-not-inc</td>\n",
              "      <td>83311</td>\n",
              "      <td>Bachelors</td>\n",
              "      <td>13</td>\n",
              "      <td>Married-civ-spouse</td>\n",
              "      <td>Exec-managerial</td>\n",
              "      <td>Husband</td>\n",
              "      <td>White</td>\n",
              "      <td>Male</td>\n",
              "      <td>0</td>\n",
              "      <td>0</td>\n",
              "      <td>13</td>\n",
              "      <td>United-States</td>\n",
              "      <td>&lt;=50K</td>\n",
              "    </tr>\n",
              "    <tr>\n",
              "      <th>2</th>\n",
              "      <td>38</td>\n",
              "      <td>Private</td>\n",
              "      <td>215646</td>\n",
              "      <td>HS-grad</td>\n",
              "      <td>9</td>\n",
              "      <td>Divorced</td>\n",
              "      <td>Handlers-cleaners</td>\n",
              "      <td>Not-in-family</td>\n",
              "      <td>White</td>\n",
              "      <td>Male</td>\n",
              "      <td>0</td>\n",
              "      <td>0</td>\n",
              "      <td>40</td>\n",
              "      <td>United-States</td>\n",
              "      <td>&lt;=50K</td>\n",
              "    </tr>\n",
              "    <tr>\n",
              "      <th>3</th>\n",
              "      <td>53</td>\n",
              "      <td>Private</td>\n",
              "      <td>234721</td>\n",
              "      <td>11th</td>\n",
              "      <td>7</td>\n",
              "      <td>Married-civ-spouse</td>\n",
              "      <td>Handlers-cleaners</td>\n",
              "      <td>Husband</td>\n",
              "      <td>Black</td>\n",
              "      <td>Male</td>\n",
              "      <td>0</td>\n",
              "      <td>0</td>\n",
              "      <td>40</td>\n",
              "      <td>United-States</td>\n",
              "      <td>&lt;=50K</td>\n",
              "    </tr>\n",
              "    <tr>\n",
              "      <th>4</th>\n",
              "      <td>28</td>\n",
              "      <td>Private</td>\n",
              "      <td>338409</td>\n",
              "      <td>Bachelors</td>\n",
              "      <td>13</td>\n",
              "      <td>Married-civ-spouse</td>\n",
              "      <td>Prof-specialty</td>\n",
              "      <td>Wife</td>\n",
              "      <td>Black</td>\n",
              "      <td>Female</td>\n",
              "      <td>0</td>\n",
              "      <td>0</td>\n",
              "      <td>40</td>\n",
              "      <td>Cuba</td>\n",
              "      <td>&lt;=50K</td>\n",
              "    </tr>\n",
              "  </tbody>\n",
              "</table>\n",
              "</div>"
            ],
            "text/plain": [
              "   age         workclass  fnlwgt  education  education_num  \\\n",
              "0   39         State-gov   77516  Bachelors             13   \n",
              "1   50  Self-emp-not-inc   83311  Bachelors             13   \n",
              "2   38           Private  215646    HS-grad              9   \n",
              "3   53           Private  234721       11th              7   \n",
              "4   28           Private  338409  Bachelors             13   \n",
              "\n",
              "       marital_status         occupation   relationship   race  gender  \\\n",
              "0       Never-married       Adm-clerical  Not-in-family  White    Male   \n",
              "1  Married-civ-spouse    Exec-managerial        Husband  White    Male   \n",
              "2            Divorced  Handlers-cleaners  Not-in-family  White    Male   \n",
              "3  Married-civ-spouse  Handlers-cleaners        Husband  Black    Male   \n",
              "4  Married-civ-spouse     Prof-specialty           Wife  Black  Female   \n",
              "\n",
              "   capital_gain  capital_loss  hours_per_week native_country income_bracket  \n",
              "0          2174             0              40  United-States          <=50K  \n",
              "1             0             0              13  United-States          <=50K  \n",
              "2             0             0              40  United-States          <=50K  \n",
              "3             0             0              40  United-States          <=50K  \n",
              "4             0             0              40           Cuba          <=50K  "
            ]
          },
          "metadata": {
            "tags": []
          },
          "execution_count": 178
        }
      ]
    },
    {
      "metadata": {
        "id": "KhMbO5Pe17Tv",
        "colab_type": "code",
        "outputId": "02872083-38cb-4edb-eac1-15c1fd0274c8",
        "colab": {
          "base_uri": "https://localhost:8080/",
          "height": 309
        }
      },
      "cell_type": "code",
      "source": [
        "test_data.head()"
      ],
      "execution_count": 179,
      "outputs": [
        {
          "output_type": "execute_result",
          "data": {
            "text/html": [
              "<div>\n",
              "<style scoped>\n",
              "    .dataframe tbody tr th:only-of-type {\n",
              "        vertical-align: middle;\n",
              "    }\n",
              "\n",
              "    .dataframe tbody tr th {\n",
              "        vertical-align: top;\n",
              "    }\n",
              "\n",
              "    .dataframe thead th {\n",
              "        text-align: right;\n",
              "    }\n",
              "</style>\n",
              "<table border=\"1\" class=\"dataframe\">\n",
              "  <thead>\n",
              "    <tr style=\"text-align: right;\">\n",
              "      <th></th>\n",
              "      <th>age</th>\n",
              "      <th>workclass</th>\n",
              "      <th>fnlwgt</th>\n",
              "      <th>education</th>\n",
              "      <th>education_num</th>\n",
              "      <th>marital_status</th>\n",
              "      <th>occupation</th>\n",
              "      <th>relationship</th>\n",
              "      <th>race</th>\n",
              "      <th>gender</th>\n",
              "      <th>capital_gain</th>\n",
              "      <th>capital_loss</th>\n",
              "      <th>hours_per_week</th>\n",
              "      <th>native_country</th>\n",
              "      <th>income_bracket</th>\n",
              "    </tr>\n",
              "  </thead>\n",
              "  <tbody>\n",
              "    <tr>\n",
              "      <th>0</th>\n",
              "      <td>25</td>\n",
              "      <td>Private</td>\n",
              "      <td>226802</td>\n",
              "      <td>11th</td>\n",
              "      <td>7</td>\n",
              "      <td>Never-married</td>\n",
              "      <td>Machine-op-inspct</td>\n",
              "      <td>Own-child</td>\n",
              "      <td>Black</td>\n",
              "      <td>Male</td>\n",
              "      <td>0</td>\n",
              "      <td>0</td>\n",
              "      <td>40</td>\n",
              "      <td>United-States</td>\n",
              "      <td>&lt;=50K.</td>\n",
              "    </tr>\n",
              "    <tr>\n",
              "      <th>1</th>\n",
              "      <td>38</td>\n",
              "      <td>Private</td>\n",
              "      <td>89814</td>\n",
              "      <td>HS-grad</td>\n",
              "      <td>9</td>\n",
              "      <td>Married-civ-spouse</td>\n",
              "      <td>Farming-fishing</td>\n",
              "      <td>Husband</td>\n",
              "      <td>White</td>\n",
              "      <td>Male</td>\n",
              "      <td>0</td>\n",
              "      <td>0</td>\n",
              "      <td>50</td>\n",
              "      <td>United-States</td>\n",
              "      <td>&lt;=50K.</td>\n",
              "    </tr>\n",
              "    <tr>\n",
              "      <th>2</th>\n",
              "      <td>28</td>\n",
              "      <td>Local-gov</td>\n",
              "      <td>336951</td>\n",
              "      <td>Assoc-acdm</td>\n",
              "      <td>12</td>\n",
              "      <td>Married-civ-spouse</td>\n",
              "      <td>Protective-serv</td>\n",
              "      <td>Husband</td>\n",
              "      <td>White</td>\n",
              "      <td>Male</td>\n",
              "      <td>0</td>\n",
              "      <td>0</td>\n",
              "      <td>40</td>\n",
              "      <td>United-States</td>\n",
              "      <td>&gt;50K.</td>\n",
              "    </tr>\n",
              "    <tr>\n",
              "      <th>3</th>\n",
              "      <td>44</td>\n",
              "      <td>Private</td>\n",
              "      <td>160323</td>\n",
              "      <td>Some-college</td>\n",
              "      <td>10</td>\n",
              "      <td>Married-civ-spouse</td>\n",
              "      <td>Machine-op-inspct</td>\n",
              "      <td>Husband</td>\n",
              "      <td>Black</td>\n",
              "      <td>Male</td>\n",
              "      <td>7688</td>\n",
              "      <td>0</td>\n",
              "      <td>40</td>\n",
              "      <td>United-States</td>\n",
              "      <td>&gt;50K.</td>\n",
              "    </tr>\n",
              "    <tr>\n",
              "      <th>4</th>\n",
              "      <td>18</td>\n",
              "      <td>?</td>\n",
              "      <td>103497</td>\n",
              "      <td>Some-college</td>\n",
              "      <td>10</td>\n",
              "      <td>Never-married</td>\n",
              "      <td>?</td>\n",
              "      <td>Own-child</td>\n",
              "      <td>White</td>\n",
              "      <td>Female</td>\n",
              "      <td>0</td>\n",
              "      <td>0</td>\n",
              "      <td>30</td>\n",
              "      <td>United-States</td>\n",
              "      <td>&lt;=50K.</td>\n",
              "    </tr>\n",
              "  </tbody>\n",
              "</table>\n",
              "</div>"
            ],
            "text/plain": [
              "   age   workclass  fnlwgt      education  education_num       marital_status  \\\n",
              "0   25     Private  226802           11th              7        Never-married   \n",
              "1   38     Private   89814        HS-grad              9   Married-civ-spouse   \n",
              "2   28   Local-gov  336951     Assoc-acdm             12   Married-civ-spouse   \n",
              "3   44     Private  160323   Some-college             10   Married-civ-spouse   \n",
              "4   18           ?  103497   Some-college             10        Never-married   \n",
              "\n",
              "           occupation relationship    race   gender  capital_gain  \\\n",
              "0   Machine-op-inspct    Own-child   Black     Male             0   \n",
              "1     Farming-fishing      Husband   White     Male             0   \n",
              "2     Protective-serv      Husband   White     Male             0   \n",
              "3   Machine-op-inspct      Husband   Black     Male          7688   \n",
              "4                   ?    Own-child   White   Female             0   \n",
              "\n",
              "   capital_loss  hours_per_week  native_country income_bracket  \n",
              "0             0              40   United-States         <=50K.  \n",
              "1             0              50   United-States         <=50K.  \n",
              "2             0              40   United-States          >50K.  \n",
              "3             0              40   United-States          >50K.  \n",
              "4             0              30   United-States         <=50K.  "
            ]
          },
          "metadata": {
            "tags": []
          },
          "execution_count": 179
        }
      ]
    },
    {
      "metadata": {
        "id": "PSpGuq4PFuiI",
        "colab_type": "code",
        "colab": {}
      },
      "cell_type": "code",
      "source": [
        ""
      ],
      "execution_count": 0,
      "outputs": []
    },
    {
      "metadata": {
        "id": "fQFodCU0Ki9I",
        "colab_type": "code",
        "outputId": "6bbe7b21-8bf5-42c4-a067-9a5e2cb7637f",
        "colab": {
          "base_uri": "https://localhost:8080/",
          "height": 357
        }
      },
      "cell_type": "code",
      "source": [
        "#showing the structure of data metadata i.e datatypes\n",
        "train_data.info()"
      ],
      "execution_count": 180,
      "outputs": [
        {
          "output_type": "stream",
          "text": [
            "<class 'pandas.core.frame.DataFrame'>\n",
            "RangeIndex: 32561 entries, 0 to 32560\n",
            "Data columns (total 15 columns):\n",
            "age               32561 non-null int64\n",
            "workclass         32561 non-null object\n",
            "fnlwgt            32561 non-null int64\n",
            "education         32561 non-null object\n",
            "education_num     32561 non-null int64\n",
            "marital_status    32561 non-null object\n",
            "occupation        32561 non-null object\n",
            "relationship      32561 non-null object\n",
            "race              32561 non-null object\n",
            "gender            32561 non-null object\n",
            "capital_gain      32561 non-null int64\n",
            "capital_loss      32561 non-null int64\n",
            "hours_per_week    32561 non-null int64\n",
            "native_country    32561 non-null object\n",
            "income_bracket    32561 non-null object\n",
            "dtypes: int64(6), object(9)\n",
            "memory usage: 3.7+ MB\n"
          ],
          "name": "stdout"
        }
      ]
    },
    {
      "metadata": {
        "id": "B5X_k6m62pJg",
        "colab_type": "code",
        "outputId": "a436b4b3-bdab-49ed-ea87-92f5a2e1bbb7",
        "colab": {
          "base_uri": "https://localhost:8080/",
          "height": 357
        }
      },
      "cell_type": "code",
      "source": [
        "test_data.info()"
      ],
      "execution_count": 181,
      "outputs": [
        {
          "output_type": "stream",
          "text": [
            "<class 'pandas.core.frame.DataFrame'>\n",
            "RangeIndex: 16281 entries, 0 to 16280\n",
            "Data columns (total 15 columns):\n",
            "age               16281 non-null int64\n",
            "workclass         16281 non-null object\n",
            "fnlwgt            16281 non-null int64\n",
            "education         16281 non-null object\n",
            "education_num     16281 non-null int64\n",
            "marital_status    16281 non-null object\n",
            "occupation        16281 non-null object\n",
            "relationship      16281 non-null object\n",
            "race              16281 non-null object\n",
            "gender            16281 non-null object\n",
            "capital_gain      16281 non-null int64\n",
            "capital_loss      16281 non-null int64\n",
            "hours_per_week    16281 non-null int64\n",
            "native_country    16281 non-null object\n",
            "income_bracket    16281 non-null object\n",
            "dtypes: int64(6), object(9)\n",
            "memory usage: 1.9+ MB\n"
          ],
          "name": "stdout"
        }
      ]
    },
    {
      "metadata": {
        "id": "c_hRQpMLLPDr",
        "colab_type": "text"
      },
      "cell_type": "markdown",
      "source": [
        "The information about the data states that the data contains missing values.but all the features values seems to be non-null\n",
        "\n",
        "we need to look into each features more closely.to check for irrational data values like ?,& etc\n",
        "\n",
        "we start with the catagorical varriabes:work class,education\n",
        "\n"
      ]
    },
    {
      "metadata": {
        "id": "xeqiP1aJLrmM",
        "colab_type": "code",
        "outputId": "bd895ed4-c7a9-4dbd-eed0-eeed9a42628d",
        "colab": {
          "base_uri": "https://localhost:8080/",
          "height": 68
        }
      },
      "cell_type": "code",
      "source": [
        "train_data['workclass'].unique()"
      ],
      "execution_count": 182,
      "outputs": [
        {
          "output_type": "execute_result",
          "data": {
            "text/plain": [
              "array(['State-gov', 'Self-emp-not-inc', 'Private', 'Federal-gov',\n",
              "       'Local-gov', '?', 'Self-emp-inc', 'Without-pay', 'Never-worked'],\n",
              "      dtype=object)"
            ]
          },
          "metadata": {
            "tags": []
          },
          "execution_count": 182
        }
      ]
    },
    {
      "metadata": {
        "id": "taT3SIJFK4Lk",
        "colab_type": "code",
        "outputId": "e7bf4678-5129-4dbf-b073-e5a41887e190",
        "colab": {
          "base_uri": "https://localhost:8080/",
          "height": 68
        }
      },
      "cell_type": "code",
      "source": [
        "train_data['education'].unique()"
      ],
      "execution_count": 183,
      "outputs": [
        {
          "output_type": "execute_result",
          "data": {
            "text/plain": [
              "array(['Bachelors', 'HS-grad', '11th', 'Masters', '9th', 'Some-college',\n",
              "       'Assoc-acdm', 'Assoc-voc', '7th-8th', 'Doctorate', 'Prof-school',\n",
              "       '5th-6th', '10th', '1st-4th', 'Preschool', '12th'], dtype=object)"
            ]
          },
          "metadata": {
            "tags": []
          },
          "execution_count": 183
        }
      ]
    },
    {
      "metadata": {
        "id": "0xbh5v77MCyz",
        "colab_type": "code",
        "outputId": "f76d1028-e5b5-44cf-eb31-244b7084dc52",
        "colab": {
          "base_uri": "https://localhost:8080/",
          "height": 68
        }
      },
      "cell_type": "code",
      "source": [
        "train_data['marital_status'].unique()"
      ],
      "execution_count": 184,
      "outputs": [
        {
          "output_type": "execute_result",
          "data": {
            "text/plain": [
              "array(['Never-married', 'Married-civ-spouse', 'Divorced',\n",
              "       'Married-spouse-absent', 'Separated', 'Married-AF-spouse',\n",
              "       'Widowed'], dtype=object)"
            ]
          },
          "metadata": {
            "tags": []
          },
          "execution_count": 184
        }
      ]
    },
    {
      "metadata": {
        "id": "cbT8_6JmMC4d",
        "colab_type": "code",
        "outputId": "5ebe8d00-90db-485c-948b-827d7e195def",
        "colab": {
          "base_uri": "https://localhost:8080/",
          "height": 102
        }
      },
      "cell_type": "code",
      "source": [
        "train_data['occupation'].unique()"
      ],
      "execution_count": 185,
      "outputs": [
        {
          "output_type": "execute_result",
          "data": {
            "text/plain": [
              "array(['Adm-clerical', 'Exec-managerial', 'Handlers-cleaners',\n",
              "       'Prof-specialty', 'Other-service', 'Sales', 'Craft-repair',\n",
              "       'Transport-moving', 'Farming-fishing', 'Machine-op-inspct',\n",
              "       'Tech-support', '?', 'Protective-serv', 'Armed-Forces',\n",
              "       'Priv-house-serv'], dtype=object)"
            ]
          },
          "metadata": {
            "tags": []
          },
          "execution_count": 185
        }
      ]
    },
    {
      "metadata": {
        "id": "017vJcRbMDED",
        "colab_type": "code",
        "outputId": "863db30a-65a3-460b-c86e-b1b82401fc5b",
        "colab": {
          "base_uri": "https://localhost:8080/",
          "height": 51
        }
      },
      "cell_type": "code",
      "source": [
        "\n",
        "train_data['relationship'].unique()"
      ],
      "execution_count": 186,
      "outputs": [
        {
          "output_type": "execute_result",
          "data": {
            "text/plain": [
              "array(['Not-in-family', 'Husband', 'Wife', 'Own-child', 'Unmarried',\n",
              "       'Other-relative'], dtype=object)"
            ]
          },
          "metadata": {
            "tags": []
          },
          "execution_count": 186
        }
      ]
    },
    {
      "metadata": {
        "id": "_cU2g5QmMZE9",
        "colab_type": "code",
        "outputId": "9721a3f1-9dc6-46ec-cb2a-afb577b7fb66",
        "colab": {
          "base_uri": "https://localhost:8080/",
          "height": 51
        }
      },
      "cell_type": "code",
      "source": [
        "train_data['race'].unique()"
      ],
      "execution_count": 187,
      "outputs": [
        {
          "output_type": "execute_result",
          "data": {
            "text/plain": [
              "array(['White', 'Black', 'Asian-Pac-Islander', 'Amer-Indian-Eskimo',\n",
              "       'Other'], dtype=object)"
            ]
          },
          "metadata": {
            "tags": []
          },
          "execution_count": 187
        }
      ]
    },
    {
      "metadata": {
        "id": "CFgz8bXYMZU7",
        "colab_type": "code",
        "outputId": "fa4de073-a1f3-4257-bbe1-835fa5bcd60b",
        "colab": {
          "base_uri": "https://localhost:8080/",
          "height": 34
        }
      },
      "cell_type": "code",
      "source": [
        "train_data['gender'].unique()"
      ],
      "execution_count": 188,
      "outputs": [
        {
          "output_type": "execute_result",
          "data": {
            "text/plain": [
              "array(['Male', 'Female'], dtype=object)"
            ]
          },
          "metadata": {
            "tags": []
          },
          "execution_count": 188
        }
      ]
    },
    {
      "metadata": {
        "id": "2zeS-H-iMZaa",
        "colab_type": "code",
        "outputId": "47777b4d-b6a6-4743-faa9-6b2e6ef9bbc1",
        "colab": {
          "base_uri": "https://localhost:8080/",
          "height": 170
        }
      },
      "cell_type": "code",
      "source": [
        "\n",
        "train_data['native_country'].unique()"
      ],
      "execution_count": 189,
      "outputs": [
        {
          "output_type": "execute_result",
          "data": {
            "text/plain": [
              "array(['United-States', 'Cuba', 'Jamaica', 'India', '?', 'Mexico',\n",
              "       'South', 'Puerto-Rico', 'Honduras', 'England', 'Canada', 'Germany',\n",
              "       'Iran', 'Philippines', 'Italy', 'Poland', 'Columbia', 'Cambodia',\n",
              "       'Thailand', 'Ecuador', 'Laos', 'Taiwan', 'Haiti', 'Portugal',\n",
              "       'Dominican-Republic', 'El-Salvador', 'France', 'Guatemala',\n",
              "       'China', 'Japan', 'Yugoslavia', 'Peru',\n",
              "       'Outlying-US(Guam-USVI-etc)', 'Scotland', 'Trinadad&Tobago',\n",
              "       'Greece', 'Nicaragua', 'Vietnam', 'Hong', 'Ireland', 'Hungary',\n",
              "       'Holand-Netherlands'], dtype=object)"
            ]
          },
          "metadata": {
            "tags": []
          },
          "execution_count": 189
        }
      ]
    },
    {
      "metadata": {
        "id": "_wVepTFDMZjT",
        "colab_type": "code",
        "outputId": "a0d396b0-3f03-43a8-83ac-aa90a9ee8c55",
        "colab": {
          "base_uri": "https://localhost:8080/",
          "height": 34
        }
      },
      "cell_type": "code",
      "source": [
        "train_data['income_bracket'].unique()"
      ],
      "execution_count": 190,
      "outputs": [
        {
          "output_type": "execute_result",
          "data": {
            "text/plain": [
              "array(['<=50K', '>50K'], dtype=object)"
            ]
          },
          "metadata": {
            "tags": []
          },
          "execution_count": 190
        }
      ]
    },
    {
      "metadata": {
        "id": "UrdUrwQhNJMy",
        "colab_type": "text"
      },
      "cell_type": "markdown",
      "source": [
        "DATA CLEANING\n",
        "\n",
        "we would replace all ? character with nan values"
      ]
    },
    {
      "metadata": {
        "id": "snbOFp_GNSPA",
        "colab_type": "code",
        "colab": {}
      },
      "cell_type": "code",
      "source": [
        "train_data.replace('?', np.nan, inplace=True)"
      ],
      "execution_count": 0,
      "outputs": []
    },
    {
      "metadata": {
        "id": "z7NTSveSkyY9",
        "colab_type": "code",
        "outputId": "b1c2d94e-ae0c-4a43-9bdb-07e46777dd24",
        "colab": {
          "base_uri": "https://localhost:8080/",
          "height": 68
        }
      },
      "cell_type": "code",
      "source": [
        "test_data['workclass'].unique()"
      ],
      "execution_count": 192,
      "outputs": [
        {
          "output_type": "execute_result",
          "data": {
            "text/plain": [
              "array([' Private', ' Local-gov', ' ?', ' Self-emp-not-inc',\n",
              "       ' Federal-gov', ' State-gov', ' Self-emp-inc', ' Without-pay',\n",
              "       ' Never-worked'], dtype=object)"
            ]
          },
          "metadata": {
            "tags": []
          },
          "execution_count": 192
        }
      ]
    },
    {
      "metadata": {
        "id": "YEAMVjG521UV",
        "colab_type": "code",
        "colab": {}
      },
      "cell_type": "code",
      "source": [
        "test_data.replace(' ?',np.nan, inplace=True)"
      ],
      "execution_count": 0,
      "outputs": []
    },
    {
      "metadata": {
        "id": "o-P2HF-6NY7z",
        "colab_type": "code",
        "outputId": "b601180c-56c3-42cf-9a8f-4215d1a76a92",
        "colab": {
          "base_uri": "https://localhost:8080/",
          "height": 289
        }
      },
      "cell_type": "code",
      "source": [
        "#checking for nulls values\n",
        "train_data.isnull().sum()"
      ],
      "execution_count": 194,
      "outputs": [
        {
          "output_type": "execute_result",
          "data": {
            "text/plain": [
              "age                  0\n",
              "workclass         1836\n",
              "fnlwgt               0\n",
              "education            0\n",
              "education_num        0\n",
              "marital_status       0\n",
              "occupation        1843\n",
              "relationship         0\n",
              "race                 0\n",
              "gender               0\n",
              "capital_gain         0\n",
              "capital_loss         0\n",
              "hours_per_week       0\n",
              "native_country     583\n",
              "income_bracket       0\n",
              "dtype: int64"
            ]
          },
          "metadata": {
            "tags": []
          },
          "execution_count": 194
        }
      ]
    },
    {
      "metadata": {
        "id": "XBnjLbj63aXi",
        "colab_type": "code",
        "outputId": "325a8120-79d9-4a54-a909-1f38678f9d70",
        "colab": {
          "base_uri": "https://localhost:8080/",
          "height": 289
        }
      },
      "cell_type": "code",
      "source": [
        "test_data.isnull().sum()"
      ],
      "execution_count": 195,
      "outputs": [
        {
          "output_type": "execute_result",
          "data": {
            "text/plain": [
              "age                 0\n",
              "workclass         963\n",
              "fnlwgt              0\n",
              "education           0\n",
              "education_num       0\n",
              "marital_status      0\n",
              "occupation        966\n",
              "relationship        0\n",
              "race                0\n",
              "gender              0\n",
              "capital_gain        0\n",
              "capital_loss        0\n",
              "hours_per_week      0\n",
              "native_country    274\n",
              "income_bracket      0\n",
              "dtype: int64"
            ]
          },
          "metadata": {
            "tags": []
          },
          "execution_count": 195
        }
      ]
    },
    {
      "metadata": {
        "id": "N8DX4NylNumD",
        "colab_type": "code",
        "colab": {}
      },
      "cell_type": "code",
      "source": [
        "\n",
        "# Feature engineer the label\n",
        "train_data['label'] = train_data[target_col_name].apply(lambda x: 1 if x == '>50K' else 0)\n",
        "\n"
      ],
      "execution_count": 0,
      "outputs": []
    },
    {
      "metadata": {
        "id": "WG6GBr9X4V1-",
        "colab_type": "code",
        "colab": {}
      },
      "cell_type": "code",
      "source": [
        "test_data['label'] = test_data[target_col_name].apply(lambda x: 1 if x == '>50K' else 0)"
      ],
      "execution_count": 0,
      "outputs": []
    },
    {
      "metadata": {
        "id": "qGUvyJWCN0lF",
        "colab_type": "code",
        "outputId": "ab6ad091-c296-4ba7-9ae3-97c188ca4e00",
        "colab": {
          "base_uri": "https://localhost:8080/",
          "height": 292
        }
      },
      "cell_type": "code",
      "source": [
        "train_data.head()"
      ],
      "execution_count": 198,
      "outputs": [
        {
          "output_type": "execute_result",
          "data": {
            "text/html": [
              "<div>\n",
              "<style scoped>\n",
              "    .dataframe tbody tr th:only-of-type {\n",
              "        vertical-align: middle;\n",
              "    }\n",
              "\n",
              "    .dataframe tbody tr th {\n",
              "        vertical-align: top;\n",
              "    }\n",
              "\n",
              "    .dataframe thead th {\n",
              "        text-align: right;\n",
              "    }\n",
              "</style>\n",
              "<table border=\"1\" class=\"dataframe\">\n",
              "  <thead>\n",
              "    <tr style=\"text-align: right;\">\n",
              "      <th></th>\n",
              "      <th>age</th>\n",
              "      <th>workclass</th>\n",
              "      <th>fnlwgt</th>\n",
              "      <th>education</th>\n",
              "      <th>education_num</th>\n",
              "      <th>marital_status</th>\n",
              "      <th>occupation</th>\n",
              "      <th>relationship</th>\n",
              "      <th>race</th>\n",
              "      <th>gender</th>\n",
              "      <th>capital_gain</th>\n",
              "      <th>capital_loss</th>\n",
              "      <th>hours_per_week</th>\n",
              "      <th>native_country</th>\n",
              "      <th>income_bracket</th>\n",
              "      <th>label</th>\n",
              "    </tr>\n",
              "  </thead>\n",
              "  <tbody>\n",
              "    <tr>\n",
              "      <th>0</th>\n",
              "      <td>39</td>\n",
              "      <td>State-gov</td>\n",
              "      <td>77516</td>\n",
              "      <td>Bachelors</td>\n",
              "      <td>13</td>\n",
              "      <td>Never-married</td>\n",
              "      <td>Adm-clerical</td>\n",
              "      <td>Not-in-family</td>\n",
              "      <td>White</td>\n",
              "      <td>Male</td>\n",
              "      <td>2174</td>\n",
              "      <td>0</td>\n",
              "      <td>40</td>\n",
              "      <td>United-States</td>\n",
              "      <td>&lt;=50K</td>\n",
              "      <td>0</td>\n",
              "    </tr>\n",
              "    <tr>\n",
              "      <th>1</th>\n",
              "      <td>50</td>\n",
              "      <td>Self-emp-not-inc</td>\n",
              "      <td>83311</td>\n",
              "      <td>Bachelors</td>\n",
              "      <td>13</td>\n",
              "      <td>Married-civ-spouse</td>\n",
              "      <td>Exec-managerial</td>\n",
              "      <td>Husband</td>\n",
              "      <td>White</td>\n",
              "      <td>Male</td>\n",
              "      <td>0</td>\n",
              "      <td>0</td>\n",
              "      <td>13</td>\n",
              "      <td>United-States</td>\n",
              "      <td>&lt;=50K</td>\n",
              "      <td>0</td>\n",
              "    </tr>\n",
              "    <tr>\n",
              "      <th>2</th>\n",
              "      <td>38</td>\n",
              "      <td>Private</td>\n",
              "      <td>215646</td>\n",
              "      <td>HS-grad</td>\n",
              "      <td>9</td>\n",
              "      <td>Divorced</td>\n",
              "      <td>Handlers-cleaners</td>\n",
              "      <td>Not-in-family</td>\n",
              "      <td>White</td>\n",
              "      <td>Male</td>\n",
              "      <td>0</td>\n",
              "      <td>0</td>\n",
              "      <td>40</td>\n",
              "      <td>United-States</td>\n",
              "      <td>&lt;=50K</td>\n",
              "      <td>0</td>\n",
              "    </tr>\n",
              "    <tr>\n",
              "      <th>3</th>\n",
              "      <td>53</td>\n",
              "      <td>Private</td>\n",
              "      <td>234721</td>\n",
              "      <td>11th</td>\n",
              "      <td>7</td>\n",
              "      <td>Married-civ-spouse</td>\n",
              "      <td>Handlers-cleaners</td>\n",
              "      <td>Husband</td>\n",
              "      <td>Black</td>\n",
              "      <td>Male</td>\n",
              "      <td>0</td>\n",
              "      <td>0</td>\n",
              "      <td>40</td>\n",
              "      <td>United-States</td>\n",
              "      <td>&lt;=50K</td>\n",
              "      <td>0</td>\n",
              "    </tr>\n",
              "    <tr>\n",
              "      <th>4</th>\n",
              "      <td>28</td>\n",
              "      <td>Private</td>\n",
              "      <td>338409</td>\n",
              "      <td>Bachelors</td>\n",
              "      <td>13</td>\n",
              "      <td>Married-civ-spouse</td>\n",
              "      <td>Prof-specialty</td>\n",
              "      <td>Wife</td>\n",
              "      <td>Black</td>\n",
              "      <td>Female</td>\n",
              "      <td>0</td>\n",
              "      <td>0</td>\n",
              "      <td>40</td>\n",
              "      <td>Cuba</td>\n",
              "      <td>&lt;=50K</td>\n",
              "      <td>0</td>\n",
              "    </tr>\n",
              "  </tbody>\n",
              "</table>\n",
              "</div>"
            ],
            "text/plain": [
              "   age         workclass  fnlwgt  education  education_num  \\\n",
              "0   39         State-gov   77516  Bachelors             13   \n",
              "1   50  Self-emp-not-inc   83311  Bachelors             13   \n",
              "2   38           Private  215646    HS-grad              9   \n",
              "3   53           Private  234721       11th              7   \n",
              "4   28           Private  338409  Bachelors             13   \n",
              "\n",
              "       marital_status         occupation   relationship   race  gender  \\\n",
              "0       Never-married       Adm-clerical  Not-in-family  White    Male   \n",
              "1  Married-civ-spouse    Exec-managerial        Husband  White    Male   \n",
              "2            Divorced  Handlers-cleaners  Not-in-family  White    Male   \n",
              "3  Married-civ-spouse  Handlers-cleaners        Husband  Black    Male   \n",
              "4  Married-civ-spouse     Prof-specialty           Wife  Black  Female   \n",
              "\n",
              "   capital_gain  capital_loss  hours_per_week native_country income_bracket  \\\n",
              "0          2174             0              40  United-States          <=50K   \n",
              "1             0             0              13  United-States          <=50K   \n",
              "2             0             0              40  United-States          <=50K   \n",
              "3             0             0              40  United-States          <=50K   \n",
              "4             0             0              40           Cuba          <=50K   \n",
              "\n",
              "   label  \n",
              "0      0  \n",
              "1      0  \n",
              "2      0  \n",
              "3      0  \n",
              "4      0  "
            ]
          },
          "metadata": {
            "tags": []
          },
          "execution_count": 198
        }
      ]
    },
    {
      "metadata": {
        "id": "OEXntQ6f4cTg",
        "colab_type": "code",
        "outputId": "72a60a92-7dc4-43e0-9516-bfe8365082b5",
        "colab": {
          "base_uri": "https://localhost:8080/",
          "height": 309
        }
      },
      "cell_type": "code",
      "source": [
        "test_data.head()"
      ],
      "execution_count": 199,
      "outputs": [
        {
          "output_type": "execute_result",
          "data": {
            "text/html": [
              "<div>\n",
              "<style scoped>\n",
              "    .dataframe tbody tr th:only-of-type {\n",
              "        vertical-align: middle;\n",
              "    }\n",
              "\n",
              "    .dataframe tbody tr th {\n",
              "        vertical-align: top;\n",
              "    }\n",
              "\n",
              "    .dataframe thead th {\n",
              "        text-align: right;\n",
              "    }\n",
              "</style>\n",
              "<table border=\"1\" class=\"dataframe\">\n",
              "  <thead>\n",
              "    <tr style=\"text-align: right;\">\n",
              "      <th></th>\n",
              "      <th>age</th>\n",
              "      <th>workclass</th>\n",
              "      <th>fnlwgt</th>\n",
              "      <th>education</th>\n",
              "      <th>education_num</th>\n",
              "      <th>marital_status</th>\n",
              "      <th>occupation</th>\n",
              "      <th>relationship</th>\n",
              "      <th>race</th>\n",
              "      <th>gender</th>\n",
              "      <th>capital_gain</th>\n",
              "      <th>capital_loss</th>\n",
              "      <th>hours_per_week</th>\n",
              "      <th>native_country</th>\n",
              "      <th>income_bracket</th>\n",
              "      <th>label</th>\n",
              "    </tr>\n",
              "  </thead>\n",
              "  <tbody>\n",
              "    <tr>\n",
              "      <th>0</th>\n",
              "      <td>25</td>\n",
              "      <td>Private</td>\n",
              "      <td>226802</td>\n",
              "      <td>11th</td>\n",
              "      <td>7</td>\n",
              "      <td>Never-married</td>\n",
              "      <td>Machine-op-inspct</td>\n",
              "      <td>Own-child</td>\n",
              "      <td>Black</td>\n",
              "      <td>Male</td>\n",
              "      <td>0</td>\n",
              "      <td>0</td>\n",
              "      <td>40</td>\n",
              "      <td>United-States</td>\n",
              "      <td>&lt;=50K.</td>\n",
              "      <td>0</td>\n",
              "    </tr>\n",
              "    <tr>\n",
              "      <th>1</th>\n",
              "      <td>38</td>\n",
              "      <td>Private</td>\n",
              "      <td>89814</td>\n",
              "      <td>HS-grad</td>\n",
              "      <td>9</td>\n",
              "      <td>Married-civ-spouse</td>\n",
              "      <td>Farming-fishing</td>\n",
              "      <td>Husband</td>\n",
              "      <td>White</td>\n",
              "      <td>Male</td>\n",
              "      <td>0</td>\n",
              "      <td>0</td>\n",
              "      <td>50</td>\n",
              "      <td>United-States</td>\n",
              "      <td>&lt;=50K.</td>\n",
              "      <td>0</td>\n",
              "    </tr>\n",
              "    <tr>\n",
              "      <th>2</th>\n",
              "      <td>28</td>\n",
              "      <td>Local-gov</td>\n",
              "      <td>336951</td>\n",
              "      <td>Assoc-acdm</td>\n",
              "      <td>12</td>\n",
              "      <td>Married-civ-spouse</td>\n",
              "      <td>Protective-serv</td>\n",
              "      <td>Husband</td>\n",
              "      <td>White</td>\n",
              "      <td>Male</td>\n",
              "      <td>0</td>\n",
              "      <td>0</td>\n",
              "      <td>40</td>\n",
              "      <td>United-States</td>\n",
              "      <td>&gt;50K.</td>\n",
              "      <td>0</td>\n",
              "    </tr>\n",
              "    <tr>\n",
              "      <th>3</th>\n",
              "      <td>44</td>\n",
              "      <td>Private</td>\n",
              "      <td>160323</td>\n",
              "      <td>Some-college</td>\n",
              "      <td>10</td>\n",
              "      <td>Married-civ-spouse</td>\n",
              "      <td>Machine-op-inspct</td>\n",
              "      <td>Husband</td>\n",
              "      <td>Black</td>\n",
              "      <td>Male</td>\n",
              "      <td>7688</td>\n",
              "      <td>0</td>\n",
              "      <td>40</td>\n",
              "      <td>United-States</td>\n",
              "      <td>&gt;50K.</td>\n",
              "      <td>0</td>\n",
              "    </tr>\n",
              "    <tr>\n",
              "      <th>4</th>\n",
              "      <td>18</td>\n",
              "      <td>NaN</td>\n",
              "      <td>103497</td>\n",
              "      <td>Some-college</td>\n",
              "      <td>10</td>\n",
              "      <td>Never-married</td>\n",
              "      <td>NaN</td>\n",
              "      <td>Own-child</td>\n",
              "      <td>White</td>\n",
              "      <td>Female</td>\n",
              "      <td>0</td>\n",
              "      <td>0</td>\n",
              "      <td>30</td>\n",
              "      <td>United-States</td>\n",
              "      <td>&lt;=50K.</td>\n",
              "      <td>0</td>\n",
              "    </tr>\n",
              "  </tbody>\n",
              "</table>\n",
              "</div>"
            ],
            "text/plain": [
              "   age   workclass  fnlwgt      education  education_num       marital_status  \\\n",
              "0   25     Private  226802           11th              7        Never-married   \n",
              "1   38     Private   89814        HS-grad              9   Married-civ-spouse   \n",
              "2   28   Local-gov  336951     Assoc-acdm             12   Married-civ-spouse   \n",
              "3   44     Private  160323   Some-college             10   Married-civ-spouse   \n",
              "4   18         NaN  103497   Some-college             10        Never-married   \n",
              "\n",
              "           occupation relationship    race   gender  capital_gain  \\\n",
              "0   Machine-op-inspct    Own-child   Black     Male             0   \n",
              "1     Farming-fishing      Husband   White     Male             0   \n",
              "2     Protective-serv      Husband   White     Male             0   \n",
              "3   Machine-op-inspct      Husband   Black     Male          7688   \n",
              "4                 NaN    Own-child   White   Female             0   \n",
              "\n",
              "   capital_loss  hours_per_week  native_country income_bracket  label  \n",
              "0             0              40   United-States         <=50K.      0  \n",
              "1             0              50   United-States         <=50K.      0  \n",
              "2             0              40   United-States          >50K.      0  \n",
              "3             0              40   United-States          >50K.      0  \n",
              "4             0              30   United-States         <=50K.      0  "
            ]
          },
          "metadata": {
            "tags": []
          },
          "execution_count": 199
        }
      ]
    },
    {
      "metadata": {
        "id": "Bb3Lt0VCOIxc",
        "colab_type": "text"
      },
      "cell_type": "markdown",
      "source": [
        "Data Visualization\n",
        "\n",
        "Data Visualization is neccessary to get relationship between the features. we ll use the heat map,pair plot,distribution plots ,barplots to get the correlation between the labels representing target varriable (income target) and each other features \n",
        "\n",
        "The following links gives good solid backgrounds on understanding this plots\n",
        "\n",
        "\n",
        "1.   https://medium.com/swlh/effective-visualization-of-multi-dimensional-data-a-hands-on-approach-b48f36a56ee8(very neccessary)\n",
        "\n",
        "2.  https://www.kaggle.com/jiexus/feature-selection-and-data-visualization \n",
        "\n",
        "\n",
        "3.   https://towardsdatascience.com/analyzing-a-dataset-the-step1-of-machine-learning-which-often-gets-overlooked-415ca65ed2f1\n",
        "\n",
        "4.  https://github.com/PacktPublishing/Feature-Engineering-Made-Easy/blob/master/Chapter02/Data%20EDA.ipynb\n",
        "\n",
        "\n",
        "\n",
        "\n"
      ]
    },
    {
      "metadata": {
        "id": "c0v54hmPOC89",
        "colab_type": "code",
        "outputId": "321682e8-2f1d-49d4-a06b-29a10f6d5b94",
        "colab": {
          "base_uri": "https://localhost:8080/",
          "height": 717
        }
      },
      "cell_type": "code",
      "source": [
        "\n",
        "corr_matrix = train_data.corr(method='pearson')\n",
        "f, ax = plt.subplots(figsize=(18,12))\n",
        "sns.heatmap(corr_matrix, vmin=0.2, square=True)"
      ],
      "execution_count": 200,
      "outputs": [
        {
          "output_type": "execute_result",
          "data": {
            "text/plain": [
              "<matplotlib.axes._subplots.AxesSubplot at 0x7fabd8d8b198>"
            ]
          },
          "metadata": {
            "tags": []
          },
          "execution_count": 200
        },
        {
          "output_type": "display_data",
          "data": {
            "image/png": "[encoded data removed]",
            "text/plain": [
              "<Figure size 1296x864 with 2 Axes>"
            ]
          },
          "metadata": {
            "tags": []
          }
        }
      ]
    },
    {
      "metadata": {
        "id": "aeebOfPhPgM9",
        "colab_type": "code",
        "colab": {}
      },
      "cell_type": "code",
      "source": [
        "largest_corrs = corr_matrix.nlargest(10,'label')['label']\n"
      ],
      "execution_count": 0,
      "outputs": []
    },
    {
      "metadata": {
        "id": "m33PGKs3Zh_r",
        "colab_type": "code",
        "outputId": "ce3eb14e-f0b3-40a3-d70e-fce83e004cbe",
        "colab": {
          "base_uri": "https://localhost:8080/",
          "height": 153
        }
      },
      "cell_type": "code",
      "source": [
        "largest_corrs"
      ],
      "execution_count": 202,
      "outputs": [
        {
          "output_type": "execute_result",
          "data": {
            "text/plain": [
              "label             1.000000\n",
              "education_num     0.335154\n",
              "age               0.234037\n",
              "hours_per_week    0.229689\n",
              "capital_gain      0.223329\n",
              "capital_loss      0.150526\n",
              "fnlwgt           -0.009463\n",
              "Name: label, dtype: float64"
            ]
          },
          "metadata": {
            "tags": []
          },
          "execution_count": 202
        }
      ]
    },
    {
      "metadata": {
        "id": "dllzxb5CQihw",
        "colab_type": "code",
        "outputId": "393dbd95-7c46-4da9-bf72-c27e5a9aa4c4",
        "colab": {
          "base_uri": "https://localhost:8080/",
          "height": 34
        }
      },
      "cell_type": "code",
      "source": [
        "#determining the best correlation\n",
        "best_corr_index = largest_corrs[1:5].index\n",
        "best_corr_index"
      ],
      "execution_count": 203,
      "outputs": [
        {
          "output_type": "execute_result",
          "data": {
            "text/plain": [
              "Index(['education_num', 'age', 'hours_per_week', 'capital_gain'], dtype='object')"
            ]
          },
          "metadata": {
            "tags": []
          },
          "execution_count": 203
        }
      ]
    },
    {
      "metadata": {
        "id": "FGL7XgN1QxsY",
        "colab_type": "code",
        "outputId": "dfc4bbaa-9a9c-4915-a666-6363d2862d81",
        "colab": {
          "base_uri": "https://localhost:8080/",
          "height": 85
        }
      },
      "cell_type": "code",
      "source": [
        "#\n",
        "cm = np.corrcoef(train_data[best_corr_index].values.T)\n",
        "cm\n"
      ],
      "execution_count": 204,
      "outputs": [
        {
          "output_type": "execute_result",
          "data": {
            "text/plain": [
              "array([[1.        , 0.03652719, 0.14812273, 0.12263011],\n",
              "       [0.03652719, 1.        , 0.06875571, 0.0776745 ],\n",
              "       [0.14812273, 0.06875571, 1.        , 0.07840862],\n",
              "       [0.12263011, 0.0776745 , 0.07840862, 1.        ]])"
            ]
          },
          "metadata": {
            "tags": []
          },
          "execution_count": 204
        }
      ]
    },
    {
      "metadata": {
        "id": "DDQg7nNgRCUc",
        "colab_type": "code",
        "outputId": "e1982691-4b53-4d15-b241-0a4de3c0f0e0",
        "colab": {
          "base_uri": "https://localhost:8080/",
          "height": 454
        }
      },
      "cell_type": "code",
      "source": [
        "sns.set(font_scale=1.5)\n",
        "hm = sns.heatmap(cm, cbar=True, annot=True, square=True, \n",
        "                 fmt='.2f', annot_kws={'size': 10}, \n",
        "                 yticklabels=best_corr_index.values, xticklabels=best_corr_index.values)\n",
        "plt.show()"
      ],
      "execution_count": 205,
      "outputs": [
        {
          "output_type": "display_data",
          "data": {
            "image/png": "[encoded data removed]",
            "text/plain": [
              "<Figure size 576x396 with 2 Axes>"
            ]
          },
          "metadata": {
            "tags": []
          }
        }
      ]
    },
    {
      "metadata": {
        "id": "4ydjfCiuRzll",
        "colab_type": "code",
        "outputId": "3df8e1a4-0f78-4c35-df64-32a147095759",
        "colab": {
          "base_uri": "https://localhost:8080/",
          "height": 865
        }
      },
      "cell_type": "code",
      "source": [
        "#using  Scatterplot to create a 2 dimmensional relationship between two features\n",
        "sns.set()\n",
        "sns.pairplot(train_data[best_corr_index], size=3)\n",
        "plt.show()"
      ],
      "execution_count": 206,
      "outputs": [
        {
          "output_type": "display_data",
          "data": {
            "image/png": "[encoded data removed]",
            "text/plain": [
              "<Figure size 864x864 with 20 Axes>"
            ]
          },
          "metadata": {
            "tags": []
          }
        }
      ]
    },
    {
      "metadata": {
        "id": "w_EistCbShUZ",
        "colab_type": "text"
      },
      "cell_type": "markdown",
      "source": [
        "The above results shows from the heatmap the education_num is the most correlated followed by age.and from the the scatter plots \n",
        "very small number of people has large capital gain"
      ]
    },
    {
      "metadata": {
        "id": "2JiOgS9-S713",
        "colab_type": "code",
        "outputId": "e93a4c63-4d6b-4fc2-bb75-66188eabf1aa",
        "colab": {
          "base_uri": "https://localhost:8080/",
          "height": 534
        }
      },
      "cell_type": "code",
      "source": [
        "#sketching a distrbution plots\n",
        "figsize(16,8)\n",
        "sns.distplot(train_data['age'], hist=True, bins=int(90/5), fit=norm)"
      ],
      "execution_count": 207,
      "outputs": [
        {
          "output_type": "execute_result",
          "data": {
            "text/plain": [
              "<matplotlib.axes._subplots.AxesSubplot at 0x7fabd8742198>"
            ]
          },
          "metadata": {
            "tags": []
          },
          "execution_count": 207
        },
        {
          "output_type": "display_data",
          "data": {
            "image/png": "[encoded data removed]",
            "text/plain": [
              "<Figure size 1152x576 with 1 Axes>"
            ]
          },
          "metadata": {
            "tags": []
          }
        }
      ]
    },
    {
      "metadata": {
        "id": "lXnYiWUJTInr",
        "colab_type": "text"
      },
      "cell_type": "markdown",
      "source": [
        "The above plots for age shows that age is positively skewed.\n"
      ]
    },
    {
      "metadata": {
        "id": "TFHE3J9CTR-s",
        "colab_type": "code",
        "outputId": "073a5cf4-fe58-487f-bc0a-3ea788822ea2",
        "colab": {
          "base_uri": "https://localhost:8080/",
          "height": 534
        }
      },
      "cell_type": "code",
      "source": [
        "figsize(16,8)\n",
        "sns.distplot(train_data['capital_gain'], hist=True, bins=int(100000/5000), fit=norm)"
      ],
      "execution_count": 208,
      "outputs": [
        {
          "output_type": "execute_result",
          "data": {
            "text/plain": [
              "<matplotlib.axes._subplots.AxesSubplot at 0x7fabd91e6278>"
            ]
          },
          "metadata": {
            "tags": []
          },
          "execution_count": 208
        },
        {
          "output_type": "display_data",
          "data": {
            "image/png": "[encoded data removed]",
            "text/plain": [
              "<Figure size 1152x576 with 1 Axes>"
            ]
          },
          "metadata": {
            "tags": []
          }
        }
      ]
    },
    {
      "metadata": {
        "id": "XGed1AzXTd7p",
        "colab_type": "code",
        "outputId": "b31f6649-4bcd-4239-f381-c2ba343d4546",
        "colab": {
          "base_uri": "https://localhost:8080/",
          "height": 34
        }
      },
      "cell_type": "code",
      "source": [
        "train_data['capital_gain'][train_data['capital_gain'] > 80000].count()"
      ],
      "execution_count": 209,
      "outputs": [
        {
          "output_type": "execute_result",
          "data": {
            "text/plain": [
              "159"
            ]
          },
          "metadata": {
            "tags": []
          },
          "execution_count": 209
        }
      ]
    },
    {
      "metadata": {
        "id": "6H-o3cDUTqb9",
        "colab_type": "code",
        "outputId": "c57c9a72-83d7-43bf-e024-e38dc15db21b",
        "colab": {
          "base_uri": "https://localhost:8080/",
          "height": 534
        }
      },
      "cell_type": "code",
      "source": [
        "\n",
        "figsize(16,8)\n",
        "sns.distplot(train_data['education_num'], hist=True, fit=norm)"
      ],
      "execution_count": 210,
      "outputs": [
        {
          "output_type": "execute_result",
          "data": {
            "text/plain": [
              "<matplotlib.axes._subplots.AxesSubplot at 0x7fabd878d128>"
            ]
          },
          "metadata": {
            "tags": []
          },
          "execution_count": 210
        },
        {
          "output_type": "display_data",
          "data": {
            "image/png": "[encoded data removed]",
            "text/plain": [
              "<Figure size 1152x576 with 1 Axes>"
            ]
          },
          "metadata": {
            "tags": []
          }
        }
      ]
    },
    {
      "metadata": {
        "id": "hzGI41pJTuWH",
        "colab_type": "code",
        "outputId": "089c1987-997b-4497-a975-4bb4482b534f",
        "colab": {
          "base_uri": "https://localhost:8080/",
          "height": 534
        }
      },
      "cell_type": "code",
      "source": [
        "sns.barplot(x='education_num', y='label', data=train_data)"
      ],
      "execution_count": 211,
      "outputs": [
        {
          "output_type": "execute_result",
          "data": {
            "text/plain": [
              "<matplotlib.axes._subplots.AxesSubplot at 0x7fabd9157f60>"
            ]
          },
          "metadata": {
            "tags": []
          },
          "execution_count": 211
        },
        {
          "output_type": "display_data",
          "data": {
            "image/png": "[encoded data removed]",
            "text/plain": [
              "<Figure size 1152x576 with 1 Axes>"
            ]
          },
          "metadata": {
            "tags": []
          }
        }
      ]
    },
    {
      "metadata": {
        "id": "WPQpz7g3UD7y",
        "colab_type": "code",
        "outputId": "db68a15c-a3f2-4e57-ac19-7ff148c708c7",
        "colab": {
          "base_uri": "https://localhost:8080/",
          "height": 534
        }
      },
      "cell_type": "code",
      "source": [
        "sns.barplot(x='workclass', y='label', data=train_data)"
      ],
      "execution_count": 212,
      "outputs": [
        {
          "output_type": "execute_result",
          "data": {
            "text/plain": [
              "<matplotlib.axes._subplots.AxesSubplot at 0x7fabdb1ccf28>"
            ]
          },
          "metadata": {
            "tags": []
          },
          "execution_count": 212
        },
        {
          "output_type": "display_data",
          "data": {
            "image/png": "[encoded data removed]",
            "text/plain": [
              "<Figure size 1152x576 with 1 Axes>"
            ]
          },
          "metadata": {
            "tags": []
          }
        }
      ]
    },
    {
      "metadata": {
        "id": "ZF1blTGFULcD",
        "colab_type": "code",
        "outputId": "88bfcc05-bd39-4e49-9b15-f9170d405b00",
        "colab": {
          "base_uri": "https://localhost:8080/",
          "height": 170
        }
      },
      "cell_type": "code",
      "source": [
        "train_data['workclass'].value_counts()"
      ],
      "execution_count": 213,
      "outputs": [
        {
          "output_type": "execute_result",
          "data": {
            "text/plain": [
              "Private             22696\n",
              "Self-emp-not-inc     2541\n",
              "Local-gov            2093\n",
              "State-gov            1298\n",
              "Self-emp-inc         1116\n",
              "Federal-gov           960\n",
              "Without-pay            14\n",
              "Never-worked            7\n",
              "Name: workclass, dtype: int64"
            ]
          },
          "metadata": {
            "tags": []
          },
          "execution_count": 213
        }
      ]
    },
    {
      "metadata": {
        "id": "XZ_-pLfJUVi-",
        "colab_type": "text"
      },
      "cell_type": "markdown",
      "source": [
        "Might be worth consolidating without-pay and never-worked - not much data for them"
      ]
    },
    {
      "metadata": {
        "id": "TLslemrWUq_g",
        "colab_type": "code",
        "outputId": "9ee25951-d3fc-4933-ede8-c6630d4e3d85",
        "colab": {
          "base_uri": "https://localhost:8080/",
          "height": 34
        }
      },
      "cell_type": "code",
      "source": [
        "train_data['workclass'].isnull().sum()"
      ],
      "execution_count": 214,
      "outputs": [
        {
          "output_type": "execute_result",
          "data": {
            "text/plain": [
              "1836"
            ]
          },
          "metadata": {
            "tags": []
          },
          "execution_count": 214
        }
      ]
    },
    {
      "metadata": {
        "id": "faoqLhESUwNz",
        "colab_type": "code",
        "outputId": "02f55c1c-050c-428e-8cda-8dec78eb2a69",
        "colab": {
          "base_uri": "https://localhost:8080/",
          "height": 534
        }
      },
      "cell_type": "code",
      "source": [
        "sns.barplot(x='education', y='label', data=train_data)"
      ],
      "execution_count": 215,
      "outputs": [
        {
          "output_type": "execute_result",
          "data": {
            "text/plain": [
              "<matplotlib.axes._subplots.AxesSubplot at 0x7fabd8def0f0>"
            ]
          },
          "metadata": {
            "tags": []
          },
          "execution_count": 215
        },
        {
          "output_type": "display_data",
          "data": {
            "image/png": "[encoded data removed]",
            "text/plain": [
              "<Figure size 1152x576 with 1 Axes>"
            ]
          },
          "metadata": {
            "tags": []
          }
        }
      ]
    },
    {
      "metadata": {
        "id": "Y3KruAnYEMW2",
        "colab_type": "code",
        "colab": {}
      },
      "cell_type": "code",
      "source": [
        "train_data['workclass'].fillna(' 0', inplace=True)\n",
        "test_data['workclass'].fillna(' 0', inplace=True)"
      ],
      "execution_count": 0,
      "outputs": []
    },
    {
      "metadata": {
        "id": "RKvt7NeHEuv6",
        "colab_type": "text"
      },
      "cell_type": "markdown",
      "source": [
        "Never-worked and Without-pay look very similar, we merge them."
      ]
    },
    {
      "metadata": {
        "id": "MhevC__0El2X",
        "colab_type": "code",
        "colab": {}
      },
      "cell_type": "code",
      "source": [
        "train_data['workclass'].replace(' Without-pay', ' Never-worked', inplace=True)\n",
        "test_data['workclass'].replace(' Without-pay', ' Never-worked', inplace=True)"
      ],
      "execution_count": 0,
      "outputs": []
    },
    {
      "metadata": {
        "id": "mB0Hp3uRFG5v",
        "colab_type": "code",
        "colab": {}
      },
      "cell_type": "code",
      "source": [
        "train_data['fnlwgt'] = train_data['fnlwgt'].apply(lambda x: np.log1p(x))\n",
        "test_data['fnlwgt'] = test_data['fnlwgt'].apply(lambda x: np.log1p(x))"
      ],
      "execution_count": 0,
      "outputs": []
    },
    {
      "metadata": {
        "id": "LB_uLA86F8Qd",
        "colab_type": "code",
        "outputId": "2024f83a-5348-4409-8571-6d0156fcebc0",
        "colab": {
          "base_uri": "https://localhost:8080/",
          "height": 170
        }
      },
      "cell_type": "code",
      "source": [
        "train_data['fnlwgt'].describe()"
      ],
      "execution_count": 219,
      "outputs": [
        {
          "output_type": "execute_result",
          "data": {
            "text/plain": [
              "count    32561.000000\n",
              "mean        11.983778\n",
              "std          0.630738\n",
              "min          9.416216\n",
              "25%         11.676981\n",
              "50%         12.091542\n",
              "75%         12.376035\n",
              "max         14.210727\n",
              "Name: fnlwgt, dtype: float64"
            ]
          },
          "metadata": {
            "tags": []
          },
          "execution_count": 219
        }
      ]
    },
    {
      "metadata": {
        "id": "uCRtXDAYU9II",
        "colab_type": "code",
        "outputId": "660c737c-d828-47fb-ed99-88d88b844023",
        "colab": {
          "base_uri": "https://localhost:8080/",
          "height": 306
        }
      },
      "cell_type": "code",
      "source": [
        "train_data['education'].value_counts()"
      ],
      "execution_count": 220,
      "outputs": [
        {
          "output_type": "execute_result",
          "data": {
            "text/plain": [
              "HS-grad         10501\n",
              "Some-college     7291\n",
              "Bachelors        5355\n",
              "Masters          1723\n",
              "Assoc-voc        1382\n",
              "11th             1175\n",
              "Assoc-acdm       1067\n",
              "10th              933\n",
              "7th-8th           646\n",
              "Prof-school       576\n",
              "9th               514\n",
              "12th              433\n",
              "Doctorate         413\n",
              "5th-6th           333\n",
              "1st-4th           168\n",
              "Preschool          51\n",
              "Name: education, dtype: int64"
            ]
          },
          "metadata": {
            "tags": []
          },
          "execution_count": 220
        }
      ]
    },
    {
      "metadata": {
        "id": "_4z0YNwzVK9d",
        "colab_type": "text"
      },
      "cell_type": "markdown",
      "source": [
        "Might be worth consolidating all the grade levels and preschool into \"school\""
      ]
    },
    {
      "metadata": {
        "id": "KKyi1xQQGX-W",
        "colab_type": "code",
        "colab": {}
      },
      "cell_type": "code",
      "source": [
        "def primary(x):\n",
        "    if x in [' 1st-4th', ' 5th-6th', ' 7th-8th', ' 9th', ' 10th', ' 11th', ' 12th','Preschool']:\n",
        "        return ' school'\n",
        "    else:\n",
        "        return x"
      ],
      "execution_count": 0,
      "outputs": []
    },
    {
      "metadata": {
        "id": "3lk5x4xwMdXN",
        "colab_type": "code",
        "colab": {}
      },
      "cell_type": "code",
      "source": [
        "train_data['education'] = train_data['education'].apply(primary)\n",
        "test_data['education'] = test_data['education'].apply(primary)"
      ],
      "execution_count": 0,
      "outputs": []
    },
    {
      "metadata": {
        "id": "PcO2zYZz3PTC",
        "colab_type": "code",
        "colab": {}
      },
      "cell_type": "code",
      "source": [
        "train_data['education'].fillna('0',inplace=True)\n",
        "test_data['education'].fillna(' 0', inplace=True)"
      ],
      "execution_count": 0,
      "outputs": []
    },
    {
      "metadata": {
        "id": "Jb8KJNOrVz4b",
        "colab_type": "code",
        "outputId": "153bfd84-6456-4b71-cfde-d629f5806913",
        "colab": {
          "base_uri": "https://localhost:8080/",
          "height": 593
        }
      },
      "cell_type": "code",
      "source": [
        "\n",
        "plt.xticks(rotation=50)\n",
        "sns.barplot(x='occupation', y='label', data=train_data)"
      ],
      "execution_count": 223,
      "outputs": [
        {
          "output_type": "execute_result",
          "data": {
            "text/plain": [
              "<matplotlib.axes._subplots.AxesSubplot at 0x7fabd9117198>"
            ]
          },
          "metadata": {
            "tags": []
          },
          "execution_count": 223
        },
        {
          "output_type": "display_data",
          "data": {
            "image/png": "[encoded data removed]",
            "text/plain": [
              "<Figure size 1152x576 with 1 Axes>"
            ]
          },
          "metadata": {
            "tags": []
          }
        }
      ]
    },
    {
      "metadata": {
        "id": "poVQRY4qV8Zg",
        "colab_type": "code",
        "outputId": "75a2dfb6-0aad-4f75-bb4f-e8d88619dc5c",
        "colab": {
          "base_uri": "https://localhost:8080/",
          "height": 272
        }
      },
      "cell_type": "code",
      "source": [
        "train_data['occupation'].value_counts()"
      ],
      "execution_count": 224,
      "outputs": [
        {
          "output_type": "execute_result",
          "data": {
            "text/plain": [
              "Prof-specialty       4140\n",
              "Craft-repair         4099\n",
              "Exec-managerial      4066\n",
              "Adm-clerical         3770\n",
              "Sales                3650\n",
              "Other-service        3295\n",
              "Machine-op-inspct    2002\n",
              "Transport-moving     1597\n",
              "Handlers-cleaners    1370\n",
              "Farming-fishing       994\n",
              "Tech-support          928\n",
              "Protective-serv       649\n",
              "Priv-house-serv       149\n",
              "Armed-Forces            9\n",
              "Name: occupation, dtype: int64"
            ]
          },
          "metadata": {
            "tags": []
          },
          "execution_count": 224
        }
      ]
    },
    {
      "metadata": {
        "id": "gr10kQDpOnsZ",
        "colab_type": "text"
      },
      "cell_type": "markdown",
      "source": [
        "Everything looks good, except Armed-Forces. They are similar to 0 and that's what we replace them with."
      ]
    },
    {
      "metadata": {
        "id": "7Bg5TY_dWuZ3",
        "colab_type": "code",
        "colab": {}
      },
      "cell_type": "code",
      "source": [
        "train_data['occupation'].fillna(' 0', inplace=True)\n",
        "test_data['occupation'].fillna(' 0', inplace=True)"
      ],
      "execution_count": 0,
      "outputs": []
    },
    {
      "metadata": {
        "id": "j6uU3WfvOehC",
        "colab_type": "code",
        "colab": {}
      },
      "cell_type": "code",
      "source": [
        "train_data['occupation'].replace(' Armed-Forces', ' 0', inplace=True)\n",
        "test_data['occupation'].replace(' Armed-Forces', ' 0', inplace=True)"
      ],
      "execution_count": 0,
      "outputs": []
    },
    {
      "metadata": {
        "id": "hPrZXUU8PNZ_",
        "colab_type": "text"
      },
      "cell_type": "markdown",
      "source": [
        "There are very few Married-AF-spouse features. They are similar to Married-civ-spouse, so we can merge them."
      ]
    },
    {
      "metadata": {
        "id": "RGBdiA3bSE5B",
        "colab_type": "code",
        "outputId": "aaa419b0-a57c-4d46-e16c-467b0d6f75c1",
        "colab": {
          "base_uri": "https://localhost:8080/",
          "height": 153
        }
      },
      "cell_type": "code",
      "source": [
        "train_data['marital_status'].value_counts()"
      ],
      "execution_count": 227,
      "outputs": [
        {
          "output_type": "execute_result",
          "data": {
            "text/plain": [
              "Married-civ-spouse       14976\n",
              "Never-married            10683\n",
              "Divorced                  4443\n",
              "Separated                 1025\n",
              "Widowed                    993\n",
              "Married-spouse-absent      418\n",
              "Married-AF-spouse           23\n",
              "Name: marital_status, dtype: int64"
            ]
          },
          "metadata": {
            "tags": []
          },
          "execution_count": 227
        }
      ]
    },
    {
      "metadata": {
        "id": "k_s9RME5SYpG",
        "colab_type": "code",
        "colab": {}
      },
      "cell_type": "code",
      "source": [
        "train_data['marital_status'].replace(' Married-AF-spouse', ' Married-civ-spouse', inplace=True)\n",
        "test_data['marital_status'].replace(' Married-AF-spouse', ' Married-civ-spouse', inplace=True)"
      ],
      "execution_count": 0,
      "outputs": []
    },
    {
      "metadata": {
        "id": "5tSg3X-44ACv",
        "colab_type": "code",
        "colab": {
          "base_uri": "https://localhost:8080/",
          "height": 1071
        },
        "outputId": "172aade9-1a8b-4638-b2bd-9e2615caf8a4"
      },
      "cell_type": "code",
      "source": [
        "train_data['marital_status'].fillna('0')\n",
        "test_data['marital_status'].fillna(' 0')"
      ],
      "execution_count": 229,
      "outputs": [
        {
          "output_type": "execute_result",
          "data": {
            "text/plain": [
              "0              Never-married\n",
              "1         Married-civ-spouse\n",
              "2         Married-civ-spouse\n",
              "3         Married-civ-spouse\n",
              "4              Never-married\n",
              "5              Never-married\n",
              "6              Never-married\n",
              "7         Married-civ-spouse\n",
              "8              Never-married\n",
              "9         Married-civ-spouse\n",
              "10        Married-civ-spouse\n",
              "11        Married-civ-spouse\n",
              "12             Never-married\n",
              "13        Married-civ-spouse\n",
              "14        Married-civ-spouse\n",
              "15        Married-civ-spouse\n",
              "16             Never-married\n",
              "17        Married-civ-spouse\n",
              "18                   Widowed\n",
              "19        Married-civ-spouse\n",
              "20        Married-civ-spouse\n",
              "21             Never-married\n",
              "22                  Divorced\n",
              "23             Never-married\n",
              "24        Married-civ-spouse\n",
              "25        Married-civ-spouse\n",
              "26             Never-married\n",
              "27                 Separated\n",
              "28        Married-civ-spouse\n",
              "29             Never-married\n",
              "                ...         \n",
              "16251     Married-civ-spouse\n",
              "16252     Married-civ-spouse\n",
              "16253          Never-married\n",
              "16254     Married-civ-spouse\n",
              "16255     Married-civ-spouse\n",
              "16256          Never-married\n",
              "16257               Divorced\n",
              "16258     Married-civ-spouse\n",
              "16259                Widowed\n",
              "16260          Never-married\n",
              "16261     Married-civ-spouse\n",
              "16262     Married-civ-spouse\n",
              "16263          Never-married\n",
              "16264                Widowed\n",
              "16265     Married-civ-spouse\n",
              "16266              Separated\n",
              "16267          Never-married\n",
              "16268               Divorced\n",
              "16269     Married-civ-spouse\n",
              "16270     Married-civ-spouse\n",
              "16271     Married-civ-spouse\n",
              "16272     Married-civ-spouse\n",
              "16273          Never-married\n",
              "16274               Divorced\n",
              "16275          Never-married\n",
              "16276               Divorced\n",
              "16277                Widowed\n",
              "16278     Married-civ-spouse\n",
              "16279               Divorced\n",
              "16280     Married-civ-spouse\n",
              "Name: marital_status, Length: 16281, dtype: object"
            ]
          },
          "metadata": {
            "tags": []
          },
          "execution_count": 229
        }
      ]
    },
    {
      "metadata": {
        "id": "1mafUf7fWKxv",
        "colab_type": "code",
        "outputId": "8fe9525f-0215-4ec4-a1db-c42dd95abda7",
        "colab": {
          "base_uri": "https://localhost:8080/",
          "height": 136
        }
      },
      "cell_type": "code",
      "source": [
        "train_data['relationship'].value_counts()"
      ],
      "execution_count": 230,
      "outputs": [
        {
          "output_type": "execute_result",
          "data": {
            "text/plain": [
              "Husband           13193\n",
              "Not-in-family      8305\n",
              "Own-child          5068\n",
              "Unmarried          3446\n",
              "Wife               1568\n",
              "Other-relative      981\n",
              "Name: relationship, dtype: int64"
            ]
          },
          "metadata": {
            "tags": []
          },
          "execution_count": 230
        }
      ]
    },
    {
      "metadata": {
        "id": "oABoJsPa4tRk",
        "colab_type": "code",
        "colab": {
          "base_uri": "https://localhost:8080/",
          "height": 1071
        },
        "outputId": "4c8013fc-8043-4557-c42c-3597c228adae"
      },
      "cell_type": "code",
      "source": [
        "train_data['relationship'].fillna('0')\n",
        "test_data['relationship'].fillna(' 0')"
      ],
      "execution_count": 231,
      "outputs": [
        {
          "output_type": "execute_result",
          "data": {
            "text/plain": [
              "0              Own-child\n",
              "1                Husband\n",
              "2                Husband\n",
              "3                Husband\n",
              "4              Own-child\n",
              "5          Not-in-family\n",
              "6              Unmarried\n",
              "7                Husband\n",
              "8              Unmarried\n",
              "9                Husband\n",
              "10               Husband\n",
              "11               Husband\n",
              "12         Not-in-family\n",
              "13               Husband\n",
              "14               Husband\n",
              "15               Husband\n",
              "16             Own-child\n",
              "17                  Wife\n",
              "18             Unmarried\n",
              "19               Husband\n",
              "20               Husband\n",
              "21             Own-child\n",
              "22         Not-in-family\n",
              "23         Not-in-family\n",
              "24               Husband\n",
              "25               Husband\n",
              "26             Own-child\n",
              "27             Unmarried\n",
              "28               Husband\n",
              "29         Not-in-family\n",
              "              ...       \n",
              "16251            Husband\n",
              "16252            Husband\n",
              "16253      Not-in-family\n",
              "16254            Husband\n",
              "16255            Husband\n",
              "16256          Own-child\n",
              "16257      Not-in-family\n",
              "16258            Husband\n",
              "16259     Other-relative\n",
              "16260      Not-in-family\n",
              "16261            Husband\n",
              "16262            Husband\n",
              "16263          Own-child\n",
              "16264      Not-in-family\n",
              "16265               Wife\n",
              "16266      Not-in-family\n",
              "16267          Unmarried\n",
              "16268      Not-in-family\n",
              "16269            Husband\n",
              "16270            Husband\n",
              "16271            Husband\n",
              "16272            Husband\n",
              "16273          Own-child\n",
              "16274      Not-in-family\n",
              "16275          Own-child\n",
              "16276      Not-in-family\n",
              "16277     Other-relative\n",
              "16278            Husband\n",
              "16279          Own-child\n",
              "16280            Husband\n",
              "Name: relationship, Length: 16281, dtype: object"
            ]
          },
          "metadata": {
            "tags": []
          },
          "execution_count": 231
        }
      ]
    },
    {
      "metadata": {
        "id": "NXW_Ki3RWVpp",
        "colab_type": "code",
        "outputId": "d858c5ec-518e-42db-e14e-50aa8e141890",
        "colab": {
          "base_uri": "https://localhost:8080/",
          "height": 119
        }
      },
      "cell_type": "code",
      "source": [
        "train_data['race'].value_counts()"
      ],
      "execution_count": 232,
      "outputs": [
        {
          "output_type": "execute_result",
          "data": {
            "text/plain": [
              "White                 27816\n",
              "Black                  3124\n",
              "Asian-Pac-Islander     1039\n",
              "Amer-Indian-Eskimo      311\n",
              "Other                   271\n",
              "Name: race, dtype: int64"
            ]
          },
          "metadata": {
            "tags": []
          },
          "execution_count": 232
        }
      ]
    },
    {
      "metadata": {
        "id": "miOSnnkm6M-X",
        "colab_type": "code",
        "colab": {
          "base_uri": "https://localhost:8080/",
          "height": 1071
        },
        "outputId": "7d482b92-cff9-4a79-a5a8-29c19e345fda"
      },
      "cell_type": "code",
      "source": [
        "train_data['race'].fillna('0')\n",
        "test_data['race'].fillna(' 0')"
      ],
      "execution_count": 233,
      "outputs": [
        {
          "output_type": "execute_result",
          "data": {
            "text/plain": [
              "0                      Black\n",
              "1                      White\n",
              "2                      White\n",
              "3                      Black\n",
              "4                      White\n",
              "5                      White\n",
              "6                      Black\n",
              "7                      White\n",
              "8                      White\n",
              "9                      White\n",
              "10                     White\n",
              "11                     White\n",
              "12                     White\n",
              "13                     White\n",
              "14                     White\n",
              "15                     White\n",
              "16                     White\n",
              "17                     White\n",
              "18                     White\n",
              "19        Asian-Pac-Islander\n",
              "20                     White\n",
              "21                     Black\n",
              "22                     White\n",
              "23                     White\n",
              "24                     White\n",
              "25                     White\n",
              "26                     White\n",
              "27                     Black\n",
              "28                     White\n",
              "29                     White\n",
              "                ...         \n",
              "16251                  White\n",
              "16252                  White\n",
              "16253                  White\n",
              "16254                  White\n",
              "16255                  White\n",
              "16256                  White\n",
              "16257                  White\n",
              "16258                  White\n",
              "16259                  White\n",
              "16260                  White\n",
              "16261                  White\n",
              "16262                  White\n",
              "16263                  White\n",
              "16264                  White\n",
              "16265                  White\n",
              "16266                  White\n",
              "16267                  Black\n",
              "16268                  White\n",
              "16269                  White\n",
              "16270                  White\n",
              "16271                  White\n",
              "16272                  White\n",
              "16273                  White\n",
              "16274                  White\n",
              "16275                  White\n",
              "16276                  White\n",
              "16277                  Black\n",
              "16278                  White\n",
              "16279     Asian-Pac-Islander\n",
              "16280                  White\n",
              "Name: race, Length: 16281, dtype: object"
            ]
          },
          "metadata": {
            "tags": []
          },
          "execution_count": 233
        }
      ]
    },
    {
      "metadata": {
        "id": "7hTTTaTYWYcC",
        "colab_type": "code",
        "outputId": "5cbcfb58-f6c6-45dd-e5e7-8934c68d5973",
        "colab": {
          "base_uri": "https://localhost:8080/",
          "height": 68
        }
      },
      "cell_type": "code",
      "source": [
        "train_data['gender'].value_counts()"
      ],
      "execution_count": 234,
      "outputs": [
        {
          "output_type": "execute_result",
          "data": {
            "text/plain": [
              "Male      21790\n",
              "Female    10771\n",
              "Name: gender, dtype: int64"
            ]
          },
          "metadata": {
            "tags": []
          },
          "execution_count": 234
        }
      ]
    },
    {
      "metadata": {
        "id": "3YWBqXbf6S3u",
        "colab_type": "code",
        "colab": {
          "base_uri": "https://localhost:8080/",
          "height": 1071
        },
        "outputId": "225a8c4d-8945-4cfe-d5fc-989fc3b487f1"
      },
      "cell_type": "code",
      "source": [
        "train_data['gender'].fillna('0')\n",
        "test_data['gender'].fillna(' 0')"
      ],
      "execution_count": 235,
      "outputs": [
        {
          "output_type": "execute_result",
          "data": {
            "text/plain": [
              "0           Male\n",
              "1           Male\n",
              "2           Male\n",
              "3           Male\n",
              "4         Female\n",
              "5           Male\n",
              "6           Male\n",
              "7           Male\n",
              "8         Female\n",
              "9           Male\n",
              "10          Male\n",
              "11          Male\n",
              "12        Female\n",
              "13          Male\n",
              "14          Male\n",
              "15          Male\n",
              "16          Male\n",
              "17        Female\n",
              "18        Female\n",
              "19          Male\n",
              "20          Male\n",
              "21        Female\n",
              "22        Female\n",
              "23          Male\n",
              "24          Male\n",
              "25          Male\n",
              "26          Male\n",
              "27          Male\n",
              "28          Male\n",
              "29          Male\n",
              "          ...   \n",
              "16251       Male\n",
              "16252       Male\n",
              "16253     Female\n",
              "16254       Male\n",
              "16255       Male\n",
              "16256       Male\n",
              "16257     Female\n",
              "16258       Male\n",
              "16259     Female\n",
              "16260     Female\n",
              "16261       Male\n",
              "16262       Male\n",
              "16263       Male\n",
              "16264       Male\n",
              "16265     Female\n",
              "16266     Female\n",
              "16267     Female\n",
              "16268       Male\n",
              "16269       Male\n",
              "16270       Male\n",
              "16271       Male\n",
              "16272       Male\n",
              "16273     Female\n",
              "16274       Male\n",
              "16275       Male\n",
              "16276     Female\n",
              "16277       Male\n",
              "16278       Male\n",
              "16279       Male\n",
              "16280       Male\n",
              "Name: gender, Length: 16281, dtype: object"
            ]
          },
          "metadata": {
            "tags": []
          },
          "execution_count": 235
        }
      ]
    },
    {
      "metadata": {
        "id": "5aJoSZBuWj1i",
        "colab_type": "code",
        "outputId": "a95a8c42-72fc-44d9-9e63-c26ea4eb3ebc",
        "colab": {
          "base_uri": "https://localhost:8080/",
          "height": 731
        }
      },
      "cell_type": "code",
      "source": [
        "train_data['native_country'].value_counts()"
      ],
      "execution_count": 236,
      "outputs": [
        {
          "output_type": "execute_result",
          "data": {
            "text/plain": [
              "United-States                 29170\n",
              "Mexico                          643\n",
              "Philippines                     198\n",
              "Germany                         137\n",
              "Canada                          121\n",
              "Puerto-Rico                     114\n",
              "El-Salvador                     106\n",
              "India                           100\n",
              "Cuba                             95\n",
              "England                          90\n",
              "Jamaica                          81\n",
              "South                            80\n",
              "China                            75\n",
              "Italy                            73\n",
              "Dominican-Republic               70\n",
              "Vietnam                          67\n",
              "Guatemala                        64\n",
              "Japan                            62\n",
              "Poland                           60\n",
              "Columbia                         59\n",
              "Taiwan                           51\n",
              "Haiti                            44\n",
              "Iran                             43\n",
              "Portugal                         37\n",
              "Nicaragua                        34\n",
              "Peru                             31\n",
              "France                           29\n",
              "Greece                           29\n",
              "Ecuador                          28\n",
              "Ireland                          24\n",
              "Hong                             20\n",
              "Trinadad&Tobago                  19\n",
              "Cambodia                         19\n",
              "Thailand                         18\n",
              "Laos                             18\n",
              "Yugoslavia                       16\n",
              "Outlying-US(Guam-USVI-etc)       14\n",
              "Hungary                          13\n",
              "Honduras                         13\n",
              "Scotland                         12\n",
              "Holand-Netherlands                1\n",
              "Name: native_country, dtype: int64"
            ]
          },
          "metadata": {
            "tags": []
          },
          "execution_count": 236
        }
      ]
    },
    {
      "metadata": {
        "id": "4NtYHE49XF91",
        "colab_type": "code",
        "colab": {}
      },
      "cell_type": "code",
      "source": [
        "train_data['native_country'].fillna(' 0', inplace=True)\n",
        "test_data['native_country'].fillna(' 0', inplace=True)"
      ],
      "execution_count": 0,
      "outputs": []
    },
    {
      "metadata": {
        "id": "hu9rFw2Y2gbV",
        "colab_type": "code",
        "colab": {}
      },
      "cell_type": "code",
      "source": [
        ""
      ],
      "execution_count": 0,
      "outputs": []
    },
    {
      "metadata": {
        "id": "Wfoi08WSXVm2",
        "colab_type": "text"
      },
      "cell_type": "markdown",
      "source": [
        "ONE HOT ENCODING\n",
        "\n",
        "\n",
        "In Encoding categorical features, we will use \"pd.get_dummies()\"\". we merge datasets to ensure  dimensions for both datasets are equal and also that given feature corresponds to the same dimension in both train and test datasets."
      ]
    },
    {
      "metadata": {
        "id": "Uy5eo31hBI00",
        "colab_type": "code",
        "colab": {}
      },
      "cell_type": "code",
      "source": [
        "#merge datasets\n",
        "joint = pd.concat([train_data, test_data], axis=0)"
      ],
      "execution_count": 0,
      "outputs": []
    },
    {
      "metadata": {
        "id": "-RNMhLJiBW3c",
        "colab_type": "code",
        "colab": {
          "base_uri": "https://localhost:8080/",
          "height": 306
        },
        "outputId": "0e66108f-d79d-4eeb-d628-fc1c28d8203f"
      },
      "cell_type": "code",
      "source": [
        "#Analize features, find categorical ones and one-hot encode them.\n",
        "joint.dtypes"
      ],
      "execution_count": 239,
      "outputs": [
        {
          "output_type": "execute_result",
          "data": {
            "text/plain": [
              "age                 int64\n",
              "workclass          object\n",
              "fnlwgt            float64\n",
              "education          object\n",
              "education_num       int64\n",
              "marital_status     object\n",
              "occupation         object\n",
              "relationship       object\n",
              "race               object\n",
              "gender             object\n",
              "capital_gain        int64\n",
              "capital_loss        int64\n",
              "hours_per_week      int64\n",
              "native_country     object\n",
              "income_bracket     object\n",
              "label               int64\n",
              "dtype: object"
            ]
          },
          "metadata": {
            "tags": []
          },
          "execution_count": 239
        }
      ]
    },
    {
      "metadata": {
        "id": "KU0TzJWyBkBy",
        "colab_type": "code",
        "colab": {}
      },
      "cell_type": "code",
      "source": [
        "#list of columns with dtype: object\n",
        "categorical_features = joint.select_dtypes(include=['object']).axes[1]"
      ],
      "execution_count": 0,
      "outputs": []
    },
    {
      "metadata": {
        "id": "F9UZUC0NBoou",
        "colab_type": "code",
        "colab": {
          "base_uri": "https://localhost:8080/",
          "height": 170
        },
        "outputId": "ef5e2fee-7d49-45b4-df25-a9f44b7cebd8"
      },
      "cell_type": "code",
      "source": [
        "for col in categorical_features:\n",
        "    print (col, joint[col].nunique())"
      ],
      "execution_count": 241,
      "outputs": [
        {
          "output_type": "stream",
          "text": [
            "workclass 16\n",
            "education 32\n",
            "marital_status 13\n",
            "occupation 28\n",
            "relationship 12\n",
            "race 10\n",
            "gender 4\n",
            "native_country 82\n",
            "income_bracket 4\n"
          ],
          "name": "stdout"
        }
      ]
    },
    {
      "metadata": {
        "id": "5WaMP544BxdC",
        "colab_type": "code",
        "colab": {}
      },
      "cell_type": "code",
      "source": [
        "#one-hot encode\n",
        "for col in categorical_features:\n",
        "    joint = pd.concat([joint, pd.get_dummies(joint[col], prefix=col, prefix_sep=':')], axis=1)\n",
        "    joint.drop(col, axis=1, inplace=True)"
      ],
      "execution_count": 0,
      "outputs": []
    },
    {
      "metadata": {
        "id": "eGeFAghPDCr4",
        "colab_type": "code",
        "colab": {
          "base_uri": "https://localhost:8080/",
          "height": 287
        },
        "outputId": "bbdb3318-499d-4490-8c25-9a038766b707"
      },
      "cell_type": "code",
      "source": [
        "joint.head()"
      ],
      "execution_count": 243,
      "outputs": [
        {
          "output_type": "execute_result",
          "data": {
            "text/html": [
              "<div>\n",
              "<style scoped>\n",
              "    .dataframe tbody tr th:only-of-type {\n",
              "        vertical-align: middle;\n",
              "    }\n",
              "\n",
              "    .dataframe tbody tr th {\n",
              "        vertical-align: top;\n",
              "    }\n",
              "\n",
              "    .dataframe thead th {\n",
              "        text-align: right;\n",
              "    }\n",
              "</style>\n",
              "<table border=\"1\" class=\"dataframe\">\n",
              "  <thead>\n",
              "    <tr style=\"text-align: right;\">\n",
              "      <th></th>\n",
              "      <th>age</th>\n",
              "      <th>fnlwgt</th>\n",
              "      <th>education_num</th>\n",
              "      <th>capital_gain</th>\n",
              "      <th>capital_loss</th>\n",
              "      <th>hours_per_week</th>\n",
              "      <th>label</th>\n",
              "      <th>workclass: 0</th>\n",
              "      <th>workclass: Federal-gov</th>\n",
              "      <th>workclass: Local-gov</th>\n",
              "      <th>...</th>\n",
              "      <th>native_country:Taiwan</th>\n",
              "      <th>native_country:Thailand</th>\n",
              "      <th>native_country:Trinadad&amp;Tobago</th>\n",
              "      <th>native_country:United-States</th>\n",
              "      <th>native_country:Vietnam</th>\n",
              "      <th>native_country:Yugoslavia</th>\n",
              "      <th>income_bracket: &lt;=50K.</th>\n",
              "      <th>income_bracket: &gt;50K.</th>\n",
              "      <th>income_bracket:&lt;=50K</th>\n",
              "      <th>income_bracket:&gt;50K</th>\n",
              "    </tr>\n",
              "  </thead>\n",
              "  <tbody>\n",
              "    <tr>\n",
              "      <th>0</th>\n",
              "      <td>39</td>\n",
              "      <td>11.258253</td>\n",
              "      <td>13</td>\n",
              "      <td>2174</td>\n",
              "      <td>0</td>\n",
              "      <td>40</td>\n",
              "      <td>0</td>\n",
              "      <td>0</td>\n",
              "      <td>0</td>\n",
              "      <td>0</td>\n",
              "      <td>...</td>\n",
              "      <td>0</td>\n",
              "      <td>0</td>\n",
              "      <td>0</td>\n",
              "      <td>1</td>\n",
              "      <td>0</td>\n",
              "      <td>0</td>\n",
              "      <td>0</td>\n",
              "      <td>0</td>\n",
              "      <td>1</td>\n",
              "      <td>0</td>\n",
              "    </tr>\n",
              "    <tr>\n",
              "      <th>1</th>\n",
              "      <td>50</td>\n",
              "      <td>11.330348</td>\n",
              "      <td>13</td>\n",
              "      <td>0</td>\n",
              "      <td>0</td>\n",
              "      <td>13</td>\n",
              "      <td>0</td>\n",
              "      <td>0</td>\n",
              "      <td>0</td>\n",
              "      <td>0</td>\n",
              "      <td>...</td>\n",
              "      <td>0</td>\n",
              "      <td>0</td>\n",
              "      <td>0</td>\n",
              "      <td>1</td>\n",
              "      <td>0</td>\n",
              "      <td>0</td>\n",
              "      <td>0</td>\n",
              "      <td>0</td>\n",
              "      <td>1</td>\n",
              "      <td>0</td>\n",
              "    </tr>\n",
              "    <tr>\n",
              "      <th>2</th>\n",
              "      <td>38</td>\n",
              "      <td>12.281398</td>\n",
              "      <td>9</td>\n",
              "      <td>0</td>\n",
              "      <td>0</td>\n",
              "      <td>40</td>\n",
              "      <td>0</td>\n",
              "      <td>0</td>\n",
              "      <td>0</td>\n",
              "      <td>0</td>\n",
              "      <td>...</td>\n",
              "      <td>0</td>\n",
              "      <td>0</td>\n",
              "      <td>0</td>\n",
              "      <td>1</td>\n",
              "      <td>0</td>\n",
              "      <td>0</td>\n",
              "      <td>0</td>\n",
              "      <td>0</td>\n",
              "      <td>1</td>\n",
              "      <td>0</td>\n",
              "    </tr>\n",
              "    <tr>\n",
              "      <th>3</th>\n",
              "      <td>53</td>\n",
              "      <td>12.366157</td>\n",
              "      <td>7</td>\n",
              "      <td>0</td>\n",
              "      <td>0</td>\n",
              "      <td>40</td>\n",
              "      <td>0</td>\n",
              "      <td>0</td>\n",
              "      <td>0</td>\n",
              "      <td>0</td>\n",
              "      <td>...</td>\n",
              "      <td>0</td>\n",
              "      <td>0</td>\n",
              "      <td>0</td>\n",
              "      <td>1</td>\n",
              "      <td>0</td>\n",
              "      <td>0</td>\n",
              "      <td>0</td>\n",
              "      <td>0</td>\n",
              "      <td>1</td>\n",
              "      <td>0</td>\n",
              "    </tr>\n",
              "    <tr>\n",
              "      <th>4</th>\n",
              "      <td>28</td>\n",
              "      <td>12.732013</td>\n",
              "      <td>13</td>\n",
              "      <td>0</td>\n",
              "      <td>0</td>\n",
              "      <td>40</td>\n",
              "      <td>0</td>\n",
              "      <td>0</td>\n",
              "      <td>0</td>\n",
              "      <td>0</td>\n",
              "      <td>...</td>\n",
              "      <td>0</td>\n",
              "      <td>0</td>\n",
              "      <td>0</td>\n",
              "      <td>0</td>\n",
              "      <td>0</td>\n",
              "      <td>0</td>\n",
              "      <td>0</td>\n",
              "      <td>0</td>\n",
              "      <td>1</td>\n",
              "      <td>0</td>\n",
              "    </tr>\n",
              "  </tbody>\n",
              "</table>\n",
              "<p>5 rows × 208 columns</p>\n",
              "</div>"
            ],
            "text/plain": [
              "   age     fnlwgt  education_num  capital_gain  capital_loss  hours_per_week  \\\n",
              "0   39  11.258253             13          2174             0              40   \n",
              "1   50  11.330348             13             0             0              13   \n",
              "2   38  12.281398              9             0             0              40   \n",
              "3   53  12.366157              7             0             0              40   \n",
              "4   28  12.732013             13             0             0              40   \n",
              "\n",
              "   label  workclass: 0  workclass: Federal-gov  workclass: Local-gov  \\\n",
              "0      0             0                       0                     0   \n",
              "1      0             0                       0                     0   \n",
              "2      0             0                       0                     0   \n",
              "3      0             0                       0                     0   \n",
              "4      0             0                       0                     0   \n",
              "\n",
              "          ...           native_country:Taiwan  native_country:Thailand  \\\n",
              "0         ...                               0                        0   \n",
              "1         ...                               0                        0   \n",
              "2         ...                               0                        0   \n",
              "3         ...                               0                        0   \n",
              "4         ...                               0                        0   \n",
              "\n",
              "   native_country:Trinadad&Tobago  native_country:United-States  \\\n",
              "0                               0                             1   \n",
              "1                               0                             1   \n",
              "2                               0                             1   \n",
              "3                               0                             1   \n",
              "4                               0                             0   \n",
              "\n",
              "   native_country:Vietnam  native_country:Yugoslavia  income_bracket: <=50K.  \\\n",
              "0                       0                          0                       0   \n",
              "1                       0                          0                       0   \n",
              "2                       0                          0                       0   \n",
              "3                       0                          0                       0   \n",
              "4                       0                          0                       0   \n",
              "\n",
              "   income_bracket: >50K.  income_bracket:<=50K  income_bracket:>50K  \n",
              "0                      0                     1                    0  \n",
              "1                      0                     1                    0  \n",
              "2                      0                     1                    0  \n",
              "3                      0                     1                    0  \n",
              "4                      0                     1                    0  \n",
              "\n",
              "[5 rows x 208 columns]"
            ]
          },
          "metadata": {
            "tags": []
          },
          "execution_count": 243
        }
      ]
    },
    {
      "metadata": {
        "id": "NVCQ3G4ODKph",
        "colab_type": "code",
        "colab": {}
      },
      "cell_type": "code",
      "source": [
        "#Now We separate train and test datasets.\n",
        "train_data =joint.head(train_data.shape[0])\n",
        "test_data =joint.tail(test_data.shape[0])"
      ],
      "execution_count": 0,
      "outputs": []
    },
    {
      "metadata": {
        "id": "LJ0dyPYLFISY",
        "colab_type": "code",
        "colab": {
          "base_uri": "https://localhost:8080/",
          "height": 2023
        },
        "outputId": "aa6d96f9-a8ac-4f78-ff5b-f16b2974a6db"
      },
      "cell_type": "code",
      "source": [
        "train_data"
      ],
      "execution_count": 245,
      "outputs": [
        {
          "output_type": "execute_result",
          "data": {
            "text/html": [
              "<div>\n",
              "<style scoped>\n",
              "    .dataframe tbody tr th:only-of-type {\n",
              "        vertical-align: middle;\n",
              "    }\n",
              "\n",
              "    .dataframe tbody tr th {\n",
              "        vertical-align: top;\n",
              "    }\n",
              "\n",
              "    .dataframe thead th {\n",
              "        text-align: right;\n",
              "    }\n",
              "</style>\n",
              "<table border=\"1\" class=\"dataframe\">\n",
              "  <thead>\n",
              "    <tr style=\"text-align: right;\">\n",
              "      <th></th>\n",
              "      <th>age</th>\n",
              "      <th>fnlwgt</th>\n",
              "      <th>education_num</th>\n",
              "      <th>capital_gain</th>\n",
              "      <th>capital_loss</th>\n",
              "      <th>hours_per_week</th>\n",
              "      <th>label</th>\n",
              "      <th>workclass: 0</th>\n",
              "      <th>workclass: Federal-gov</th>\n",
              "      <th>workclass: Local-gov</th>\n",
              "      <th>...</th>\n",
              "      <th>native_country:Taiwan</th>\n",
              "      <th>native_country:Thailand</th>\n",
              "      <th>native_country:Trinadad&amp;Tobago</th>\n",
              "      <th>native_country:United-States</th>\n",
              "      <th>native_country:Vietnam</th>\n",
              "      <th>native_country:Yugoslavia</th>\n",
              "      <th>income_bracket: &lt;=50K.</th>\n",
              "      <th>income_bracket: &gt;50K.</th>\n",
              "      <th>income_bracket:&lt;=50K</th>\n",
              "      <th>income_bracket:&gt;50K</th>\n",
              "    </tr>\n",
              "  </thead>\n",
              "  <tbody>\n",
              "    <tr>\n",
              "      <th>0</th>\n",
              "      <td>39</td>\n",
              "      <td>11.258253</td>\n",
              "      <td>13</td>\n",
              "      <td>2174</td>\n",
              "      <td>0</td>\n",
              "      <td>40</td>\n",
              "      <td>0</td>\n",
              "      <td>0</td>\n",
              "      <td>0</td>\n",
              "      <td>0</td>\n",
              "      <td>...</td>\n",
              "      <td>0</td>\n",
              "      <td>0</td>\n",
              "      <td>0</td>\n",
              "      <td>1</td>\n",
              "      <td>0</td>\n",
              "      <td>0</td>\n",
              "      <td>0</td>\n",
              "      <td>0</td>\n",
              "      <td>1</td>\n",
              "      <td>0</td>\n",
              "    </tr>\n",
              "    <tr>\n",
              "      <th>1</th>\n",
              "      <td>50</td>\n",
              "      <td>11.330348</td>\n",
              "      <td>13</td>\n",
              "      <td>0</td>\n",
              "      <td>0</td>\n",
              "      <td>13</td>\n",
              "      <td>0</td>\n",
              "      <td>0</td>\n",
              "      <td>0</td>\n",
              "      <td>0</td>\n",
              "      <td>...</td>\n",
              "      <td>0</td>\n",
              "      <td>0</td>\n",
              "      <td>0</td>\n",
              "      <td>1</td>\n",
              "      <td>0</td>\n",
              "      <td>0</td>\n",
              "      <td>0</td>\n",
              "      <td>0</td>\n",
              "      <td>1</td>\n",
              "      <td>0</td>\n",
              "    </tr>\n",
              "    <tr>\n",
              "      <th>2</th>\n",
              "      <td>38</td>\n",
              "      <td>12.281398</td>\n",
              "      <td>9</td>\n",
              "      <td>0</td>\n",
              "      <td>0</td>\n",
              "      <td>40</td>\n",
              "      <td>0</td>\n",
              "      <td>0</td>\n",
              "      <td>0</td>\n",
              "      <td>0</td>\n",
              "      <td>...</td>\n",
              "      <td>0</td>\n",
              "      <td>0</td>\n",
              "      <td>0</td>\n",
              "      <td>1</td>\n",
              "      <td>0</td>\n",
              "      <td>0</td>\n",
              "      <td>0</td>\n",
              "      <td>0</td>\n",
              "      <td>1</td>\n",
              "      <td>0</td>\n",
              "    </tr>\n",
              "    <tr>\n",
              "      <th>3</th>\n",
              "      <td>53</td>\n",
              "      <td>12.366157</td>\n",
              "      <td>7</td>\n",
              "      <td>0</td>\n",
              "      <td>0</td>\n",
              "      <td>40</td>\n",
              "      <td>0</td>\n",
              "      <td>0</td>\n",
              "      <td>0</td>\n",
              "      <td>0</td>\n",
              "      <td>...</td>\n",
              "      <td>0</td>\n",
              "      <td>0</td>\n",
              "      <td>0</td>\n",
              "      <td>1</td>\n",
              "      <td>0</td>\n",
              "      <td>0</td>\n",
              "      <td>0</td>\n",
              "      <td>0</td>\n",
              "      <td>1</td>\n",
              "      <td>0</td>\n",
              "    </tr>\n",
              "    <tr>\n",
              "      <th>4</th>\n",
              "      <td>28</td>\n",
              "      <td>12.732013</td>\n",
              "      <td>13</td>\n",
              "      <td>0</td>\n",
              "      <td>0</td>\n",
              "      <td>40</td>\n",
              "      <td>0</td>\n",
              "      <td>0</td>\n",
              "      <td>0</td>\n",
              "      <td>0</td>\n",
              "      <td>...</td>\n",
              "      <td>0</td>\n",
              "      <td>0</td>\n",
              "      <td>0</td>\n",
              "      <td>0</td>\n",
              "      <td>0</td>\n",
              "      <td>0</td>\n",
              "      <td>0</td>\n",
              "      <td>0</td>\n",
              "      <td>1</td>\n",
              "      <td>0</td>\n",
              "    </tr>\n",
              "    <tr>\n",
              "      <th>5</th>\n",
              "      <td>37</td>\n",
              "      <td>12.558780</td>\n",
              "      <td>14</td>\n",
              "      <td>0</td>\n",
              "      <td>0</td>\n",
              "      <td>40</td>\n",
              "      <td>0</td>\n",
              "      <td>0</td>\n",
              "      <td>0</td>\n",
              "      <td>0</td>\n",
              "      <td>...</td>\n",
              "      <td>0</td>\n",
              "      <td>0</td>\n",
              "      <td>0</td>\n",
              "      <td>1</td>\n",
              "      <td>0</td>\n",
              "      <td>0</td>\n",
              "      <td>0</td>\n",
              "      <td>0</td>\n",
              "      <td>1</td>\n",
              "      <td>0</td>\n",
              "    </tr>\n",
              "    <tr>\n",
              "      <th>6</th>\n",
              "      <td>49</td>\n",
              "      <td>11.984103</td>\n",
              "      <td>5</td>\n",
              "      <td>0</td>\n",
              "      <td>0</td>\n",
              "      <td>16</td>\n",
              "      <td>0</td>\n",
              "      <td>0</td>\n",
              "      <td>0</td>\n",
              "      <td>0</td>\n",
              "      <td>...</td>\n",
              "      <td>0</td>\n",
              "      <td>0</td>\n",
              "      <td>0</td>\n",
              "      <td>0</td>\n",
              "      <td>0</td>\n",
              "      <td>0</td>\n",
              "      <td>0</td>\n",
              "      <td>0</td>\n",
              "      <td>1</td>\n",
              "      <td>0</td>\n",
              "    </tr>\n",
              "    <tr>\n",
              "      <th>7</th>\n",
              "      <td>52</td>\n",
              "      <td>12.253161</td>\n",
              "      <td>9</td>\n",
              "      <td>0</td>\n",
              "      <td>0</td>\n",
              "      <td>45</td>\n",
              "      <td>1</td>\n",
              "      <td>0</td>\n",
              "      <td>0</td>\n",
              "      <td>0</td>\n",
              "      <td>...</td>\n",
              "      <td>0</td>\n",
              "      <td>0</td>\n",
              "      <td>0</td>\n",
              "      <td>1</td>\n",
              "      <td>0</td>\n",
              "      <td>0</td>\n",
              "      <td>0</td>\n",
              "      <td>0</td>\n",
              "      <td>0</td>\n",
              "      <td>1</td>\n",
              "    </tr>\n",
              "    <tr>\n",
              "      <th>8</th>\n",
              "      <td>31</td>\n",
              "      <td>10.731646</td>\n",
              "      <td>14</td>\n",
              "      <td>14084</td>\n",
              "      <td>0</td>\n",
              "      <td>50</td>\n",
              "      <td>1</td>\n",
              "      <td>0</td>\n",
              "      <td>0</td>\n",
              "      <td>0</td>\n",
              "      <td>...</td>\n",
              "      <td>0</td>\n",
              "      <td>0</td>\n",
              "      <td>0</td>\n",
              "      <td>1</td>\n",
              "      <td>0</td>\n",
              "      <td>0</td>\n",
              "      <td>0</td>\n",
              "      <td>0</td>\n",
              "      <td>0</td>\n",
              "      <td>1</td>\n",
              "    </tr>\n",
              "    <tr>\n",
              "      <th>9</th>\n",
              "      <td>42</td>\n",
              "      <td>11.979486</td>\n",
              "      <td>13</td>\n",
              "      <td>5178</td>\n",
              "      <td>0</td>\n",
              "      <td>40</td>\n",
              "      <td>1</td>\n",
              "      <td>0</td>\n",
              "      <td>0</td>\n",
              "      <td>0</td>\n",
              "      <td>...</td>\n",
              "      <td>0</td>\n",
              "      <td>0</td>\n",
              "      <td>0</td>\n",
              "      <td>1</td>\n",
              "      <td>0</td>\n",
              "      <td>0</td>\n",
              "      <td>0</td>\n",
              "      <td>0</td>\n",
              "      <td>0</td>\n",
              "      <td>1</td>\n",
              "    </tr>\n",
              "    <tr>\n",
              "      <th>10</th>\n",
              "      <td>37</td>\n",
              "      <td>12.544204</td>\n",
              "      <td>10</td>\n",
              "      <td>0</td>\n",
              "      <td>0</td>\n",
              "      <td>80</td>\n",
              "      <td>1</td>\n",
              "      <td>0</td>\n",
              "      <td>0</td>\n",
              "      <td>0</td>\n",
              "      <td>...</td>\n",
              "      <td>0</td>\n",
              "      <td>0</td>\n",
              "      <td>0</td>\n",
              "      <td>1</td>\n",
              "      <td>0</td>\n",
              "      <td>0</td>\n",
              "      <td>0</td>\n",
              "      <td>0</td>\n",
              "      <td>0</td>\n",
              "      <td>1</td>\n",
              "    </tr>\n",
              "    <tr>\n",
              "      <th>11</th>\n",
              "      <td>30</td>\n",
              "      <td>11.858626</td>\n",
              "      <td>13</td>\n",
              "      <td>0</td>\n",
              "      <td>0</td>\n",
              "      <td>40</td>\n",
              "      <td>1</td>\n",
              "      <td>0</td>\n",
              "      <td>0</td>\n",
              "      <td>0</td>\n",
              "      <td>...</td>\n",
              "      <td>0</td>\n",
              "      <td>0</td>\n",
              "      <td>0</td>\n",
              "      <td>0</td>\n",
              "      <td>0</td>\n",
              "      <td>0</td>\n",
              "      <td>0</td>\n",
              "      <td>0</td>\n",
              "      <td>0</td>\n",
              "      <td>1</td>\n",
              "    </tr>\n",
              "    <tr>\n",
              "      <th>12</th>\n",
              "      <td>23</td>\n",
              "      <td>11.714012</td>\n",
              "      <td>13</td>\n",
              "      <td>0</td>\n",
              "      <td>0</td>\n",
              "      <td>30</td>\n",
              "      <td>0</td>\n",
              "      <td>0</td>\n",
              "      <td>0</td>\n",
              "      <td>0</td>\n",
              "      <td>...</td>\n",
              "      <td>0</td>\n",
              "      <td>0</td>\n",
              "      <td>0</td>\n",
              "      <td>1</td>\n",
              "      <td>0</td>\n",
              "      <td>0</td>\n",
              "      <td>0</td>\n",
              "      <td>0</td>\n",
              "      <td>1</td>\n",
              "      <td>0</td>\n",
              "    </tr>\n",
              "    <tr>\n",
              "      <th>13</th>\n",
              "      <td>32</td>\n",
              "      <td>12.230863</td>\n",
              "      <td>12</td>\n",
              "      <td>0</td>\n",
              "      <td>0</td>\n",
              "      <td>50</td>\n",
              "      <td>0</td>\n",
              "      <td>0</td>\n",
              "      <td>0</td>\n",
              "      <td>0</td>\n",
              "      <td>...</td>\n",
              "      <td>0</td>\n",
              "      <td>0</td>\n",
              "      <td>0</td>\n",
              "      <td>1</td>\n",
              "      <td>0</td>\n",
              "      <td>0</td>\n",
              "      <td>0</td>\n",
              "      <td>0</td>\n",
              "      <td>1</td>\n",
              "      <td>0</td>\n",
              "    </tr>\n",
              "    <tr>\n",
              "      <th>14</th>\n",
              "      <td>40</td>\n",
              "      <td>11.709914</td>\n",
              "      <td>11</td>\n",
              "      <td>0</td>\n",
              "      <td>0</td>\n",
              "      <td>40</td>\n",
              "      <td>1</td>\n",
              "      <td>0</td>\n",
              "      <td>0</td>\n",
              "      <td>0</td>\n",
              "      <td>...</td>\n",
              "      <td>0</td>\n",
              "      <td>0</td>\n",
              "      <td>0</td>\n",
              "      <td>0</td>\n",
              "      <td>0</td>\n",
              "      <td>0</td>\n",
              "      <td>0</td>\n",
              "      <td>0</td>\n",
              "      <td>0</td>\n",
              "      <td>1</td>\n",
              "    </tr>\n",
              "    <tr>\n",
              "      <th>15</th>\n",
              "      <td>34</td>\n",
              "      <td>12.411003</td>\n",
              "      <td>4</td>\n",
              "      <td>0</td>\n",
              "      <td>0</td>\n",
              "      <td>45</td>\n",
              "      <td>0</td>\n",
              "      <td>0</td>\n",
              "      <td>0</td>\n",
              "      <td>0</td>\n",
              "      <td>...</td>\n",
              "      <td>0</td>\n",
              "      <td>0</td>\n",
              "      <td>0</td>\n",
              "      <td>0</td>\n",
              "      <td>0</td>\n",
              "      <td>0</td>\n",
              "      <td>0</td>\n",
              "      <td>0</td>\n",
              "      <td>1</td>\n",
              "      <td>0</td>\n",
              "    </tr>\n",
              "    <tr>\n",
              "      <th>16</th>\n",
              "      <td>25</td>\n",
              "      <td>12.082531</td>\n",
              "      <td>9</td>\n",
              "      <td>0</td>\n",
              "      <td>0</td>\n",
              "      <td>35</td>\n",
              "      <td>0</td>\n",
              "      <td>0</td>\n",
              "      <td>0</td>\n",
              "      <td>0</td>\n",
              "      <td>...</td>\n",
              "      <td>0</td>\n",
              "      <td>0</td>\n",
              "      <td>0</td>\n",
              "      <td>1</td>\n",
              "      <td>0</td>\n",
              "      <td>0</td>\n",
              "      <td>0</td>\n",
              "      <td>0</td>\n",
              "      <td>1</td>\n",
              "      <td>0</td>\n",
              "    </tr>\n",
              "    <tr>\n",
              "      <th>17</th>\n",
              "      <td>32</td>\n",
              "      <td>12.137928</td>\n",
              "      <td>9</td>\n",
              "      <td>0</td>\n",
              "      <td>0</td>\n",
              "      <td>40</td>\n",
              "      <td>0</td>\n",
              "      <td>0</td>\n",
              "      <td>0</td>\n",
              "      <td>0</td>\n",
              "      <td>...</td>\n",
              "      <td>0</td>\n",
              "      <td>0</td>\n",
              "      <td>0</td>\n",
              "      <td>1</td>\n",
              "      <td>0</td>\n",
              "      <td>0</td>\n",
              "      <td>0</td>\n",
              "      <td>0</td>\n",
              "      <td>1</td>\n",
              "      <td>0</td>\n",
              "    </tr>\n",
              "    <tr>\n",
              "      <th>18</th>\n",
              "      <td>38</td>\n",
              "      <td>10.271182</td>\n",
              "      <td>7</td>\n",
              "      <td>0</td>\n",
              "      <td>0</td>\n",
              "      <td>50</td>\n",
              "      <td>0</td>\n",
              "      <td>0</td>\n",
              "      <td>0</td>\n",
              "      <td>0</td>\n",
              "      <td>...</td>\n",
              "      <td>0</td>\n",
              "      <td>0</td>\n",
              "      <td>0</td>\n",
              "      <td>1</td>\n",
              "      <td>0</td>\n",
              "      <td>0</td>\n",
              "      <td>0</td>\n",
              "      <td>0</td>\n",
              "      <td>1</td>\n",
              "      <td>0</td>\n",
              "    </tr>\n",
              "    <tr>\n",
              "      <th>19</th>\n",
              "      <td>43</td>\n",
              "      <td>12.585112</td>\n",
              "      <td>14</td>\n",
              "      <td>0</td>\n",
              "      <td>0</td>\n",
              "      <td>45</td>\n",
              "      <td>1</td>\n",
              "      <td>0</td>\n",
              "      <td>0</td>\n",
              "      <td>0</td>\n",
              "      <td>...</td>\n",
              "      <td>0</td>\n",
              "      <td>0</td>\n",
              "      <td>0</td>\n",
              "      <td>1</td>\n",
              "      <td>0</td>\n",
              "      <td>0</td>\n",
              "      <td>0</td>\n",
              "      <td>0</td>\n",
              "      <td>0</td>\n",
              "      <td>1</td>\n",
              "    </tr>\n",
              "    <tr>\n",
              "      <th>20</th>\n",
              "      <td>40</td>\n",
              "      <td>12.173162</td>\n",
              "      <td>16</td>\n",
              "      <td>0</td>\n",
              "      <td>0</td>\n",
              "      <td>60</td>\n",
              "      <td>1</td>\n",
              "      <td>0</td>\n",
              "      <td>0</td>\n",
              "      <td>0</td>\n",
              "      <td>...</td>\n",
              "      <td>0</td>\n",
              "      <td>0</td>\n",
              "      <td>0</td>\n",
              "      <td>1</td>\n",
              "      <td>0</td>\n",
              "      <td>0</td>\n",
              "      <td>0</td>\n",
              "      <td>0</td>\n",
              "      <td>0</td>\n",
              "      <td>1</td>\n",
              "    </tr>\n",
              "    <tr>\n",
              "      <th>21</th>\n",
              "      <td>54</td>\n",
              "      <td>12.618669</td>\n",
              "      <td>9</td>\n",
              "      <td>0</td>\n",
              "      <td>0</td>\n",
              "      <td>20</td>\n",
              "      <td>0</td>\n",
              "      <td>0</td>\n",
              "      <td>0</td>\n",
              "      <td>0</td>\n",
              "      <td>...</td>\n",
              "      <td>0</td>\n",
              "      <td>0</td>\n",
              "      <td>0</td>\n",
              "      <td>1</td>\n",
              "      <td>0</td>\n",
              "      <td>0</td>\n",
              "      <td>0</td>\n",
              "      <td>0</td>\n",
              "      <td>1</td>\n",
              "      <td>0</td>\n",
              "    </tr>\n",
              "    <tr>\n",
              "      <th>22</th>\n",
              "      <td>35</td>\n",
              "      <td>11.249559</td>\n",
              "      <td>5</td>\n",
              "      <td>0</td>\n",
              "      <td>0</td>\n",
              "      <td>40</td>\n",
              "      <td>0</td>\n",
              "      <td>0</td>\n",
              "      <td>0</td>\n",
              "      <td>0</td>\n",
              "      <td>...</td>\n",
              "      <td>0</td>\n",
              "      <td>0</td>\n",
              "      <td>0</td>\n",
              "      <td>1</td>\n",
              "      <td>0</td>\n",
              "      <td>0</td>\n",
              "      <td>0</td>\n",
              "      <td>0</td>\n",
              "      <td>1</td>\n",
              "      <td>0</td>\n",
              "    </tr>\n",
              "    <tr>\n",
              "      <th>23</th>\n",
              "      <td>43</td>\n",
              "      <td>11.670254</td>\n",
              "      <td>7</td>\n",
              "      <td>0</td>\n",
              "      <td>2042</td>\n",
              "      <td>40</td>\n",
              "      <td>0</td>\n",
              "      <td>0</td>\n",
              "      <td>0</td>\n",
              "      <td>0</td>\n",
              "      <td>...</td>\n",
              "      <td>0</td>\n",
              "      <td>0</td>\n",
              "      <td>0</td>\n",
              "      <td>1</td>\n",
              "      <td>0</td>\n",
              "      <td>0</td>\n",
              "      <td>0</td>\n",
              "      <td>0</td>\n",
              "      <td>1</td>\n",
              "      <td>0</td>\n",
              "    </tr>\n",
              "    <tr>\n",
              "      <th>24</th>\n",
              "      <td>59</td>\n",
              "      <td>11.599250</td>\n",
              "      <td>9</td>\n",
              "      <td>0</td>\n",
              "      <td>0</td>\n",
              "      <td>40</td>\n",
              "      <td>0</td>\n",
              "      <td>0</td>\n",
              "      <td>0</td>\n",
              "      <td>0</td>\n",
              "      <td>...</td>\n",
              "      <td>0</td>\n",
              "      <td>0</td>\n",
              "      <td>0</td>\n",
              "      <td>1</td>\n",
              "      <td>0</td>\n",
              "      <td>0</td>\n",
              "      <td>0</td>\n",
              "      <td>0</td>\n",
              "      <td>1</td>\n",
              "      <td>0</td>\n",
              "    </tr>\n",
              "    <tr>\n",
              "      <th>25</th>\n",
              "      <td>56</td>\n",
              "      <td>12.286970</td>\n",
              "      <td>13</td>\n",
              "      <td>0</td>\n",
              "      <td>0</td>\n",
              "      <td>40</td>\n",
              "      <td>1</td>\n",
              "      <td>0</td>\n",
              "      <td>0</td>\n",
              "      <td>0</td>\n",
              "      <td>...</td>\n",
              "      <td>0</td>\n",
              "      <td>0</td>\n",
              "      <td>0</td>\n",
              "      <td>1</td>\n",
              "      <td>0</td>\n",
              "      <td>0</td>\n",
              "      <td>0</td>\n",
              "      <td>0</td>\n",
              "      <td>0</td>\n",
              "      <td>1</td>\n",
              "    </tr>\n",
              "    <tr>\n",
              "      <th>26</th>\n",
              "      <td>19</td>\n",
              "      <td>12.033474</td>\n",
              "      <td>9</td>\n",
              "      <td>0</td>\n",
              "      <td>0</td>\n",
              "      <td>40</td>\n",
              "      <td>0</td>\n",
              "      <td>0</td>\n",
              "      <td>0</td>\n",
              "      <td>0</td>\n",
              "      <td>...</td>\n",
              "      <td>0</td>\n",
              "      <td>0</td>\n",
              "      <td>0</td>\n",
              "      <td>1</td>\n",
              "      <td>0</td>\n",
              "      <td>0</td>\n",
              "      <td>0</td>\n",
              "      <td>0</td>\n",
              "      <td>1</td>\n",
              "      <td>0</td>\n",
              "    </tr>\n",
              "    <tr>\n",
              "      <th>27</th>\n",
              "      <td>54</td>\n",
              "      <td>12.101889</td>\n",
              "      <td>10</td>\n",
              "      <td>0</td>\n",
              "      <td>0</td>\n",
              "      <td>60</td>\n",
              "      <td>1</td>\n",
              "      <td>1</td>\n",
              "      <td>0</td>\n",
              "      <td>0</td>\n",
              "      <td>...</td>\n",
              "      <td>0</td>\n",
              "      <td>0</td>\n",
              "      <td>0</td>\n",
              "      <td>0</td>\n",
              "      <td>0</td>\n",
              "      <td>0</td>\n",
              "      <td>0</td>\n",
              "      <td>0</td>\n",
              "      <td>0</td>\n",
              "      <td>1</td>\n",
              "    </tr>\n",
              "    <tr>\n",
              "      <th>28</th>\n",
              "      <td>39</td>\n",
              "      <td>12.813828</td>\n",
              "      <td>9</td>\n",
              "      <td>0</td>\n",
              "      <td>0</td>\n",
              "      <td>80</td>\n",
              "      <td>0</td>\n",
              "      <td>0</td>\n",
              "      <td>0</td>\n",
              "      <td>0</td>\n",
              "      <td>...</td>\n",
              "      <td>0</td>\n",
              "      <td>0</td>\n",
              "      <td>0</td>\n",
              "      <td>1</td>\n",
              "      <td>0</td>\n",
              "      <td>0</td>\n",
              "      <td>0</td>\n",
              "      <td>0</td>\n",
              "      <td>1</td>\n",
              "      <td>0</td>\n",
              "    </tr>\n",
              "    <tr>\n",
              "      <th>29</th>\n",
              "      <td>49</td>\n",
              "      <td>12.172345</td>\n",
              "      <td>9</td>\n",
              "      <td>0</td>\n",
              "      <td>0</td>\n",
              "      <td>40</td>\n",
              "      <td>0</td>\n",
              "      <td>0</td>\n",
              "      <td>0</td>\n",
              "      <td>0</td>\n",
              "      <td>...</td>\n",
              "      <td>0</td>\n",
              "      <td>0</td>\n",
              "      <td>0</td>\n",
              "      <td>1</td>\n",
              "      <td>0</td>\n",
              "      <td>0</td>\n",
              "      <td>0</td>\n",
              "      <td>0</td>\n",
              "      <td>1</td>\n",
              "      <td>0</td>\n",
              "    </tr>\n",
              "    <tr>\n",
              "      <th>...</th>\n",
              "      <td>...</td>\n",
              "      <td>...</td>\n",
              "      <td>...</td>\n",
              "      <td>...</td>\n",
              "      <td>...</td>\n",
              "      <td>...</td>\n",
              "      <td>...</td>\n",
              "      <td>...</td>\n",
              "      <td>...</td>\n",
              "      <td>...</td>\n",
              "      <td>...</td>\n",
              "      <td>...</td>\n",
              "      <td>...</td>\n",
              "      <td>...</td>\n",
              "      <td>...</td>\n",
              "      <td>...</td>\n",
              "      <td>...</td>\n",
              "      <td>...</td>\n",
              "      <td>...</td>\n",
              "      <td>...</td>\n",
              "      <td>...</td>\n",
              "    </tr>\n",
              "    <tr>\n",
              "      <th>32531</th>\n",
              "      <td>30</td>\n",
              "      <td>10.428571</td>\n",
              "      <td>13</td>\n",
              "      <td>0</td>\n",
              "      <td>0</td>\n",
              "      <td>99</td>\n",
              "      <td>0</td>\n",
              "      <td>1</td>\n",
              "      <td>0</td>\n",
              "      <td>0</td>\n",
              "      <td>...</td>\n",
              "      <td>0</td>\n",
              "      <td>0</td>\n",
              "      <td>0</td>\n",
              "      <td>1</td>\n",
              "      <td>0</td>\n",
              "      <td>0</td>\n",
              "      <td>0</td>\n",
              "      <td>0</td>\n",
              "      <td>1</td>\n",
              "      <td>0</td>\n",
              "    </tr>\n",
              "    <tr>\n",
              "      <th>32532</th>\n",
              "      <td>34</td>\n",
              "      <td>12.228137</td>\n",
              "      <td>16</td>\n",
              "      <td>0</td>\n",
              "      <td>0</td>\n",
              "      <td>60</td>\n",
              "      <td>1</td>\n",
              "      <td>0</td>\n",
              "      <td>0</td>\n",
              "      <td>0</td>\n",
              "      <td>...</td>\n",
              "      <td>0</td>\n",
              "      <td>0</td>\n",
              "      <td>0</td>\n",
              "      <td>1</td>\n",
              "      <td>0</td>\n",
              "      <td>0</td>\n",
              "      <td>0</td>\n",
              "      <td>0</td>\n",
              "      <td>0</td>\n",
              "      <td>1</td>\n",
              "    </tr>\n",
              "    <tr>\n",
              "      <th>32533</th>\n",
              "      <td>54</td>\n",
              "      <td>12.730780</td>\n",
              "      <td>13</td>\n",
              "      <td>0</td>\n",
              "      <td>0</td>\n",
              "      <td>50</td>\n",
              "      <td>1</td>\n",
              "      <td>0</td>\n",
              "      <td>0</td>\n",
              "      <td>0</td>\n",
              "      <td>...</td>\n",
              "      <td>0</td>\n",
              "      <td>0</td>\n",
              "      <td>0</td>\n",
              "      <td>0</td>\n",
              "      <td>0</td>\n",
              "      <td>0</td>\n",
              "      <td>0</td>\n",
              "      <td>0</td>\n",
              "      <td>0</td>\n",
              "      <td>1</td>\n",
              "    </tr>\n",
              "    <tr>\n",
              "      <th>32534</th>\n",
              "      <td>37</td>\n",
              "      <td>12.095912</td>\n",
              "      <td>10</td>\n",
              "      <td>0</td>\n",
              "      <td>0</td>\n",
              "      <td>39</td>\n",
              "      <td>0</td>\n",
              "      <td>0</td>\n",
              "      <td>0</td>\n",
              "      <td>0</td>\n",
              "      <td>...</td>\n",
              "      <td>0</td>\n",
              "      <td>0</td>\n",
              "      <td>0</td>\n",
              "      <td>1</td>\n",
              "      <td>0</td>\n",
              "      <td>0</td>\n",
              "      <td>0</td>\n",
              "      <td>0</td>\n",
              "      <td>1</td>\n",
              "      <td>0</td>\n",
              "    </tr>\n",
              "    <tr>\n",
              "      <th>32535</th>\n",
              "      <td>22</td>\n",
              "      <td>12.691685</td>\n",
              "      <td>8</td>\n",
              "      <td>0</td>\n",
              "      <td>0</td>\n",
              "      <td>35</td>\n",
              "      <td>0</td>\n",
              "      <td>0</td>\n",
              "      <td>0</td>\n",
              "      <td>0</td>\n",
              "      <td>...</td>\n",
              "      <td>0</td>\n",
              "      <td>0</td>\n",
              "      <td>0</td>\n",
              "      <td>1</td>\n",
              "      <td>0</td>\n",
              "      <td>0</td>\n",
              "      <td>0</td>\n",
              "      <td>0</td>\n",
              "      <td>1</td>\n",
              "      <td>0</td>\n",
              "    </tr>\n",
              "    <tr>\n",
              "      <th>32536</th>\n",
              "      <td>34</td>\n",
              "      <td>11.984284</td>\n",
              "      <td>13</td>\n",
              "      <td>0</td>\n",
              "      <td>0</td>\n",
              "      <td>55</td>\n",
              "      <td>1</td>\n",
              "      <td>0</td>\n",
              "      <td>0</td>\n",
              "      <td>0</td>\n",
              "      <td>...</td>\n",
              "      <td>0</td>\n",
              "      <td>0</td>\n",
              "      <td>0</td>\n",
              "      <td>1</td>\n",
              "      <td>0</td>\n",
              "      <td>0</td>\n",
              "      <td>0</td>\n",
              "      <td>0</td>\n",
              "      <td>0</td>\n",
              "      <td>1</td>\n",
              "    </tr>\n",
              "    <tr>\n",
              "      <th>32537</th>\n",
              "      <td>30</td>\n",
              "      <td>12.753902</td>\n",
              "      <td>9</td>\n",
              "      <td>0</td>\n",
              "      <td>0</td>\n",
              "      <td>46</td>\n",
              "      <td>0</td>\n",
              "      <td>0</td>\n",
              "      <td>0</td>\n",
              "      <td>0</td>\n",
              "      <td>...</td>\n",
              "      <td>0</td>\n",
              "      <td>0</td>\n",
              "      <td>0</td>\n",
              "      <td>1</td>\n",
              "      <td>0</td>\n",
              "      <td>0</td>\n",
              "      <td>0</td>\n",
              "      <td>0</td>\n",
              "      <td>1</td>\n",
              "      <td>0</td>\n",
              "    </tr>\n",
              "    <tr>\n",
              "      <th>32538</th>\n",
              "      <td>38</td>\n",
              "      <td>11.843531</td>\n",
              "      <td>13</td>\n",
              "      <td>15020</td>\n",
              "      <td>0</td>\n",
              "      <td>45</td>\n",
              "      <td>1</td>\n",
              "      <td>0</td>\n",
              "      <td>0</td>\n",
              "      <td>0</td>\n",
              "      <td>...</td>\n",
              "      <td>0</td>\n",
              "      <td>0</td>\n",
              "      <td>0</td>\n",
              "      <td>1</td>\n",
              "      <td>0</td>\n",
              "      <td>0</td>\n",
              "      <td>0</td>\n",
              "      <td>0</td>\n",
              "      <td>0</td>\n",
              "      <td>1</td>\n",
              "    </tr>\n",
              "    <tr>\n",
              "      <th>32539</th>\n",
              "      <td>71</td>\n",
              "      <td>12.568536</td>\n",
              "      <td>16</td>\n",
              "      <td>0</td>\n",
              "      <td>0</td>\n",
              "      <td>10</td>\n",
              "      <td>1</td>\n",
              "      <td>1</td>\n",
              "      <td>0</td>\n",
              "      <td>0</td>\n",
              "      <td>...</td>\n",
              "      <td>0</td>\n",
              "      <td>0</td>\n",
              "      <td>0</td>\n",
              "      <td>1</td>\n",
              "      <td>0</td>\n",
              "      <td>0</td>\n",
              "      <td>0</td>\n",
              "      <td>0</td>\n",
              "      <td>0</td>\n",
              "      <td>1</td>\n",
              "    </tr>\n",
              "    <tr>\n",
              "      <th>32540</th>\n",
              "      <td>45</td>\n",
              "      <td>12.438013</td>\n",
              "      <td>9</td>\n",
              "      <td>0</td>\n",
              "      <td>0</td>\n",
              "      <td>40</td>\n",
              "      <td>0</td>\n",
              "      <td>0</td>\n",
              "      <td>0</td>\n",
              "      <td>0</td>\n",
              "      <td>...</td>\n",
              "      <td>0</td>\n",
              "      <td>0</td>\n",
              "      <td>0</td>\n",
              "      <td>1</td>\n",
              "      <td>0</td>\n",
              "      <td>0</td>\n",
              "      <td>0</td>\n",
              "      <td>0</td>\n",
              "      <td>1</td>\n",
              "      <td>0</td>\n",
              "    </tr>\n",
              "    <tr>\n",
              "      <th>32541</th>\n",
              "      <td>41</td>\n",
              "      <td>12.220089</td>\n",
              "      <td>9</td>\n",
              "      <td>0</td>\n",
              "      <td>0</td>\n",
              "      <td>32</td>\n",
              "      <td>0</td>\n",
              "      <td>1</td>\n",
              "      <td>0</td>\n",
              "      <td>0</td>\n",
              "      <td>...</td>\n",
              "      <td>0</td>\n",
              "      <td>0</td>\n",
              "      <td>0</td>\n",
              "      <td>1</td>\n",
              "      <td>0</td>\n",
              "      <td>0</td>\n",
              "      <td>0</td>\n",
              "      <td>0</td>\n",
              "      <td>1</td>\n",
              "      <td>0</td>\n",
              "    </tr>\n",
              "    <tr>\n",
              "      <th>32542</th>\n",
              "      <td>72</td>\n",
              "      <td>11.774620</td>\n",
              "      <td>9</td>\n",
              "      <td>0</td>\n",
              "      <td>0</td>\n",
              "      <td>25</td>\n",
              "      <td>0</td>\n",
              "      <td>1</td>\n",
              "      <td>0</td>\n",
              "      <td>0</td>\n",
              "      <td>...</td>\n",
              "      <td>0</td>\n",
              "      <td>0</td>\n",
              "      <td>0</td>\n",
              "      <td>1</td>\n",
              "      <td>0</td>\n",
              "      <td>0</td>\n",
              "      <td>0</td>\n",
              "      <td>0</td>\n",
              "      <td>1</td>\n",
              "      <td>0</td>\n",
              "    </tr>\n",
              "    <tr>\n",
              "      <th>32543</th>\n",
              "      <td>45</td>\n",
              "      <td>11.688558</td>\n",
              "      <td>12</td>\n",
              "      <td>0</td>\n",
              "      <td>0</td>\n",
              "      <td>48</td>\n",
              "      <td>0</td>\n",
              "      <td>0</td>\n",
              "      <td>0</td>\n",
              "      <td>0</td>\n",
              "      <td>...</td>\n",
              "      <td>0</td>\n",
              "      <td>0</td>\n",
              "      <td>0</td>\n",
              "      <td>1</td>\n",
              "      <td>0</td>\n",
              "      <td>0</td>\n",
              "      <td>0</td>\n",
              "      <td>0</td>\n",
              "      <td>1</td>\n",
              "      <td>0</td>\n",
              "    </tr>\n",
              "    <tr>\n",
              "      <th>32544</th>\n",
              "      <td>31</td>\n",
              "      <td>12.204351</td>\n",
              "      <td>14</td>\n",
              "      <td>0</td>\n",
              "      <td>0</td>\n",
              "      <td>30</td>\n",
              "      <td>0</td>\n",
              "      <td>0</td>\n",
              "      <td>0</td>\n",
              "      <td>0</td>\n",
              "      <td>...</td>\n",
              "      <td>0</td>\n",
              "      <td>0</td>\n",
              "      <td>0</td>\n",
              "      <td>1</td>\n",
              "      <td>0</td>\n",
              "      <td>0</td>\n",
              "      <td>0</td>\n",
              "      <td>0</td>\n",
              "      <td>1</td>\n",
              "      <td>0</td>\n",
              "    </tr>\n",
              "    <tr>\n",
              "      <th>32545</th>\n",
              "      <td>39</td>\n",
              "      <td>11.621780</td>\n",
              "      <td>12</td>\n",
              "      <td>0</td>\n",
              "      <td>0</td>\n",
              "      <td>20</td>\n",
              "      <td>1</td>\n",
              "      <td>0</td>\n",
              "      <td>0</td>\n",
              "      <td>0</td>\n",
              "      <td>...</td>\n",
              "      <td>0</td>\n",
              "      <td>0</td>\n",
              "      <td>0</td>\n",
              "      <td>1</td>\n",
              "      <td>0</td>\n",
              "      <td>0</td>\n",
              "      <td>0</td>\n",
              "      <td>0</td>\n",
              "      <td>0</td>\n",
              "      <td>1</td>\n",
              "    </tr>\n",
              "    <tr>\n",
              "      <th>32546</th>\n",
              "      <td>37</td>\n",
              "      <td>12.197118</td>\n",
              "      <td>12</td>\n",
              "      <td>0</td>\n",
              "      <td>0</td>\n",
              "      <td>40</td>\n",
              "      <td>0</td>\n",
              "      <td>0</td>\n",
              "      <td>0</td>\n",
              "      <td>0</td>\n",
              "      <td>...</td>\n",
              "      <td>0</td>\n",
              "      <td>0</td>\n",
              "      <td>0</td>\n",
              "      <td>1</td>\n",
              "      <td>0</td>\n",
              "      <td>0</td>\n",
              "      <td>0</td>\n",
              "      <td>0</td>\n",
              "      <td>1</td>\n",
              "      <td>0</td>\n",
              "    </tr>\n",
              "    <tr>\n",
              "      <th>32547</th>\n",
              "      <td>43</td>\n",
              "      <td>12.471363</td>\n",
              "      <td>9</td>\n",
              "      <td>0</td>\n",
              "      <td>0</td>\n",
              "      <td>40</td>\n",
              "      <td>0</td>\n",
              "      <td>0</td>\n",
              "      <td>0</td>\n",
              "      <td>0</td>\n",
              "      <td>...</td>\n",
              "      <td>0</td>\n",
              "      <td>0</td>\n",
              "      <td>0</td>\n",
              "      <td>0</td>\n",
              "      <td>0</td>\n",
              "      <td>0</td>\n",
              "      <td>0</td>\n",
              "      <td>0</td>\n",
              "      <td>1</td>\n",
              "      <td>0</td>\n",
              "    </tr>\n",
              "    <tr>\n",
              "      <th>32548</th>\n",
              "      <td>65</td>\n",
              "      <td>11.506505</td>\n",
              "      <td>15</td>\n",
              "      <td>1086</td>\n",
              "      <td>0</td>\n",
              "      <td>60</td>\n",
              "      <td>0</td>\n",
              "      <td>0</td>\n",
              "      <td>0</td>\n",
              "      <td>0</td>\n",
              "      <td>...</td>\n",
              "      <td>0</td>\n",
              "      <td>0</td>\n",
              "      <td>0</td>\n",
              "      <td>1</td>\n",
              "      <td>0</td>\n",
              "      <td>0</td>\n",
              "      <td>0</td>\n",
              "      <td>0</td>\n",
              "      <td>1</td>\n",
              "      <td>0</td>\n",
              "    </tr>\n",
              "    <tr>\n",
              "      <th>32549</th>\n",
              "      <td>43</td>\n",
              "      <td>12.452292</td>\n",
              "      <td>10</td>\n",
              "      <td>0</td>\n",
              "      <td>0</td>\n",
              "      <td>40</td>\n",
              "      <td>0</td>\n",
              "      <td>0</td>\n",
              "      <td>0</td>\n",
              "      <td>0</td>\n",
              "      <td>...</td>\n",
              "      <td>0</td>\n",
              "      <td>0</td>\n",
              "      <td>0</td>\n",
              "      <td>1</td>\n",
              "      <td>0</td>\n",
              "      <td>0</td>\n",
              "      <td>0</td>\n",
              "      <td>0</td>\n",
              "      <td>1</td>\n",
              "      <td>0</td>\n",
              "    </tr>\n",
              "    <tr>\n",
              "      <th>32550</th>\n",
              "      <td>43</td>\n",
              "      <td>10.212552</td>\n",
              "      <td>10</td>\n",
              "      <td>0</td>\n",
              "      <td>0</td>\n",
              "      <td>50</td>\n",
              "      <td>0</td>\n",
              "      <td>0</td>\n",
              "      <td>0</td>\n",
              "      <td>0</td>\n",
              "      <td>...</td>\n",
              "      <td>0</td>\n",
              "      <td>0</td>\n",
              "      <td>0</td>\n",
              "      <td>1</td>\n",
              "      <td>0</td>\n",
              "      <td>0</td>\n",
              "      <td>0</td>\n",
              "      <td>0</td>\n",
              "      <td>1</td>\n",
              "      <td>0</td>\n",
              "    </tr>\n",
              "    <tr>\n",
              "      <th>32551</th>\n",
              "      <td>32</td>\n",
              "      <td>10.436084</td>\n",
              "      <td>6</td>\n",
              "      <td>0</td>\n",
              "      <td>0</td>\n",
              "      <td>40</td>\n",
              "      <td>0</td>\n",
              "      <td>0</td>\n",
              "      <td>0</td>\n",
              "      <td>0</td>\n",
              "      <td>...</td>\n",
              "      <td>0</td>\n",
              "      <td>0</td>\n",
              "      <td>0</td>\n",
              "      <td>1</td>\n",
              "      <td>0</td>\n",
              "      <td>0</td>\n",
              "      <td>0</td>\n",
              "      <td>0</td>\n",
              "      <td>1</td>\n",
              "      <td>0</td>\n",
              "    </tr>\n",
              "    <tr>\n",
              "      <th>32552</th>\n",
              "      <td>43</td>\n",
              "      <td>11.346422</td>\n",
              "      <td>11</td>\n",
              "      <td>0</td>\n",
              "      <td>0</td>\n",
              "      <td>45</td>\n",
              "      <td>0</td>\n",
              "      <td>0</td>\n",
              "      <td>0</td>\n",
              "      <td>0</td>\n",
              "      <td>...</td>\n",
              "      <td>0</td>\n",
              "      <td>0</td>\n",
              "      <td>0</td>\n",
              "      <td>1</td>\n",
              "      <td>0</td>\n",
              "      <td>0</td>\n",
              "      <td>0</td>\n",
              "      <td>0</td>\n",
              "      <td>1</td>\n",
              "      <td>0</td>\n",
              "    </tr>\n",
              "    <tr>\n",
              "      <th>32553</th>\n",
              "      <td>32</td>\n",
              "      <td>11.662543</td>\n",
              "      <td>14</td>\n",
              "      <td>0</td>\n",
              "      <td>0</td>\n",
              "      <td>11</td>\n",
              "      <td>0</td>\n",
              "      <td>0</td>\n",
              "      <td>0</td>\n",
              "      <td>0</td>\n",
              "      <td>...</td>\n",
              "      <td>1</td>\n",
              "      <td>0</td>\n",
              "      <td>0</td>\n",
              "      <td>0</td>\n",
              "      <td>0</td>\n",
              "      <td>0</td>\n",
              "      <td>0</td>\n",
              "      <td>0</td>\n",
              "      <td>1</td>\n",
              "      <td>0</td>\n",
              "    </tr>\n",
              "    <tr>\n",
              "      <th>32554</th>\n",
              "      <td>53</td>\n",
              "      <td>12.681891</td>\n",
              "      <td>14</td>\n",
              "      <td>0</td>\n",
              "      <td>0</td>\n",
              "      <td>40</td>\n",
              "      <td>1</td>\n",
              "      <td>0</td>\n",
              "      <td>0</td>\n",
              "      <td>0</td>\n",
              "      <td>...</td>\n",
              "      <td>0</td>\n",
              "      <td>0</td>\n",
              "      <td>0</td>\n",
              "      <td>1</td>\n",
              "      <td>0</td>\n",
              "      <td>0</td>\n",
              "      <td>0</td>\n",
              "      <td>0</td>\n",
              "      <td>0</td>\n",
              "      <td>1</td>\n",
              "    </tr>\n",
              "    <tr>\n",
              "      <th>32555</th>\n",
              "      <td>22</td>\n",
              "      <td>12.644821</td>\n",
              "      <td>10</td>\n",
              "      <td>0</td>\n",
              "      <td>0</td>\n",
              "      <td>40</td>\n",
              "      <td>0</td>\n",
              "      <td>0</td>\n",
              "      <td>0</td>\n",
              "      <td>0</td>\n",
              "      <td>...</td>\n",
              "      <td>0</td>\n",
              "      <td>0</td>\n",
              "      <td>0</td>\n",
              "      <td>1</td>\n",
              "      <td>0</td>\n",
              "      <td>0</td>\n",
              "      <td>0</td>\n",
              "      <td>0</td>\n",
              "      <td>1</td>\n",
              "      <td>0</td>\n",
              "    </tr>\n",
              "    <tr>\n",
              "      <th>32556</th>\n",
              "      <td>27</td>\n",
              "      <td>12.458010</td>\n",
              "      <td>12</td>\n",
              "      <td>0</td>\n",
              "      <td>0</td>\n",
              "      <td>38</td>\n",
              "      <td>0</td>\n",
              "      <td>0</td>\n",
              "      <td>0</td>\n",
              "      <td>0</td>\n",
              "      <td>...</td>\n",
              "      <td>0</td>\n",
              "      <td>0</td>\n",
              "      <td>0</td>\n",
              "      <td>1</td>\n",
              "      <td>0</td>\n",
              "      <td>0</td>\n",
              "      <td>0</td>\n",
              "      <td>0</td>\n",
              "      <td>1</td>\n",
              "      <td>0</td>\n",
              "    </tr>\n",
              "    <tr>\n",
              "      <th>32557</th>\n",
              "      <td>40</td>\n",
              "      <td>11.947140</td>\n",
              "      <td>9</td>\n",
              "      <td>0</td>\n",
              "      <td>0</td>\n",
              "      <td>40</td>\n",
              "      <td>1</td>\n",
              "      <td>0</td>\n",
              "      <td>0</td>\n",
              "      <td>0</td>\n",
              "      <td>...</td>\n",
              "      <td>0</td>\n",
              "      <td>0</td>\n",
              "      <td>0</td>\n",
              "      <td>1</td>\n",
              "      <td>0</td>\n",
              "      <td>0</td>\n",
              "      <td>0</td>\n",
              "      <td>0</td>\n",
              "      <td>0</td>\n",
              "      <td>1</td>\n",
              "    </tr>\n",
              "    <tr>\n",
              "      <th>32558</th>\n",
              "      <td>58</td>\n",
              "      <td>11.931050</td>\n",
              "      <td>9</td>\n",
              "      <td>0</td>\n",
              "      <td>0</td>\n",
              "      <td>40</td>\n",
              "      <td>0</td>\n",
              "      <td>0</td>\n",
              "      <td>0</td>\n",
              "      <td>0</td>\n",
              "      <td>...</td>\n",
              "      <td>0</td>\n",
              "      <td>0</td>\n",
              "      <td>0</td>\n",
              "      <td>1</td>\n",
              "      <td>0</td>\n",
              "      <td>0</td>\n",
              "      <td>0</td>\n",
              "      <td>0</td>\n",
              "      <td>1</td>\n",
              "      <td>0</td>\n",
              "    </tr>\n",
              "    <tr>\n",
              "      <th>32559</th>\n",
              "      <td>22</td>\n",
              "      <td>12.213500</td>\n",
              "      <td>9</td>\n",
              "      <td>0</td>\n",
              "      <td>0</td>\n",
              "      <td>20</td>\n",
              "      <td>0</td>\n",
              "      <td>0</td>\n",
              "      <td>0</td>\n",
              "      <td>0</td>\n",
              "      <td>...</td>\n",
              "      <td>0</td>\n",
              "      <td>0</td>\n",
              "      <td>0</td>\n",
              "      <td>1</td>\n",
              "      <td>0</td>\n",
              "      <td>0</td>\n",
              "      <td>0</td>\n",
              "      <td>0</td>\n",
              "      <td>1</td>\n",
              "      <td>0</td>\n",
              "    </tr>\n",
              "    <tr>\n",
              "      <th>32560</th>\n",
              "      <td>52</td>\n",
              "      <td>12.570466</td>\n",
              "      <td>9</td>\n",
              "      <td>15024</td>\n",
              "      <td>0</td>\n",
              "      <td>40</td>\n",
              "      <td>1</td>\n",
              "      <td>0</td>\n",
              "      <td>0</td>\n",
              "      <td>0</td>\n",
              "      <td>...</td>\n",
              "      <td>0</td>\n",
              "      <td>0</td>\n",
              "      <td>0</td>\n",
              "      <td>1</td>\n",
              "      <td>0</td>\n",
              "      <td>0</td>\n",
              "      <td>0</td>\n",
              "      <td>0</td>\n",
              "      <td>0</td>\n",
              "      <td>1</td>\n",
              "    </tr>\n",
              "  </tbody>\n",
              "</table>\n",
              "<p>32561 rows × 208 columns</p>\n",
              "</div>"
            ],
            "text/plain": [
              "       age     fnlwgt  education_num  capital_gain  capital_loss  \\\n",
              "0       39  11.258253             13          2174             0   \n",
              "1       50  11.330348             13             0             0   \n",
              "2       38  12.281398              9             0             0   \n",
              "3       53  12.366157              7             0             0   \n",
              "4       28  12.732013             13             0             0   \n",
              "5       37  12.558780             14             0             0   \n",
              "6       49  11.984103              5             0             0   \n",
              "7       52  12.253161              9             0             0   \n",
              "8       31  10.731646             14         14084             0   \n",
              "9       42  11.979486             13          5178             0   \n",
              "10      37  12.544204             10             0             0   \n",
              "11      30  11.858626             13             0             0   \n",
              "12      23  11.714012             13             0             0   \n",
              "13      32  12.230863             12             0             0   \n",
              "14      40  11.709914             11             0             0   \n",
              "15      34  12.411003              4             0             0   \n",
              "16      25  12.082531              9             0             0   \n",
              "17      32  12.137928              9             0             0   \n",
              "18      38  10.271182              7             0             0   \n",
              "19      43  12.585112             14             0             0   \n",
              "20      40  12.173162             16             0             0   \n",
              "21      54  12.618669              9             0             0   \n",
              "22      35  11.249559              5             0             0   \n",
              "23      43  11.670254              7             0          2042   \n",
              "24      59  11.599250              9             0             0   \n",
              "25      56  12.286970             13             0             0   \n",
              "26      19  12.033474              9             0             0   \n",
              "27      54  12.101889             10             0             0   \n",
              "28      39  12.813828              9             0             0   \n",
              "29      49  12.172345              9             0             0   \n",
              "...    ...        ...            ...           ...           ...   \n",
              "32531   30  10.428571             13             0             0   \n",
              "32532   34  12.228137             16             0             0   \n",
              "32533   54  12.730780             13             0             0   \n",
              "32534   37  12.095912             10             0             0   \n",
              "32535   22  12.691685              8             0             0   \n",
              "32536   34  11.984284             13             0             0   \n",
              "32537   30  12.753902              9             0             0   \n",
              "32538   38  11.843531             13         15020             0   \n",
              "32539   71  12.568536             16             0             0   \n",
              "32540   45  12.438013              9             0             0   \n",
              "32541   41  12.220089              9             0             0   \n",
              "32542   72  11.774620              9             0             0   \n",
              "32543   45  11.688558             12             0             0   \n",
              "32544   31  12.204351             14             0             0   \n",
              "32545   39  11.621780             12             0             0   \n",
              "32546   37  12.197118             12             0             0   \n",
              "32547   43  12.471363              9             0             0   \n",
              "32548   65  11.506505             15          1086             0   \n",
              "32549   43  12.452292             10             0             0   \n",
              "32550   43  10.212552             10             0             0   \n",
              "32551   32  10.436084              6             0             0   \n",
              "32552   43  11.346422             11             0             0   \n",
              "32553   32  11.662543             14             0             0   \n",
              "32554   53  12.681891             14             0             0   \n",
              "32555   22  12.644821             10             0             0   \n",
              "32556   27  12.458010             12             0             0   \n",
              "32557   40  11.947140              9             0             0   \n",
              "32558   58  11.931050              9             0             0   \n",
              "32559   22  12.213500              9             0             0   \n",
              "32560   52  12.570466              9         15024             0   \n",
              "\n",
              "       hours_per_week  label  workclass: 0  workclass: Federal-gov  \\\n",
              "0                  40      0             0                       0   \n",
              "1                  13      0             0                       0   \n",
              "2                  40      0             0                       0   \n",
              "3                  40      0             0                       0   \n",
              "4                  40      0             0                       0   \n",
              "5                  40      0             0                       0   \n",
              "6                  16      0             0                       0   \n",
              "7                  45      1             0                       0   \n",
              "8                  50      1             0                       0   \n",
              "9                  40      1             0                       0   \n",
              "10                 80      1             0                       0   \n",
              "11                 40      1             0                       0   \n",
              "12                 30      0             0                       0   \n",
              "13                 50      0             0                       0   \n",
              "14                 40      1             0                       0   \n",
              "15                 45      0             0                       0   \n",
              "16                 35      0             0                       0   \n",
              "17                 40      0             0                       0   \n",
              "18                 50      0             0                       0   \n",
              "19                 45      1             0                       0   \n",
              "20                 60      1             0                       0   \n",
              "21                 20      0             0                       0   \n",
              "22                 40      0             0                       0   \n",
              "23                 40      0             0                       0   \n",
              "24                 40      0             0                       0   \n",
              "25                 40      1             0                       0   \n",
              "26                 40      0             0                       0   \n",
              "27                 60      1             1                       0   \n",
              "28                 80      0             0                       0   \n",
              "29                 40      0             0                       0   \n",
              "...               ...    ...           ...                     ...   \n",
              "32531              99      0             1                       0   \n",
              "32532              60      1             0                       0   \n",
              "32533              50      1             0                       0   \n",
              "32534              39      0             0                       0   \n",
              "32535              35      0             0                       0   \n",
              "32536              55      1             0                       0   \n",
              "32537              46      0             0                       0   \n",
              "32538              45      1             0                       0   \n",
              "32539              10      1             1                       0   \n",
              "32540              40      0             0                       0   \n",
              "32541              32      0             1                       0   \n",
              "32542              25      0             1                       0   \n",
              "32543              48      0             0                       0   \n",
              "32544              30      0             0                       0   \n",
              "32545              20      1             0                       0   \n",
              "32546              40      0             0                       0   \n",
              "32547              40      0             0                       0   \n",
              "32548              60      0             0                       0   \n",
              "32549              40      0             0                       0   \n",
              "32550              50      0             0                       0   \n",
              "32551              40      0             0                       0   \n",
              "32552              45      0             0                       0   \n",
              "32553              11      0             0                       0   \n",
              "32554              40      1             0                       0   \n",
              "32555              40      0             0                       0   \n",
              "32556              38      0             0                       0   \n",
              "32557              40      1             0                       0   \n",
              "32558              40      0             0                       0   \n",
              "32559              20      0             0                       0   \n",
              "32560              40      1             0                       0   \n",
              "\n",
              "       workclass: Local-gov         ...           native_country:Taiwan  \\\n",
              "0                         0         ...                               0   \n",
              "1                         0         ...                               0   \n",
              "2                         0         ...                               0   \n",
              "3                         0         ...                               0   \n",
              "4                         0         ...                               0   \n",
              "5                         0         ...                               0   \n",
              "6                         0         ...                               0   \n",
              "7                         0         ...                               0   \n",
              "8                         0         ...                               0   \n",
              "9                         0         ...                               0   \n",
              "10                        0         ...                               0   \n",
              "11                        0         ...                               0   \n",
              "12                        0         ...                               0   \n",
              "13                        0         ...                               0   \n",
              "14                        0         ...                               0   \n",
              "15                        0         ...                               0   \n",
              "16                        0         ...                               0   \n",
              "17                        0         ...                               0   \n",
              "18                        0         ...                               0   \n",
              "19                        0         ...                               0   \n",
              "20                        0         ...                               0   \n",
              "21                        0         ...                               0   \n",
              "22                        0         ...                               0   \n",
              "23                        0         ...                               0   \n",
              "24                        0         ...                               0   \n",
              "25                        0         ...                               0   \n",
              "26                        0         ...                               0   \n",
              "27                        0         ...                               0   \n",
              "28                        0         ...                               0   \n",
              "29                        0         ...                               0   \n",
              "...                     ...         ...                             ...   \n",
              "32531                     0         ...                               0   \n",
              "32532                     0         ...                               0   \n",
              "32533                     0         ...                               0   \n",
              "32534                     0         ...                               0   \n",
              "32535                     0         ...                               0   \n",
              "32536                     0         ...                               0   \n",
              "32537                     0         ...                               0   \n",
              "32538                     0         ...                               0   \n",
              "32539                     0         ...                               0   \n",
              "32540                     0         ...                               0   \n",
              "32541                     0         ...                               0   \n",
              "32542                     0         ...                               0   \n",
              "32543                     0         ...                               0   \n",
              "32544                     0         ...                               0   \n",
              "32545                     0         ...                               0   \n",
              "32546                     0         ...                               0   \n",
              "32547                     0         ...                               0   \n",
              "32548                     0         ...                               0   \n",
              "32549                     0         ...                               0   \n",
              "32550                     0         ...                               0   \n",
              "32551                     0         ...                               0   \n",
              "32552                     0         ...                               0   \n",
              "32553                     0         ...                               1   \n",
              "32554                     0         ...                               0   \n",
              "32555                     0         ...                               0   \n",
              "32556                     0         ...                               0   \n",
              "32557                     0         ...                               0   \n",
              "32558                     0         ...                               0   \n",
              "32559                     0         ...                               0   \n",
              "32560                     0         ...                               0   \n",
              "\n",
              "       native_country:Thailand  native_country:Trinadad&Tobago  \\\n",
              "0                            0                               0   \n",
              "1                            0                               0   \n",
              "2                            0                               0   \n",
              "3                            0                               0   \n",
              "4                            0                               0   \n",
              "5                            0                               0   \n",
              "6                            0                               0   \n",
              "7                            0                               0   \n",
              "8                            0                               0   \n",
              "9                            0                               0   \n",
              "10                           0                               0   \n",
              "11                           0                               0   \n",
              "12                           0                               0   \n",
              "13                           0                               0   \n",
              "14                           0                               0   \n",
              "15                           0                               0   \n",
              "16                           0                               0   \n",
              "17                           0                               0   \n",
              "18                           0                               0   \n",
              "19                           0                               0   \n",
              "20                           0                               0   \n",
              "21                           0                               0   \n",
              "22                           0                               0   \n",
              "23                           0                               0   \n",
              "24                           0                               0   \n",
              "25                           0                               0   \n",
              "26                           0                               0   \n",
              "27                           0                               0   \n",
              "28                           0                               0   \n",
              "29                           0                               0   \n",
              "...                        ...                             ...   \n",
              "32531                        0                               0   \n",
              "32532                        0                               0   \n",
              "32533                        0                               0   \n",
              "32534                        0                               0   \n",
              "32535                        0                               0   \n",
              "32536                        0                               0   \n",
              "32537                        0                               0   \n",
              "32538                        0                               0   \n",
              "32539                        0                               0   \n",
              "32540                        0                               0   \n",
              "32541                        0                               0   \n",
              "32542                        0                               0   \n",
              "32543                        0                               0   \n",
              "32544                        0                               0   \n",
              "32545                        0                               0   \n",
              "32546                        0                               0   \n",
              "32547                        0                               0   \n",
              "32548                        0                               0   \n",
              "32549                        0                               0   \n",
              "32550                        0                               0   \n",
              "32551                        0                               0   \n",
              "32552                        0                               0   \n",
              "32553                        0                               0   \n",
              "32554                        0                               0   \n",
              "32555                        0                               0   \n",
              "32556                        0                               0   \n",
              "32557                        0                               0   \n",
              "32558                        0                               0   \n",
              "32559                        0                               0   \n",
              "32560                        0                               0   \n",
              "\n",
              "       native_country:United-States  native_country:Vietnam  \\\n",
              "0                                 1                       0   \n",
              "1                                 1                       0   \n",
              "2                                 1                       0   \n",
              "3                                 1                       0   \n",
              "4                                 0                       0   \n",
              "5                                 1                       0   \n",
              "6                                 0                       0   \n",
              "7                                 1                       0   \n",
              "8                                 1                       0   \n",
              "9                                 1                       0   \n",
              "10                                1                       0   \n",
              "11                                0                       0   \n",
              "12                                1                       0   \n",
              "13                                1                       0   \n",
              "14                                0                       0   \n",
              "15                                0                       0   \n",
              "16                                1                       0   \n",
              "17                                1                       0   \n",
              "18                                1                       0   \n",
              "19                                1                       0   \n",
              "20                                1                       0   \n",
              "21                                1                       0   \n",
              "22                                1                       0   \n",
              "23                                1                       0   \n",
              "24                                1                       0   \n",
              "25                                1                       0   \n",
              "26                                1                       0   \n",
              "27                                0                       0   \n",
              "28                                1                       0   \n",
              "29                                1                       0   \n",
              "...                             ...                     ...   \n",
              "32531                             1                       0   \n",
              "32532                             1                       0   \n",
              "32533                             0                       0   \n",
              "32534                             1                       0   \n",
              "32535                             1                       0   \n",
              "32536                             1                       0   \n",
              "32537                             1                       0   \n",
              "32538                             1                       0   \n",
              "32539                             1                       0   \n",
              "32540                             1                       0   \n",
              "32541                             1                       0   \n",
              "32542                             1                       0   \n",
              "32543                             1                       0   \n",
              "32544                             1                       0   \n",
              "32545                             1                       0   \n",
              "32546                             1                       0   \n",
              "32547                             0                       0   \n",
              "32548                             1                       0   \n",
              "32549                             1                       0   \n",
              "32550                             1                       0   \n",
              "32551                             1                       0   \n",
              "32552                             1                       0   \n",
              "32553                             0                       0   \n",
              "32554                             1                       0   \n",
              "32555                             1                       0   \n",
              "32556                             1                       0   \n",
              "32557                             1                       0   \n",
              "32558                             1                       0   \n",
              "32559                             1                       0   \n",
              "32560                             1                       0   \n",
              "\n",
              "       native_country:Yugoslavia  income_bracket: <=50K.  \\\n",
              "0                              0                       0   \n",
              "1                              0                       0   \n",
              "2                              0                       0   \n",
              "3                              0                       0   \n",
              "4                              0                       0   \n",
              "5                              0                       0   \n",
              "6                              0                       0   \n",
              "7                              0                       0   \n",
              "8                              0                       0   \n",
              "9                              0                       0   \n",
              "10                             0                       0   \n",
              "11                             0                       0   \n",
              "12                             0                       0   \n",
              "13                             0                       0   \n",
              "14                             0                       0   \n",
              "15                             0                       0   \n",
              "16                             0                       0   \n",
              "17                             0                       0   \n",
              "18                             0                       0   \n",
              "19                             0                       0   \n",
              "20                             0                       0   \n",
              "21                             0                       0   \n",
              "22                             0                       0   \n",
              "23                             0                       0   \n",
              "24                             0                       0   \n",
              "25                             0                       0   \n",
              "26                             0                       0   \n",
              "27                             0                       0   \n",
              "28                             0                       0   \n",
              "29                             0                       0   \n",
              "...                          ...                     ...   \n",
              "32531                          0                       0   \n",
              "32532                          0                       0   \n",
              "32533                          0                       0   \n",
              "32534                          0                       0   \n",
              "32535                          0                       0   \n",
              "32536                          0                       0   \n",
              "32537                          0                       0   \n",
              "32538                          0                       0   \n",
              "32539                          0                       0   \n",
              "32540                          0                       0   \n",
              "32541                          0                       0   \n",
              "32542                          0                       0   \n",
              "32543                          0                       0   \n",
              "32544                          0                       0   \n",
              "32545                          0                       0   \n",
              "32546                          0                       0   \n",
              "32547                          0                       0   \n",
              "32548                          0                       0   \n",
              "32549                          0                       0   \n",
              "32550                          0                       0   \n",
              "32551                          0                       0   \n",
              "32552                          0                       0   \n",
              "32553                          0                       0   \n",
              "32554                          0                       0   \n",
              "32555                          0                       0   \n",
              "32556                          0                       0   \n",
              "32557                          0                       0   \n",
              "32558                          0                       0   \n",
              "32559                          0                       0   \n",
              "32560                          0                       0   \n",
              "\n",
              "       income_bracket: >50K.  income_bracket:<=50K  income_bracket:>50K  \n",
              "0                          0                     1                    0  \n",
              "1                          0                     1                    0  \n",
              "2                          0                     1                    0  \n",
              "3                          0                     1                    0  \n",
              "4                          0                     1                    0  \n",
              "5                          0                     1                    0  \n",
              "6                          0                     1                    0  \n",
              "7                          0                     0                    1  \n",
              "8                          0                     0                    1  \n",
              "9                          0                     0                    1  \n",
              "10                         0                     0                    1  \n",
              "11                         0                     0                    1  \n",
              "12                         0                     1                    0  \n",
              "13                         0                     1                    0  \n",
              "14                         0                     0                    1  \n",
              "15                         0                     1                    0  \n",
              "16                         0                     1                    0  \n",
              "17                         0                     1                    0  \n",
              "18                         0                     1                    0  \n",
              "19                         0                     0                    1  \n",
              "20                         0                     0                    1  \n",
              "21                         0                     1                    0  \n",
              "22                         0                     1                    0  \n",
              "23                         0                     1                    0  \n",
              "24                         0                     1                    0  \n",
              "25                         0                     0                    1  \n",
              "26                         0                     1                    0  \n",
              "27                         0                     0                    1  \n",
              "28                         0                     1                    0  \n",
              "29                         0                     1                    0  \n",
              "...                      ...                   ...                  ...  \n",
              "32531                      0                     1                    0  \n",
              "32532                      0                     0                    1  \n",
              "32533                      0                     0                    1  \n",
              "32534                      0                     1                    0  \n",
              "32535                      0                     1                    0  \n",
              "32536                      0                     0                    1  \n",
              "32537                      0                     1                    0  \n",
              "32538                      0                     0                    1  \n",
              "32539                      0                     0                    1  \n",
              "32540                      0                     1                    0  \n",
              "32541                      0                     1                    0  \n",
              "32542                      0                     1                    0  \n",
              "32543                      0                     1                    0  \n",
              "32544                      0                     1                    0  \n",
              "32545                      0                     0                    1  \n",
              "32546                      0                     1                    0  \n",
              "32547                      0                     1                    0  \n",
              "32548                      0                     1                    0  \n",
              "32549                      0                     1                    0  \n",
              "32550                      0                     1                    0  \n",
              "32551                      0                     1                    0  \n",
              "32552                      0                     1                    0  \n",
              "32553                      0                     1                    0  \n",
              "32554                      0                     0                    1  \n",
              "32555                      0                     1                    0  \n",
              "32556                      0                     1                    0  \n",
              "32557                      0                     0                    1  \n",
              "32558                      0                     1                    0  \n",
              "32559                      0                     1                    0  \n",
              "32560                      0                     0                    1  \n",
              "\n",
              "[32561 rows x 208 columns]"
            ]
          },
          "metadata": {
            "tags": []
          },
          "execution_count": 245
        }
      ]
    },
    {
      "metadata": {
        "id": "0V9H-m43Dck7",
        "colab_type": "code",
        "colab": {}
      },
      "cell_type": "code",
      "source": [
        "#We devide data frame into features and targets. Then standarize features.\n",
        "Xtrain = train_data.drop('label', axis=1)\n",
        "Ttrain = train_data['label']\n",
        "Xtest = test_data.drop('label', axis=1)\n",
        "Ttest = test_data['label']\n",
        "\n",
        "scaler = StandardScaler()\n",
        "scaler.fit(Xtrain)\n",
        "Xtrain = scaler.transform(Xtrain)\n",
        "Xtest = scaler.transform(Xtest)"
      ],
      "execution_count": 0,
      "outputs": []
    },
    {
      "metadata": {
        "id": "JlDZ--IjEuCx",
        "colab_type": "code",
        "colab": {}
      },
      "cell_type": "code",
      "source": [
        "#Logistic regression data prediction\n",
        "from sklearn.linear_model import LogisticRegression\n",
        "from sklearn.metrics import classification_report\n",
        "\n",
        "\n",
        "model = LogisticRegression()\n",
        "model.fit(Xtrain, Ttrain)\n",
        "\n",
        "Ytrain = model.predict(Xtrain)\n",
        "Ytest = model.predict(Xtest)"
      ],
      "execution_count": 0,
      "outputs": []
    },
    {
      "metadata": {
        "id": "QAX6hdGdEgjJ",
        "colab_type": "code",
        "colab": {
          "base_uri": "https://localhost:8080/",
          "height": 170
        },
        "outputId": "48d25310-e804-4911-fc2e-90e653fa9a67"
      },
      "cell_type": "code",
      "source": [
        "print(classification_report(Ttrain, Ytrain))"
      ],
      "execution_count": 249,
      "outputs": [
        {
          "output_type": "stream",
          "text": [
            "              precision    recall  f1-score   support\n",
            "\n",
            "           0       1.00      1.00      1.00     24720\n",
            "           1       1.00      1.00      1.00      7841\n",
            "\n",
            "   micro avg       1.00      1.00      1.00     32561\n",
            "   macro avg       1.00      1.00      1.00     32561\n",
            "weighted avg       1.00      1.00      1.00     32561\n",
            "\n"
          ],
          "name": "stdout"
        }
      ]
    },
    {
      "metadata": {
        "id": "vyZuLUstLUjI",
        "colab_type": "code",
        "colab": {
          "base_uri": "https://localhost:8080/",
          "height": 170
        },
        "outputId": "57e49b5d-cbc3-43e3-d28b-c11f6c3cb88f"
      },
      "cell_type": "code",
      "source": [
        "print(classification_report(Ttest, Ytest))"
      ],
      "execution_count": 250,
      "outputs": [
        {
          "output_type": "stream",
          "text": [
            "              precision    recall  f1-score   support\n",
            "\n",
            "           0       1.00      0.24      0.38     16281\n",
            "           1       0.00      0.00      0.00         0\n",
            "\n",
            "   micro avg       0.24      0.24      0.24     16281\n",
            "   macro avg       0.50      0.12      0.19     16281\n",
            "weighted avg       1.00      0.24      0.38     16281\n",
            "\n"
          ],
          "name": "stdout"
        }
      ]
    },
    {
      "metadata": {
        "id": "88KARmfCX_58",
        "colab_type": "text"
      },
      "cell_type": "markdown",
      "source": [
        "\n",
        "Understanding Logistic classifier \n",
        "the following links will be of help for begginners\n",
        "\n",
        "1.   https://medium.com/@martinpella/logistic-regression-from-scratch-in-python-124c5636b8ac\n",
        "\n",
        "2.   https://blog.goodaudience.com/logistic-regression-from-scratch-in-numpy-5841c09e425f\n",
        "\n",
        "3.  https://becominghuman.ai/logistic-regression-in-python-from-scratch-954c0196d258\n",
        " \n",
        "4.   https://www.kaggle.com/jeppbautista/logistic-regression-from-scratch-python\n",
        "\n",
        "\n",
        "Own Logistic Regression\n",
        "\n",
        "In this assignment, you are expected to implement logistic regression and get a good understanding of the key components of logistic regression:\n",
        "\n",
        "\n",
        "\n",
        ">hypothesis function\n",
        "\n",
        "\n",
        "> cost function\n",
        "\n",
        "\n",
        "> decision boundary\n",
        "\n",
        "> gradient descent algorithm\n",
        "\n",
        "\n",
        "Finally, compare the result you got from built-in model versus your own implementation on various metrics.\n",
        "\n",
        "Background\n",
        "\n",
        "The logistic regression model is to determine whether a set of inputs is a specific binary classification of 0 or 1.\n",
        "\n",
        "Y can either be 0 or 1, so that p(y=1) + p(y=0) = 1\n",
        "\n",
        "Linear Regression Background\n",
        "\n",
        "The multivariate linear regression equation is:\n",
        "\n",
        "$Y = \\beta_0 x_0 + \\beta_1 x_1 + \\beta_2 x_2 + ... + \\beta_n x_n$\n",
        "\n",
        "where:\n",
        "\n",
        " $x_0$ = 1\n",
        " $\\beta$ is the standardised regression coefficients or beta weights \n",
        " applied to each $x$ feature value, including the bias $\\beta_0$. \n",
        " $\\beta$ weights are the estimates resulting from regression analysis that typically have been standardised so the variances of dependent and independent variables are 1 - i.e. how many standard deviations the dependent (Y) variable changes.\n",
        "This reduces to:\n",
        "\n",
        "$Y = \\beta_0 + \\beta_1 x_1 + \\beta_2 x_2 + ... + \\beta_n x_n$\n",
        "which can also be written as $\\beta$ Transpose $x$:\n",
        "\n",
        "$Y = \\beta^Tx$\n",
        "where:\n",
        "\n",
        "$x$ is the feature vector with $x_0 = 1$\n",
        "\\\n",
        "\n",
        "The hypothesis of linear regression is represented with the unknown parameters $\\theta$ instead of $\\beta$:\n",
        "\n",
        "$h_\\theta(x) = \\theta_0 + \\theta_1 x_1  + \\theta_2 x_2  + ... + \\theta_n x_n$\n",
        "Which can be written as $\\theta$ Transpose $x$:\n",
        "\n",
        "$h_\\theta(x) = \\theta^Tx$\n",
        "where:\n",
        "\n",
        "$\\theta$ is the regression model's unknown parameter/weight vector for $x_n$, including the bias $\\theta_0$\n",
        "$x$ is the feature vector with $x_0 = 1$\n",
        "\\\n",
        "\n",
        "Logistic Regression Hypothesis Function\n",
        "There are only two feature values: $x_1$ and $x_2$ in this logistic regression.\n",
        "\n",
        "The hypothesis function is the estimated probability that y=1 on a given input x, parameterised by $\\theta$.\n",
        "\n",
        "$h_\\theta(x) = \\theta_0 + \\theta_1 x_1  + \\theta_2 x_2$\n",
        "which can still be written as $\\theta$ Transpose $x$:\n",
        "\n",
        "$h_\\theta(x) = \\theta^Tx$\n",
        "where:\n",
        "\n",
        "$x$ is the feature vector with $x_0 = 1$\n",
        "\\\n",
        "\n",
        "The logistic function being binary means we can use the Sigmoid function to return a value from 0 to 1:\n",
        "\n",
        "$h_\\theta(x) = \\sigma(\\theta^Tx)$\n",
        "And the Sigmoid function is:\n",
        "\n",
        "$\\sigma(z) =  \\frac{1}{1 + e^{-z} }$\n",
        "And combining the maths, the hypothesis function is:\n",
        "\n",
        "$h_\\theta(x) = \\frac{1}{1 + e^{-\\theta^Tx}}$\n",
        "where:\n",
        "\n",
        "if $\\theta^Tx$ > 0, then $h_\\theta(x) &gt; 0.5$\n",
        "if $\\theta^Tx$ < 0, then $h_\\theta(x) &lt; 0.5$\n",
        "\\\n",
        "\n",
        "In the code below, the following terminology is equivalent:\n",
        "\n",
        "features\n",
        "\n",
        "x\n",
        "feature vector\n",
        "\n",
        "set of feature values\n",
        "\n",
        "independent variables\n",
        "\n",
        "\n",
        "weights\n",
        "\n",
        "\n",
        ">theta\n",
        "\n",
        "> beta\n",
        "\n",
        ">beta weights\n",
        "\n",
        "> standardised regression coefficients\n",
        "\n",
        "\n",
        "\n",
        "\n",
        "\n",
        "\n",
        "\n",
        "\n",
        "\n",
        "\n",
        "\n",
        "\n",
        "\n",
        "\n",
        "\n",
        "\n",
        "labels\n",
        "\n",
        "> y\n",
        "\n"
      ]
    },
    {
      "metadata": {
        "id": "oun7o7DdOwlL",
        "colab_type": "code",
        "colab": {}
      },
      "cell_type": "code",
      "source": [
        "def sigmoid(z):\n",
        "  '''\n",
        "  Returns the sigmoid of z.\n",
        "  Given the logit (AKA the log of the odds), then the sigmoid inverses the log and returns the original value of the odds.\n",
        "  '''\n",
        "  return 1 / (1 + np.exp(-z))\n",
        "\n",
        "\n",
        "def predict(features, weights):\n",
        "  '''\n",
        "  Returns a 1D array of probabilities that the class label is True/Yes/1\n",
        "  The dot product of the features (True or False) and theta/beta/weights (B_k) will give us the logit(p), which is B0 + B1 True + B2 False\n",
        "  The sigmoid inverses the logit to give us p, the probability.\n",
        "  '''\n",
        "  return sigmoid( np.dot(features, weights) )"
      ],
      "execution_count": 0,
      "outputs": []
    },
    {
      "metadata": {
        "id": "nBQ83cS8O6iO",
        "colab_type": "text"
      },
      "cell_type": "markdown",
      "source": [
        "Cost function\n",
        "\n",
        "Cross entropy / log loss is used in Logistic Regression.\n",
        "\n",
        "There are two cost functions in logistic regression:\n",
        "\n",
        "if y=1 : $cost(h_\\theta(x), y) = -log(h_\\theta(x))$\n",
        "if y=0 : $cost(h_\\theta(x), y) = -log(1 - h_\\theta(x))$\n",
        "Note: this means that reducing confident wrong predictions is more beneficial for obtaining a higher score"
      ]
    },
    {
      "metadata": {
        "id": "qToxfzAfPA2g",
        "colab_type": "code",
        "colab": {}
      },
      "cell_type": "code",
      "source": [
        "def cost_function_for_all_training_samples(features, labels, weights):\n",
        "  m = features.shape[0]  # m = number of samples\n",
        "  predictions = predict(features, weights)\n",
        "  return -(1/m) * np.sum( labels*np.log(predictions) + (1-labels)*np.log(1-predictions) )"
      ],
      "execution_count": 0,
      "outputs": []
    },
    {
      "metadata": {
        "id": "TtmgdmuBPF7z",
        "colab_type": "text"
      },
      "cell_type": "markdown",
      "source": [
        "Decision boundary\n",
        "\n",
        "With Sigmoid ranging from 0 to 1, the probability of 0.5 can be used as the decision boundary or threshold to determine the classes."
      ]
    },
    {
      "metadata": {
        "id": "e4mN59XFPIDM",
        "colab_type": "code",
        "colab": {}
      },
      "cell_type": "code",
      "source": [
        "def decision_boundary(probability, threshold=0.5):\n",
        "  return 1 if probability >= threshold else 0"
      ],
      "execution_count": 0,
      "outputs": []
    },
    {
      "metadata": {
        "id": "Umho6aEMPfyn",
        "colab_type": "text"
      },
      "cell_type": "markdown",
      "source": [
        "Gradient descent"
      ]
    },
    {
      "metadata": {
        "id": "PUXb1p9FPhMr",
        "colab_type": "code",
        "colab": {}
      },
      "cell_type": "code",
      "source": [
        "def calculate_gradient(features, labels, weights):\n",
        "    predictions = predict(features, weights)\n",
        "    matrixOfAggregateSlopeOfCostFunction = np.dot(features.T, predictions - labels)\n",
        "    return matrixOfAggregateSlopeOfCostFunction\n",
        "  \n",
        "\n",
        "def update_weights(features, labels, weights, lr):\n",
        "\n",
        "    matrixOfAggregateSlopeOfCostFunction = calculate_gradient(features, labels, weights)\n",
        "\n",
        "    m = len(features)\n",
        "    averageCostDerivativeForEachFeature = matrixOfAggregateSlopeOfCostFunction / m\n",
        "\n",
        "    gradient = averageCostDerivativeForEachFeature * lr\n",
        "\n",
        "    return weights - gradient\n",
        "\n",
        "\n",
        "def fit(features, labels, weights, lr, iterations):\n",
        "\n",
        "    for i in range(iterations):\n",
        "        weights = update_weights(features, labels, weights, lr)\n",
        "\n",
        "        # Log Progress\n",
        "        if i % 100 == 0:\n",
        "          cost = cost_function_for_all_training_samples(features, labels, weights)\n",
        "          print(\"iteration:\", str(i), \"cost:\", str(cost))\n",
        "\n",
        "    return weights\n",
        "  \n",
        "  \n",
        "def classify(predictions):\n",
        "  '''\n",
        "  input  - N element array of predictions between 0 and 1\n",
        "  output - N element array of 0s (False) and 1s (True)\n",
        "  '''\n",
        "  decide = np.vectorize(decision_boundary)\n",
        "  return decide(predictions).flatten()"
      ],
      "execution_count": 0,
      "outputs": []
    },
    {
      "metadata": {
        "id": "xXL_p7sKPvE2",
        "colab_type": "code",
        "colab": {}
      },
      "cell_type": "code",
      "source": [
        "initial_weights = [0] * x_train.shape[1]\n",
        "lr = 0.2\n",
        "iterations = 3001\n",
        "\n",
        "weights = fit(x_train, y_train, initial_weights, lr, iterations)"
      ],
      "execution_count": 0,
      "outputs": []
    },
    {
      "metadata": {
        "id": "9KY8Dn43PzQ6",
        "colab_type": "code",
        "colab": {}
      },
      "cell_type": "code",
      "source": [
        "y_train_probabilities = predict(x_train, weights).flatten()\n",
        "y_train_pred = classify(y_train_probabilities)\n",
        "\n",
        "accuracy_score(y_train_pred, y_train)"
      ],
      "execution_count": 0,
      "outputs": []
    },
    {
      "metadata": {
        "id": "FfX6OeD4P94O",
        "colab_type": "text"
      },
      "cell_type": "markdown",
      "source": [
        "\n",
        "Final Result\n",
        "My regression scored 0.82 and the scikit learn one scored 0.84.\n",
        "\n",
        "For 0, this was slightly more precise, but with worse recall and f1-score.\n",
        "For 1, this was less precise but had a better recall and f1-score."
      ]
    },
    {
      "metadata": {
        "id": "9CLT4recQDCZ",
        "colab_type": "code",
        "colab": {}
      },
      "cell_type": "code",
      "source": [
        "y_test_probabilities = predict(x_test, weights).flatten()\n",
        "y_test_pred = classify(y_test_probabilities)\n",
        "\n",
        "accuracy_score(y_test_pred, y_test)"
      ],
      "execution_count": 0,
      "outputs": []
    },
    {
      "metadata": {
        "id": "7IHyMMI2QHTk",
        "colab_type": "code",
        "colab": {}
      },
      "cell_type": "code",
      "source": [
        "print(classification_report(y_test, y_test_pred))"
      ],
      "execution_count": 0,
      "outputs": []
    }
  ]
}